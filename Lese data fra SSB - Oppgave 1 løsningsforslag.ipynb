{
  "cells": [
    {
      "metadata": {
        "collapsed": true
      },
      "cell_type": "markdown",
      "source": "Øving: Hent data fra tabell 3 på denne siden: https://www.ssb.no/valg/statistikker/stortingsvalg. Den gir stemmetall for hvert parti i stortingsvalgene 2009, 2013 og 2017.\n\nDu skal kun bruke data for partier som er på Stortinget, dvs. fra toppen og ned til og med Rødt. Beregn prosentvis endring i stemmetall fra 2009 til 2013 per parti, og tilsvarende for 2013-2017 per parti. Hvis et parti fikk 100 stemmer i 2009 og 110 i 2013 var prosentvis økning på 10 %. Hvis samme parti i 2017 fikk 105 stemmer var prosentvis endring på -4,5 %. Bruk vanlige avrundingsregler og gi resultatene med en desimal. Skriv resultatet til en ny .csv-fil."
    },
    {
      "metadata": {
        "trusted": true
      },
      "cell_type": "code",
      "source": "data = !curl https://www.ssb.no/eksport/tabell.csv?key=326620",
      "execution_count": 1,
      "outputs": []
    },
    {
      "metadata": {
        "trusted": true
      },
      "cell_type": "code",
      "source": "for line in data:\n    print(line)",
      "execution_count": 2,
      "outputs": [
        {
          "output_type": "stream",
          "text": "  % Total    % Received % Xferd  Average Speed   Time    Time     Time  Current\n                                 Dload  Upload   Total   Spent    Left  Speed\n\n  0     0    0     0    0     0      0      0 --:--:-- --:--:-- --:--:--     0\n  0     0    0     0    0     0      0      0 --:--:-- --:--:-- --:--:--     0\n  0     0    0     0    0     0      0      0 --:--:--  0:00:01 --:--:--     0\n  0     0    0     0    0     0      0      0 --:--:--  0:00:02 --:--:--     0\n100  1009    0  1009    0     0    381      0 --:--:--  0:00:02 --:--:--   381\n﻿;2009;2013;2017;2017 i prosent;\nGodkjente stemmer;Godkjente stemmer;Godkjente stemmer;Godkjente stemmer;\nGodkjente stemmer totalt;2682904;2836029;2926836;100,0;\nArbeiderpartiet;949049;874769;800947;27,4;\nFremskrittspartiet;614717;463560;444681;15,2;\nHøyre;462458;760232;732895;25,0;\nKristelig Folkeparti;148748;158475;122797;4,2;\nSenterpartiet;165006;155357;302017;10,3;\nSosialistisk Venstreparti;166361;116021;176222;6,0;\nVenstre;104144;148275;127910;4,4;\nMiljøpartiet de Grønne;9286;79152;94788;3,2;\nRødt;36219;30751;70522;2,4;\nNorges Kommunistiske Parti;697;611;309;0,0;\nPensjonistpartiet;11900;11865;12855;0,4;\nAlliansen;0;0;3311;0,1;\nFeministisk Initiativ;0;0;696;0,0;\nHelsepartiet;0;0;10337;0,4;\nLiberalistene;0;0;5599;0,2;\nNordmørslista;0;0;2135;0,1;\nNordting;0;0;59;0,0;\nNorgespartiet;0;0;151;0,0;\nVerdipartiet;0;0;148;0,0;\nSamfunnspartiet;140;295;104;0,0;\nKystpartiet;5341;3311;2467;0,1;\nDemokratene i Norge;0;2214;3830;0,1;\nPartiet De Kristne;0;17731;8700;0,3;\nPiratpartiet;0;9869;3356;0,1;\n",
          "name": "stdout"
        }
      ]
    },
    {
      "metadata": {
        "trusted": true
      },
      "cell_type": "code",
      "source": "linje = data[12]\nprint(linje)\nprint(linje.split(\";\"))\nprint(linje.rstrip(\";\"))\nprint(linje.rstrip(\";\").split(\";\"))\nprint(linje.rstrip(\";\").replace(\",\" , \".\"))\nprint(linje.rstrip(\";\").replace(\",\" , \".\").split(\";\"))",
      "execution_count": 3,
      "outputs": [
        {
          "output_type": "stream",
          "text": "Fremskrittspartiet;614717;463560;444681;15,2;\n['Fremskrittspartiet', '614717', '463560', '444681', '15,2', '']\nFremskrittspartiet;614717;463560;444681;15,2\n['Fremskrittspartiet', '614717', '463560', '444681', '15,2']\nFremskrittspartiet;614717;463560;444681;15.2\n['Fremskrittspartiet', '614717', '463560', '444681', '15.2']\n",
          "name": "stdout"
        }
      ]
    },
    {
      "metadata": {
        "trusted": true
      },
      "cell_type": "code",
      "source": "print(data[8])\nprint(data[10])\nprint(data[11])\nprint(data[20])\nprint(data[19])",
      "execution_count": 11,
      "outputs": [
        {
          "output_type": "stream",
          "text": "﻿;2009;2013;2017;2017 i prosent;\nGodkjente stemmer totalt;2682904;2836029;2926836;100,0;\nArbeiderpartiet;949049;874769;800947;27,4;\nNorges Kommunistiske Parti;697;611;309;0,0;\nRødt;36219;30751;70522;2,4;\n",
          "name": "stdout"
        }
      ]
    },
    {
      "metadata": {
        "trusted": true
      },
      "cell_type": "code",
      "source": "partier = []\nstemmer2009 = []\nstemmer2013 = []\nstemmer2017 = []\n\nfor linje in data[11:20]:\n    linjeliste = linje.rstrip(\";\").replace(\",\" , \".\").split(\";\")\n    print(linjeliste)\n    partier.append(linjeliste[0])\n    stemmer2009.append(int(linjeliste[1]))\n    stemmer2013.append(int(linjeliste[2]))\n    stemmer2017.append(int(linjeliste[3]))\n\nfor i in range(len(partier)):\n    print(partier[i], stemmer2009[i], stemmer2013[i], stemmer2017[i])",
      "execution_count": 24,
      "outputs": [
        {
          "output_type": "stream",
          "text": "['Arbeiderpartiet', '949049', '874769', '800947', '27.4']\n['Fremskrittspartiet', '614717', '463560', '444681', '15.2']\n['Høyre', '462458', '760232', '732895', '25.0']\n['Kristelig Folkeparti', '148748', '158475', '122797', '4.2']\n['Senterpartiet', '165006', '155357', '302017', '10.3']\n['Sosialistisk Venstreparti', '166361', '116021', '176222', '6.0']\n['Venstre', '104144', '148275', '127910', '4.4']\n['Miljøpartiet de Grønne', '9286', '79152', '94788', '3.2']\n['Rødt', '36219', '30751', '70522', '2.4']\nArbeiderpartiet 949049 874769 800947\nFremskrittspartiet 614717 463560 444681\nHøyre 462458 760232 732895\nKristelig Folkeparti 148748 158475 122797\nSenterpartiet 165006 155357 302017\nSosialistisk Venstreparti 166361 116021 176222\nVenstre 104144 148275 127910\nMiljøpartiet de Grønne 9286 79152 94788\nRødt 36219 30751 70522\n",
          "name": "stdout"
        }
      ]
    },
    {
      "metadata": {
        "trusted": true
      },
      "cell_type": "code",
      "source": "print(stemmer2009[2], stemmer2013[2])\nprint(stemmer2013[2]/stemmer2009[2])\nprint(stemmer2013[2]/stemmer2009[2] - 1)\nprint((stemmer2013[2]/stemmer2009[2] - 1)*100)\nprint(round((stemmer2013[2]/stemmer2009[2] - 1)*100))\nprint(round((stemmer2013[2]/stemmer2009[2] - 1)*100, 1))",
      "execution_count": 22,
      "outputs": [
        {
          "output_type": "stream",
          "text": "462458 760232\n1.6438941482253524\n0.6438941482253524\n64.38941482253524\n64\n64.4\n",
          "name": "stdout"
        }
      ]
    },
    {
      "metadata": {
        "trusted": true
      },
      "cell_type": "code",
      "source": "prosent_endring0913 = []\nprosent_endring1317 = []\n\nfor i in range(len(partier)):\n    prosent_endring0913.append(round((stemmer2013[i]/stemmer2009[i] - 1)*100, 1))\n    prosent_endring1317.append(round((stemmer2017[i]/stemmer2013[i] - 1)*100, 1))\nprint(prosent_endring0913)\nprint(prosent_endring1317)",
      "execution_count": 27,
      "outputs": [
        {
          "output_type": "stream",
          "text": "[-7.8, -24.6, 64.4, 6.5, -5.8, -30.3, 42.4, 752.4, -15.1]\n[-8.4, -4.1, -3.6, -22.5, 94.4, 51.9, -13.7, 19.8, 129.3]\n",
          "name": "stdout"
        }
      ]
    },
    {
      "metadata": {
        "trusted": true
      },
      "cell_type": "code",
      "source": "import csv\n\nfile = open('prosentvisendring.csv', 'w', newline='', encoding='utf-8') # newline her hindrer blanke linjer i filen\nwriter = csv.writer(file, delimiter = ';')\n\nwriter.writerow(['Parti', 'Prosentvis endring 2009-2013', 'Prosentvis endring 2013-2017'])\nfor i in range(len(partier)):\n    writer.writerow([partier[i], prosent_endring0913[i], prosent_endring1317[i]])\nfile.close()",
      "execution_count": 29,
      "outputs": []
    }
  ],
  "metadata": {
    "kernelspec": {
      "name": "python36",
      "display_name": "Python 3.6",
      "language": "python"
    },
    "language_info": {
      "mimetype": "text/x-python",
      "nbconvert_exporter": "python",
      "name": "python",
      "pygments_lexer": "ipython3",
      "version": "3.6.6",
      "file_extension": ".py",
      "codemirror_mode": {
        "version": 3,
        "name": "ipython"
      }
    }
  },
  "nbformat": 4,
  "nbformat_minor": 2
}