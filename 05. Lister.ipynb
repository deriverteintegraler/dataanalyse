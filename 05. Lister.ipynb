{
  "cells": [
    {
      "metadata": {},
      "cell_type": "markdown",
      "source": "# Lister (engelsk: lists)\nEn liste er en rekke elementer. Elementene kan være omtrent hva som helst, f.eks. tekst (string), tall, andre lister. Mange av metodene for lister er tilsvarende som kommandoene for strenger. Det er mange metoder for lister, og vi skal se på de enkleste. En full oversikt finnes på https://docs.python.org/3/, særlig på https://docs.python.org/3/library/stdtypes.html#lists, https://docs.python.org/3/library/stdtypes.html#sequence-types-list-tuple-range, https://docs.python.org/3/library/stdtypes.html#mutable-sequence-types og https://docs.python.org/3/tutorial/datastructures.html.\n\nI tillegg til å se på selve metodene skal vi også se på noen anvendelser av lister."
    },
    {
      "metadata": {},
      "cell_type": "markdown",
      "source": "## Opprettelse av en liste\nVi kan lage en liste på flere måter, men for vår del er det en metoder som er vanligst: Skriv et par firkant-parenteser med null, ett eller flere elementer i mellom, adskilt med kommaer. Jeg bruker også mellomrom for at det skal være lettere å lese.\n* []\n* [element]\n* [element1, element2, element3]\n\nAdvarsel: Når vi bruker en eksisterende liste til å generere en ny liste må vi være forsiktige, av og til vil modifiseringer av den ene også innebære at den andre modifiseres. Mer om dette i ekstra stoff lenger ned i dette dokumentet.\n\nUnder ser vi hvordan tre ulike lister ser ut. Vi kan ha både heltall, desimaltall, regnestykker, tekst og lister (og mange andre ting) som elementer i lister. Legg merke til at det siste elementet i den siste listen er en liste i seg selv."
    },
    {
      "metadata": {
        "trusted": true
      },
      "cell_type": "code",
      "source": "liste1 = []\nliste2 = [\"drue\"]\nliste3 = [4, 2.5, 3+4*13, \"banan\", [7, 6, 5, \"eple\"]]\nprint(liste1)\nprint(liste2)\nprint(liste3)",
      "execution_count": 1,
      "outputs": [
        {
          "output_type": "stream",
          "text": "[]\n['drue']\n[4, 2.5, 55, 'banan', [7, 6, 5, 'eple']]\n",
          "name": "stdout"
        }
      ]
    },
    {
      "metadata": {},
      "cell_type": "markdown",
      "source": "Den første listen er tom. Tomme lister er viktige. For å få en følelse av hva en tom liste er kan vi se for oss at vi har en liste med navn på folk vi skal ringe før vi kan gå hjem fra kontoret. Vi leser et navn fra listen, ringer vedkommende, krysser ut det navnet, og når det ikke er noen navn igjen (når listen er tom) kan vi gå hjem. Vi kan sjekke hvor mange elementer det er i en liste ved å bruke len()-funksjonen."
    },
    {
      "metadata": {},
      "cell_type": "markdown",
      "source": "## Metoder for lister\nNoen av metodene er på formen liste.metode(). Her er \"liste\" enten listen selv, eller navnet til en variabel som inneholder en liste, mens \"metode\" er navnet på en av metodene som kan brukes på lister. Parentesen etter \"metode\" er ofte tom, men for noen metoder skriver vi inn argumenter i denne parentesen for å styre hvordan metoden skal virke akkurat denne gangen.\n\nAndre metoder har andre former, f.eks.:\n* liste[4]\n* liste_1 + liste_2\n* len(liste)"
    },
    {
      "metadata": {
        "trusted": true
      },
      "cell_type": "code",
      "source": "",
      "execution_count": null,
      "outputs": []
    },
    {
      "metadata": {},
      "cell_type": "markdown",
      "source": "### Elementer og utvalg ved bruk av index\nVi kan plukke ut elementer fra en liste på følgende måter:\n* Elementet med index i: liste[i]\n* Elementene fra og med index i til (men ikke med) index j: liste[i:j]\n* Elementene fra og med index i til (men ikke med) index j med mellomrom k: liste[i:j:k]\n\nVi må være bevisst at lister i Python har index som begynner på 0. Dersom vi ber om en index som ikke finnes får vi en feilmelding. Under har vi en streng med 10 elementer, det vil si at indexene går fra og med 0 til og med 9.\n\nDenne listen skal brukes i de følgende oppgavene."
    },
    {
      "metadata": {
        "trusted": true
      },
      "cell_type": "code",
      "source": "listen = ['Hello World!', 4, 3.9, 'Mer tekst her.', 3+4*13, 0.1234, \"a\", \"b\", \"c\", \"Goodbye World!\"]\nprint(listen)\nalpha = listen[0]\nprint(alpha)\nprint(listen[2])",
      "execution_count": 2,
      "outputs": [
        {
          "output_type": "stream",
          "text": "['Hello World!', 4, 3.9, 'Mer tekst her.', 55, 0.1234, 'a', 'b', 'c', 'Goodbye World!']\nHello World!\n3.9\n",
          "name": "stdout"
        }
      ]
    },
    {
      "metadata": {},
      "cell_type": "markdown",
      "source": "Øving: Tenk over hva som vil printes dersom følgende kommandoer kjøres. Når du har tenkt over det og skrevet ned resultatet, kjør kommandoene i en ny celle.\n* print(listen[4])\n* print(listen[10])"
    },
    {
      "metadata": {},
      "cell_type": "markdown",
      "source": "Øving: Skriv ned to linjer som gir følgende print på skjermen når de kjøres:\n\n4\n\na"
    },
    {
      "metadata": {
        "trusted": true
      },
      "cell_type": "code",
      "source": "",
      "execution_count": null,
      "outputs": []
    },
    {
      "metadata": {},
      "cell_type": "markdown",
      "source": "#### Negative indexer\nVi kan bruke negative indexer for å referere til elementer en viss avstand fra slutten av listen. Skriver vi liste[-1] refererer vi til det siste elementet, liste[-2] refererer til det nest siste elementet."
    },
    {
      "metadata": {
        "trusted": true
      },
      "cell_type": "code",
      "source": "print(listen[-1])\nprint(listen[-2])",
      "execution_count": 3,
      "outputs": [
        {
          "output_type": "stream",
          "text": "Goodbye World!\nc\n",
          "name": "stdout"
        }
      ]
    },
    {
      "metadata": {},
      "cell_type": "markdown",
      "source": "Øving: Tenk over hva som vil printes dersom følgende kommandoer kjøres. Når du har tenkt over det og skrevet ned resultatet, kjør kommandoene i en ny celle.\n* print(listen[-4])\n* print(listen[-7])"
    },
    {
      "metadata": {
        "trusted": true
      },
      "cell_type": "code",
      "source": "",
      "execution_count": null,
      "outputs": []
    },
    {
      "metadata": {},
      "cell_type": "markdown",
      "source": "Øving: Skriv ned to linjer som gir følgende print på skjermen når de kjøres. Bruk negative indexer.\n\nHello World!\n\n3.9"
    },
    {
      "metadata": {
        "trusted": true
      },
      "cell_type": "code",
      "source": "",
      "execution_count": null,
      "outputs": []
    },
    {
      "metadata": {},
      "cell_type": "markdown",
      "source": "#### Utvalg av flere elementer (engelsk: slicing)\nVi kan gjøre et utvalg som vist under. I det første eksempelet velger vi alle elementene med index fra og med 2 til (men ikke med) 5. Effektivt betyr det index 2-4, og det gir element nummer 3-5 (siden indexene begynner på 0)."
    },
    {
      "metadata": {
        "trusted": true
      },
      "cell_type": "code",
      "source": "print(listen[2:5])",
      "execution_count": 4,
      "outputs": [
        {
          "output_type": "stream",
          "text": "[3.9, 'Mer tekst her.', 55]\n",
          "name": "stdout"
        }
      ]
    },
    {
      "metadata": {},
      "cell_type": "markdown",
      "source": "Øving: Tenk over hva som vil printes dersom følgende kommandoer kjøres. Når du har tenkt over det og skrevet ned resultatet, kjør kommandoene i en ny celle.\n* print(listen[4:7])\n* print(listen[0:9])"
    },
    {
      "metadata": {
        "trusted": true
      },
      "cell_type": "code",
      "source": "",
      "execution_count": null,
      "outputs": []
    },
    {
      "metadata": {},
      "cell_type": "markdown",
      "source": "Øving: Skriv ned to linjer som gir følgende print på skjermen når de kjøres:\n\n[0.1234, 'a']\n\n['Mer tekst her.', 55, 0.1234, 'a', 'b', 'c']"
    },
    {
      "metadata": {
        "trusted": true
      },
      "cell_type": "code",
      "source": "",
      "execution_count": null,
      "outputs": []
    },
    {
      "metadata": {},
      "cell_type": "markdown",
      "source": "Vi kan bruke negative indekser også når vi slicer en liste:"
    },
    {
      "metadata": {
        "trusted": true
      },
      "cell_type": "code",
      "source": "print(listen[2:-4])\nprint(listen[-5:-1])",
      "execution_count": 5,
      "outputs": [
        {
          "output_type": "stream",
          "text": "[3.9, 'Mer tekst her.', 55, 0.1234]\n[0.1234, 'a', 'b', 'c']\n",
          "name": "stdout"
        }
      ]
    },
    {
      "metadata": {},
      "cell_type": "markdown",
      "source": "Øving: Tenk over hva som vil printes dersom følgende kommandoer kjøres. Når du har tenkt over det og skrevet ned resultatet, kjør kommandoene i en ny celle.\n* print(listen[-6:-3])\n* print(listen[-9:-1])"
    },
    {
      "metadata": {
        "trusted": true
      },
      "cell_type": "code",
      "source": "",
      "execution_count": null,
      "outputs": []
    },
    {
      "metadata": {},
      "cell_type": "markdown",
      "source": "Øving: Skriv ned to linjer som gir følgende print på skjermen når de kjøres. Bruk negative indexer for både start- og sluttpunktet.\n\n[55, 0.1234, 'a']\n\n['b', 'c']"
    },
    {
      "metadata": {
        "trusted": true
      },
      "cell_type": "code",
      "source": "",
      "execution_count": null,
      "outputs": []
    },
    {
      "metadata": {},
      "cell_type": "markdown",
      "source": "#### Utelatelse av indexer\nVi kan gå til enden av en liste ved å skrive liste[3:]. Ved å ikke ha noe avsluttende element går utvalget helt til og med det siste elementet. Vi kan også utelate den første indexen, da går utvalget fra og med det første elementet (index 0). Ved å kombinere disse kan vi skrive liste[:] for å få alle elementene. Dette kan virke meningsløst, men det er viktig for lister, og er beskrevet under ekstra materiale lenger ned i dette dokumentet."
    },
    {
      "metadata": {
        "trusted": true
      },
      "cell_type": "code",
      "source": "print(listen[3:])\nprint(listen[:5])\nprint(listen[:])",
      "execution_count": 6,
      "outputs": [
        {
          "output_type": "stream",
          "text": "['Mer tekst her.', 55, 0.1234, 'a', 'b', 'c', 'Goodbye World!']\n['Hello World!', 4, 3.9, 'Mer tekst her.', 55]\n['Hello World!', 4, 3.9, 'Mer tekst her.', 55, 0.1234, 'a', 'b', 'c', 'Goodbye World!']\n",
          "name": "stdout"
        }
      ]
    },
    {
      "metadata": {},
      "cell_type": "markdown",
      "source": "Øving: Tenk over hva som vil printes dersom følgende kommandoer kjøres. Etter at du har bestemt deg og skrevet ned svaret ditt, kjør kommandoene og sjekk om det stemte.\n* print(listen[:-7])\n* print(listen[-5:])"
    },
    {
      "metadata": {
        "trusted": true
      },
      "cell_type": "code",
      "source": "",
      "execution_count": null,
      "outputs": []
    },
    {
      "metadata": {},
      "cell_type": "markdown",
      "source": "### Lister i lister\nVi kan finne elementer i lister i lister ved å legge på en ekstra [j] bak liste[i]: liste[i][j] velger elementet med index j i elementet med index i i selve listen."
    },
    {
      "metadata": {
        "trusted": true
      },
      "cell_type": "code",
      "source": "listen = [2, \"kanin\", \"hest\", [4, 2.5, 3+4*13, \"banan\", [7, 6, 5, \"eple\"]]]\nprint(listen) # Hele listen.\nprint(listen[3]) # Listen som er på index 3.\nprint(listen[3][-1]) # Listen som er siste element.\nprint(listen[3][-1][3]) # Elementet på index 3.\nprint(listen[3][-1][3][1]) # Vi kan til og med velge en bokstav i en streng.",
      "execution_count": 7,
      "outputs": [
        {
          "output_type": "stream",
          "text": "[2, 'kanin', 'hest', [4, 2.5, 55, 'banan', [7, 6, 5, 'eple']]]\n[4, 2.5, 55, 'banan', [7, 6, 5, 'eple']]\n[7, 6, 5, 'eple']\neple\np\n",
          "name": "stdout"
        }
      ]
    },
    {
      "metadata": {},
      "cell_type": "markdown",
      "source": "Øving: Lag en liste med to lister i seg. Hver av disse to listene skal inneholde to lister. Hver av de fire listene skal inneholde noen tall og noen ord. Skriv kommandoer som printer enkeltelementer i disse fire listene, inkludert å printe enkeltbokstaver i ordene."
    },
    {
      "metadata": {
        "trusted": true
      },
      "cell_type": "code",
      "source": "",
      "execution_count": null,
      "outputs": []
    },
    {
      "metadata": {},
      "cell_type": "markdown",
      "source": "### Lengden av en liste (og lister i en liste)\nVi kan finne antall elementer i en liste ved å bruke len(liste). Dette er en svært nyttig kommando som brukes i mange sammenhenger. For å se det må vi bli bedre kjent med flere verktøy, som f.eks. løkker (engelsk: loops)."
    },
    {
      "metadata": {
        "trusted": true
      },
      "cell_type": "code",
      "source": "liste1 = []\nliste2 = [\"drue\"]\nliste3 = [4, 2.5, 3+4*13, \"banan\", [7, 6, 5, \"eple\"]]\nprint(len(liste1))\nprint(len(liste2))\nprint(len(liste3))",
      "execution_count": 8,
      "outputs": [
        {
          "output_type": "stream",
          "text": "0\n1\n5\n",
          "name": "stdout"
        }
      ]
    },
    {
      "metadata": {},
      "cell_type": "markdown",
      "source": "Legg merke til at lengden av den siste listen er bare 5 selv om det ser ut som det er 8 elementer i den. Det er fordi det siste elementet i denne listen selv er en liste, og denne underlistens elementer telles ikke av len()-funksjonen."
    },
    {
      "metadata": {},
      "cell_type": "markdown",
      "source": "Vi kan også finne lengden av lister og strenger i en liste. I den siste listen har vi en streng på index 3 og en liste på index 4."
    },
    {
      "metadata": {
        "trusted": true
      },
      "cell_type": "code",
      "source": "print(liste3[3])\nprint(len(liste3[3]))\nprint(liste3[4])\nprint(len(liste3[4]))\nprint(liste3[4][3])\nprint(len(liste3[4][3]))\nprint(liste3[4][3][1])",
      "execution_count": 9,
      "outputs": [
        {
          "output_type": "stream",
          "text": "banan\n5\n[7, 6, 5, 'eple']\n4\neple\n4\np\n",
          "name": "stdout"
        }
      ]
    },
    {
      "metadata": {},
      "cell_type": "markdown",
      "source": "Øving: Lag og print noen lister. Lag lister som inneholder lister. Lag en liste der du bruker de andre listenes variabelnavn som elementer. Print lengden til listene."
    },
    {
      "metadata": {
        "trusted": true
      },
      "cell_type": "code",
      "source": "",
      "execution_count": null,
      "outputs": []
    },
    {
      "metadata": {},
      "cell_type": "markdown",
      "source": "### Legge sammen lister\nDersom vi har flere lister kan de slås sammen til én liste. Dette kan gjøres på flere måter, her er en den mest direkte og enkleste (i enkle tilfeller):"
    },
    {
      "metadata": {
        "trusted": true
      },
      "cell_type": "code",
      "source": "liste1 = []\nliste2 = [\"drue\"]\nliste3 = [4, 2.5, 3+4*13, \"banan\", [7, 6, 5, \"eple\"]]\nlisten = liste1 + liste2 + liste3\nprint(listen)",
      "execution_count": 10,
      "outputs": [
        {
          "output_type": "stream",
          "text": "['drue', 4, 2.5, 55, 'banan', [7, 6, 5, 'eple']]\n",
          "name": "stdout"
        }
      ]
    },
    {
      "metadata": {},
      "cell_type": "markdown",
      "source": "Det virket, men det kan se ut som om det mangler noe. Skulle vi ikke hatt med den tomme listen i liste1 som første element i den sammensatte listen?\n\nNei, det er innholdet i listene som blir lagt sammen, og det er ikke noe innhold i den første listen. Dersom vi vil ha inn den tomme listen som et element i den sammensatte listen kan vi gjøre som vist under. Legg merke til at den tomme listen er et element som teller på lengden av den endelige listen."
    },
    {
      "metadata": {
        "trusted": true
      },
      "cell_type": "code",
      "source": "liste1 = [[]]\nliste2 = [\"drue\"]\nliste3 = [ 4, 2.5, 3+4*13, \"banan\", [7, 6, 5, \"eple\"]]\nlisten = liste1 + liste2 + liste3\nprint(listen)\nprint(len(listen))",
      "execution_count": 11,
      "outputs": [
        {
          "output_type": "stream",
          "text": "[[], 'drue', 4, 2.5, 55, 'banan', [7, 6, 5, 'eple']]\n7\n",
          "name": "stdout"
        }
      ]
    },
    {
      "metadata": {},
      "cell_type": "markdown",
      "source": "Dersom det er mange lister som skal legges sammen blir det kontraproduktivt (og nesten uoverkommelig) å skrive dette manuelt. Da kan vi bruke løkker eller automatisere på annet vis. Se delen om for-løkker for et eksempel på dette."
    },
    {
      "metadata": {},
      "cell_type": "markdown",
      "source": "Øving: Lag noen lister, sett dem sammen på måten vist over og print den sammensatte listen."
    },
    {
      "metadata": {
        "trusted": true
      },
      "cell_type": "code",
      "source": "",
      "execution_count": null,
      "outputs": []
    },
    {
      "metadata": {},
      "cell_type": "markdown",
      "source": "### Søk i lister\nVi kan søke i innholdet i en liste. Vi kan både sjekke om noe (ikke) finnes der (True/False) og telle antall forekomster av noe, og vi kan sjekke hvor i listen noe finnes."
    },
    {
      "metadata": {
        "trusted": true
      },
      "cell_type": "code",
      "source": "listen = [4, 2.5, 3+4*13, \"banan\", [7, 6, 5, \"eple\"]]\nprint(listen)\nprint(\"banan\" in listen)\nprint(\"eple\" in listen)\nprint(55 in listen)\nprint(3+4 in listen[-1])\nprint(listen.count(2.5))\nprint(listen.index(55))",
      "execution_count": 12,
      "outputs": [
        {
          "output_type": "stream",
          "text": "[4, 2.5, 55, 'banan', [7, 6, 5, 'eple']]\nTrue\nFalse\nTrue\nTrue\n1\n2\n",
          "name": "stdout"
        }
      ]
    },
    {
      "metadata": {},
      "cell_type": "markdown",
      "source": "Legg merke til at \"eple\" ikke er i listen. Det er fordi \"eple\" ikke er et element i listen. Det er ingen verdi for i som gjør at print(listen[i]) gir \"eple\". \"eple\" er et element i ett av elementene i listen. Det går an å sjekke alle lister i en liste også, men for å gjøre det generelt krever det at vi kjenner både løkker, funksjoner og rekursjon.\n\nLegg merke til at tallet 55 er i listen, selv om vi definerte et regnestykke der. Vi kan også skrive et regnestykke i kommandoen som søker etter tallet. 3+4 er 7, og 7 er et element i listen som er siste element i selve listen vår."
    },
    {
      "metadata": {},
      "cell_type": "markdown",
      "source": "Øving: Skriv kode som teller antall tilfeller av tallene 1, 2, og 3 (hver for seg) fra listen under. Skriv kode som søker gjennom listen for å se om tallene 5 og 6 er der. Skriv kode som søker gjennom listen for å se om teksten \"hei\" er der.\n\nFor de tingene du søkte etter som du ikke fant i listen: Legg til elementer i listen og søk på nytt slik at de blir funnet."
    },
    {
      "metadata": {
        "trusted": true
      },
      "cell_type": "code",
      "source": "listen = [3,4,5,2,1,2,3,1,5,2,1,2,3,4,2,1,2,3,4,5]\n",
      "execution_count": 13,
      "outputs": []
    },
    {
      "metadata": {},
      "cell_type": "markdown",
      "source": "### Utvidelse av lister\nVi kan utvide en liste med nytt innhold på flere måter. De vanligste er å sette inn et bestemt element en bestemt plass i listen vår, å sette inn innholdet fra en annen liste mellom to elementer i listen vår eller å legge til ett eller flere elementer på slutten av listen vår.\n\nLegg særlig merke til forskjellen på extend og append. Det er viktig å vite om vi legger til et element som er en liste, eller om vi tar alle elementene fra en liste og legger dem til hver for seg."
    },
    {
      "metadata": {
        "trusted": true
      },
      "cell_type": "code",
      "source": "listen = [0, 1, 2, 3, 4, 5, 6, 7, 8, 9]\ntillegg = [\"Løve\", \"Panter\", \"Gepard\"]\nlisten.insert(8, \"Tiger\") # Setter inn \"Tiger\" på index 8.\nprint(listen)\n\nlisten[4:4] = tillegg # Setter inn elementene fra \"tillegg\" enkeltvis på index 4 og utover, altså mellom index 3 og 4 i eksisterende liste.\nprint(listen)\n\nlisten = [0, 1, 2, 3, 4, 5, 6, 7, 8, 9]\nlisten.extend(tillegg) # Utvider listen med elementene i \"tillegg\".\nprint(listen)\n\nlisten = [0, 1, 2, 3, 4, 5, 6, 7, 8, 9]\nlisten.append(tillegg) # Legger til ett eneste nytt element. Det elementet er en egen liste.\nprint(listen)",
      "execution_count": 14,
      "outputs": [
        {
          "output_type": "stream",
          "text": "[0, 1, 2, 3, 4, 5, 6, 7, 'Tiger', 8, 9]\n[0, 1, 2, 3, 'Løve', 'Panter', 'Gepard', 4, 5, 6, 7, 'Tiger', 8, 9]\n[0, 1, 2, 3, 4, 5, 6, 7, 8, 9, 'Løve', 'Panter', 'Gepard']\n[0, 1, 2, 3, 4, 5, 6, 7, 8, 9, ['Løve', 'Panter', 'Gepard']]\n",
          "name": "stdout"
        }
      ]
    },
    {
      "metadata": {},
      "cell_type": "markdown",
      "source": "Øving: Tenk over hva som vil printes dersom følgende kommandoer kjøres. Når du har tenkt over det og skrevet ned resultatet, kjør kommandoene i en ny celle.\n* listen = [0, 1, 2, 3, 4, 5, 6, 7, 8, 9]\n* tillegg = [\"Løve\", \"Panter\", \"Gepard\"]\n* listen.append(tillegg)\n* listen[5:7] = tillegg[1:]\n* print(listen)"
    },
    {
      "metadata": {
        "trusted": true
      },
      "cell_type": "code",
      "source": "",
      "execution_count": null,
      "outputs": []
    },
    {
      "metadata": {},
      "cell_type": "markdown",
      "source": "Øving: Bruk listene under og de fire metodene vist over til å lage følgende liste:\n\n[0, 1, 'katt', [0, 1, 2, 3, 4, 5], 'hund', 'ulv', 2, 3, 4, 5, ['appelsin', 'banan', 'citrus', 'drue'], 'katt', 'hund', 'ulv']\n\nHint: Lag en ny liste i stedet for å modifisere de eksisterende."
    },
    {
      "metadata": {
        "trusted": true
      },
      "cell_type": "code",
      "source": "liste1 = [0, 1, 2, 3, 4, 5]\nliste2 = [\"katt\", \"hund\", \"ulv\"]\nliste3 = [\"appelsin\", \"banan\", \"citrus\", \"drue\"]\n",
      "execution_count": 15,
      "outputs": []
    },
    {
      "metadata": {},
      "cell_type": "markdown",
      "source": "Dersom vi har en liste som vi vil utvide med seg selv flere ganger kan vi skrive som vist under."
    },
    {
      "metadata": {
        "trusted": true
      },
      "cell_type": "code",
      "source": "listo = [3, 5, 7]\nlisto.extend(listo)\nprint(listo)\nlisto.extend(listo)",
      "execution_count": 16,
      "outputs": [
        {
          "output_type": "stream",
          "text": "[3, 5, 7, 3, 5, 7]\n",
          "name": "stdout"
        }
      ]
    },
    {
      "metadata": {},
      "cell_type": "markdown",
      "source": "Legg merke til at den blir dobbelt så lang for hver gang vi gjør dette. Dersom vi vil ha den opprinnelige listen 3 ganger etter hverandre kan vi ikke gjøre det slik. Og dersom vi skal ha den mange ganger etter hverandre er dette tungvint. Vi kan gange den med et heltall."
    },
    {
      "metadata": {
        "trusted": true
      },
      "cell_type": "code",
      "source": "listo = [3, 5, 7]\n# listo = listo * 3\nlisto *= 3 # Mer effektiv skrivemåte enn på linjen over.\nprint(listo)",
      "execution_count": 17,
      "outputs": [
        {
          "output_type": "stream",
          "text": "[3, 5, 7, 3, 5, 7, 3, 5, 7]\n",
          "name": "stdout"
        }
      ]
    },
    {
      "metadata": {},
      "cell_type": "markdown",
      "source": "### Endring av listers innhold, sletting av elementer\nVi har nettopp sett på hvordan vi utvider en liste ved å legge til flere elementer. Nå skal vi se hvordan vi endrer på elementene som finnes og hvordan vi sletter elementer fra en liste.\n\nFørst skal vi innholdet på en bestemt index eller på flere indexer. Legg merke til at opprinnelig innhold på en index blir borte. Legg merke til at den nye listen i andre del av eksempelet må være like lang som antall indexer vi sier at skal erstattes."
    },
    {
      "metadata": {
        "trusted": true
      },
      "cell_type": "code",
      "source": "listen = [0, 1, 2, 3, 4, 5, 6, 7, 8, 9]\nlisten[4] = \"Kattepus\" # Elementet med index 4 erstattes.\nprint(listen)\n\nlisten[3:6] = [\"Løve\", \"Panter\", \"Gepard\"] # Elementene med index 3, 4 og 5 erstattes av den nye listen.\nprint(listen)",
      "execution_count": 18,
      "outputs": [
        {
          "output_type": "stream",
          "text": "[0, 1, 2, 3, 'Kattepus', 5, 6, 7, 8, 9]\n[0, 1, 2, 'Løve', 'Panter', 'Gepard', 6, 7, 8, 9]\n",
          "name": "stdout"
        }
      ]
    },
    {
      "metadata": {},
      "cell_type": "markdown",
      "source": "Øving: Lag en liste og endre verdien av enkeltelementer som vist over. Endre deretter flere elementer på en gang som vist over."
    },
    {
      "metadata": {
        "trusted": true
      },
      "cell_type": "code",
      "source": "",
      "execution_count": null,
      "outputs": []
    },
    {
      "metadata": {},
      "cell_type": "markdown",
      "source": "Vi kan fjerne elementet på en bestemt plass ved å bruke liste.pop(index). Vi kan fjerne det siste elementet i en liste ved å bruke liste.pop(). Vi kan fjerne en bestemt verdi fra en liste ved å bruke liste.remove(verdi).\n\nLegg merke til forskjellen på pop og remove. Metoden pop fjerner elementet fra listen OG gir oss elementet så det kan printes eller brukes på andre måter. Metoden remove fjerner elementet, men lar oss ikke bruke elementet i det øyeblikket det fjernes."
    },
    {
      "metadata": {
        "trusted": true
      },
      "cell_type": "code",
      "source": "listen = [\"Løve\", \"Panter\", \"Gepard\", \"Løve\", \"Schäfer\", \"Dobermann\", \"Pitbull\"]\nprint(listen.pop()) # Fjerner siste element fra listen.\nprint(listen)\nprint(listen.pop(2)) # Fjerner elementet med index 2.\nprint(listen)\nprint(listen.remove(\"Løve\")) # Fjerner første tilfelle av \"Løve\" fra listen.\nprint(listen)",
      "execution_count": 19,
      "outputs": [
        {
          "output_type": "stream",
          "text": "Pitbull\n['Løve', 'Panter', 'Gepard', 'Løve', 'Schäfer', 'Dobermann']\nGepard\n['Løve', 'Panter', 'Løve', 'Schäfer', 'Dobermann']\nNone\n['Panter', 'Løve', 'Schäfer', 'Dobermann']\n",
          "name": "stdout"
        }
      ]
    },
    {
      "metadata": {},
      "cell_type": "markdown",
      "source": "Vi kan også slette elementer fra bestemte indexer uten å vite hva verdiene er."
    },
    {
      "metadata": {
        "trusted": true
      },
      "cell_type": "code",
      "source": "listen = [\"Løve\", \"Panter\", \"Gepard\", \"Schäfer\", \"Dobermann\", \"Pitbull\"]\nprint(listen)\ndel(listen[0]) # Sletter elementet med index 0.\nprint(listen)\nlisten[0:3] = [] # Erstatter elementene med index 0, 1 og 2 med en tom liste, effektivt det samme som å slette dem.\nprint(listen)\nlisten.clear() # Sletter alle elementene i listen.\nprint(listen)",
      "execution_count": 20,
      "outputs": [
        {
          "output_type": "stream",
          "text": "['Løve', 'Panter', 'Gepard', 'Schäfer', 'Dobermann', 'Pitbull']\n['Panter', 'Gepard', 'Schäfer', 'Dobermann', 'Pitbull']\n['Dobermann', 'Pitbull']\n[]\n",
          "name": "stdout"
        }
      ]
    },
    {
      "metadata": {},
      "cell_type": "markdown",
      "source": "Øving: Tenk over hva som vil printes dersom følgende kommandoer kjøres. Når du har tenkt over det og skrevet ned resultatet, kjør kommandoene i en ny celle.\n* listen = [\"Løve\", \"Panter\", \"Gepard\", \"Schäfer\", \"Dobermann\", \"Pitbull\"]\n* listen.pop()\n* listen.remove(\"løve\")\n* listen[1:3] = []\n* print(listen)"
    },
    {
      "metadata": {
        "trusted": true
      },
      "cell_type": "code",
      "source": "",
      "execution_count": null,
      "outputs": []
    },
    {
      "metadata": {},
      "cell_type": "markdown",
      "source": "# Ekstra materiale\nStoffet under er nyttig, men kan vente til senere om du ikke vil se på det nå."
    },
    {
      "metadata": {},
      "cell_type": "markdown",
      "source": "## Mer om utvalg av elementer i lister\nVi kan også gjøre et utvalg av elementer som ikke følger direkte etter hverandre:"
    },
    {
      "metadata": {
        "trusted": true
      },
      "cell_type": "code",
      "source": "print(listen[1:9:2])",
      "execution_count": 21,
      "outputs": [
        {
          "output_type": "stream",
          "text": "[]\n",
          "name": "stdout"
        }
      ]
    },
    {
      "metadata": {},
      "cell_type": "markdown",
      "source": "Legg merke til at i det forrige eksempelet fikk vi elementene med index 1, 3, 5 og 7. Det neste ville vært 9, men vi skulle stoppe før 9, så det ble ikke med."
    },
    {
      "metadata": {},
      "cell_type": "markdown",
      "source": "Øving: Tenk over hva som vil printes dersom følgende kommandoer kjøres. Når du har tenkt over det og skrevet ned resultatet, kjør kommandoene i en ny celle.\n* print(listen[0:7:3])\n* print(listen[-9:6:2])"
    },
    {
      "metadata": {
        "trusted": true
      },
      "cell_type": "code",
      "source": "",
      "execution_count": null,
      "outputs": []
    },
    {
      "metadata": {},
      "cell_type": "markdown",
      "source": "Øving: Skriv ned fire linjer som gir følgende print på skjermen når de kjøres. Gjør det en gang med bare positive indexer og en gang med bare negative indexer for både start- og sluttpunktet.\n\n['Mer tekst her.', 0.1234]\n\n[4, 0.1234]"
    },
    {
      "metadata": {
        "trusted": true
      },
      "cell_type": "code",
      "source": "",
      "execution_count": null,
      "outputs": []
    },
    {
      "metadata": {},
      "cell_type": "markdown",
      "source": "Dersom vi gjør et utvalg der vi ber om å starte på et element og stoppe på et tidligere element får vi ingen elementer. I eksempelet under produserer print-kommandoen ingenting fordi utvalget blir en streng uten elementer. Dette kan være aktuelt dersom vi ikke vet hvor mange elementer som skal være med, men har en formel for å beregne hva som er første og siste element. Dersom formlene gir en startverdi som er lik eller større enn sluttverdien blir lengden 0."
    },
    {
      "metadata": {
        "trusted": true
      },
      "cell_type": "code",
      "source": "print(listen[4:1])",
      "execution_count": 22,
      "outputs": [
        {
          "output_type": "stream",
          "text": "[]\n",
          "name": "stdout"
        }
      ]
    },
    {
      "metadata": {},
      "cell_type": "markdown",
      "source": "Øving: Tenk over hva som vil printes dersom følgende kommandoer kjøres. Hvilke av kommandoene gir ingen output? Etter at du har bestemt deg og skrevet ned svaret ditt, kjør kommandoene og sjekk om det stemte.\n* print(listen[2:5:7])\n* print(listen[-2:3])\n* print(listen[-8:-3])\n* print(listen[-5:7:2])\n* print(listen[-3:8])"
    },
    {
      "metadata": {
        "trusted": true
      },
      "cell_type": "code",
      "source": "",
      "execution_count": null,
      "outputs": []
    },
    {
      "metadata": {},
      "cell_type": "markdown",
      "source": "## Reversering av en liste\nDette gjøres med kommandoen liste.reverse()"
    },
    {
      "metadata": {
        "trusted": true
      },
      "cell_type": "code",
      "source": "listen = [4, 2.5, 3+4*13, \"banan\", [7, 6, 5, \"eple\"]]\nlisten.reverse()\nprint(listen)\nlisten[0].reverse() # Reversering av en liste i listen.\nprint(listen)",
      "execution_count": 23,
      "outputs": [
        {
          "output_type": "stream",
          "text": "[[7, 6, 5, 'eple'], 'banan', 55, 2.5, 4]\n[['eple', 5, 6, 7], 'banan', 55, 2.5, 4]\n",
          "name": "stdout"
        }
      ]
    },
    {
      "metadata": {},
      "cell_type": "markdown",
      "source": "## Kopi av en liste\nVi må være forsiktige med hvordan vi tar kopier av lister. La oss se på et eksempel."
    },
    {
      "metadata": {
        "trusted": true
      },
      "cell_type": "code",
      "source": "a = 2\nb = a\nprint(a, b)\nb = 5\nprint(a, b)",
      "execution_count": 24,
      "outputs": [
        {
          "output_type": "stream",
          "text": "2 2\n2 5\n",
          "name": "stdout"
        }
      ]
    },
    {
      "metadata": {},
      "cell_type": "markdown",
      "source": "Som forventet: Vi lot b få verdien til a, og selv om vi endret verdien til b ble verdien til a ikke endret. La oss nå se hvordan dette virker for en liste."
    },
    {
      "metadata": {
        "trusted": true
      },
      "cell_type": "code",
      "source": "a = [3, 5, 7, 9]\nb = a\nprint(a, b)\nb.append(11)\nb.append(13)\nprint(a, b)",
      "execution_count": 25,
      "outputs": [
        {
          "output_type": "stream",
          "text": "[3, 5, 7, 9] [3, 5, 7, 9]\n[3, 5, 7, 9, 11, 13] [3, 5, 7, 9, 11, 13]\n",
          "name": "stdout"
        }
      ]
    },
    {
      "metadata": {},
      "cell_type": "markdown",
      "source": "Som vi ser ble først b lik a. Deretter la vi til to nye tall i b, men dette endret både a OG b. Dette er slik lister virker. Dersom vi ønsker å endre bare kopien kan det gjøres på flere måter. Her er en av de: "
    },
    {
      "metadata": {
        "trusted": true
      },
      "cell_type": "code",
      "source": "a = [3, 5, 7, 9]\nb = a.copy()\nprint(a, b)\nb.append(11)\nb.append(13)\nprint(a, b)",
      "execution_count": 26,
      "outputs": [
        {
          "output_type": "stream",
          "text": "[3, 5, 7, 9] [3, 5, 7, 9]\n[3, 5, 7, 9] [3, 5, 7, 9, 11, 13]\n",
          "name": "stdout"
        }
      ]
    },
    {
      "metadata": {},
      "cell_type": "markdown",
      "source": "###### Øystein Grøndahl, oktober 2018"
    }
  ],
  "metadata": {
    "anaconda-cloud": {},
    "kernelspec": {
      "name": "python3",
      "display_name": "Python 3",
      "language": "python"
    },
    "language_info": {
      "mimetype": "text/x-python",
      "nbconvert_exporter": "python",
      "name": "python",
      "file_extension": ".py",
      "version": "3.5.4",
      "pygments_lexer": "ipython3",
      "codemirror_mode": {
        "version": 3,
        "name": "ipython"
      }
    }
  },
  "nbformat": 4,
  "nbformat_minor": 1
}