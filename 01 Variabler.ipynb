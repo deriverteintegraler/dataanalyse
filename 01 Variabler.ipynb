{
  "cells": [
    {
      "metadata": {},
      "cell_type": "markdown",
      "source": "# Variabler\nVariabler i Python kan endre type helt uten videre. Noe som først er en int kan senere bli en array, string, float eller hva som helst.\n\nLa oss se på eksempelet under. Vi bruker \"print()\"-funksjonen for å printe verdiene til variablene."
    },
    {
      "metadata": {
        "trusted": true
      },
      "cell_type": "code",
      "source": "a = 3\nprint(a)\n\na = \"dette er en tekst\"\nprint(a)",
      "execution_count": 1,
      "outputs": [
        {
          "output_type": "stream",
          "text": "3\ndette er en tekst\n",
          "name": "stdout"
        }
      ]
    },
    {
      "metadata": {
        "trusted": true
      },
      "cell_type": "code",
      "source": "a = 4       # Variabelen \"a\" får verdien 4\nb = 9       # Variabelen \"b\" får verdien 9\nc = a * b   # Variabelen \"c\" får en verdi som er lik produktet av verdien til \"a\" og verdien til \"b\".\na = 5       # Variabelen \"a\" får verdien 5\nprint(c)    # Verdien av c ble bestemt før a endret verdi.",
      "execution_count": 2,
      "outputs": [
        {
          "output_type": "stream",
          "text": "36\n",
          "name": "stdout"
        }
      ]
    },
    {
      "metadata": {},
      "cell_type": "markdown",
      "source": "Øving: Tenk over hva som vil printes dersom følgende kommandoer kjøres. Når du har tenkt over det og skrevet ned resultatet, kjør kommandoene i en ny celle.\n* a = 3\n* b = -2\n* a = b\n* b = a\n* print(a)\n* print(b)"
    },
    {
      "metadata": {
        "trusted": true
      },
      "cell_type": "code",
      "source": "",
      "execution_count": null,
      "outputs": []
    },
    {
      "metadata": {},
      "cell_type": "markdown",
      "source": "Øving: Tenk over hva som vil printes dersom følgende kommandoer kjøres. Når du har tenkt over det og skrevet ned resultatet, kjør kommandoene i en ny celle.\n* a = 3\n* b = -2\n* c = 2\n* b = a + 2*c\n* a = b - a + c\n* print(a)\n* print(b)\n* print(c)"
    },
    {
      "metadata": {
        "trusted": true
      },
      "cell_type": "code",
      "source": "",
      "execution_count": null,
      "outputs": []
    },
    {
      "metadata": {},
      "cell_type": "markdown",
      "source": "Øving: Tenk over hva som vil printes dersom følgende kommandoer kjøres. Når du har tenkt over det og skrevet ned resultatet, kjør kommandoene i en ny celle.\n* a = 3\n* b = -2\n* c = a - 2*b\n* b = a + 2*c\n* a = b - a + c\n* print(a)\n* print(b)\n* print(c)"
    },
    {
      "metadata": {
        "trusted": true
      },
      "cell_type": "code",
      "source": "",
      "execution_count": null,
      "outputs": []
    },
    {
      "metadata": {},
      "cell_type": "markdown",
      "source": "Øving: Tenk over hva som vil printes dersom følgende kommandoer kjøres. Når du har tenkt over det og skrevet ned resultatet, kjør kommandoene i en ny celle.\n* a = 2\n* b = 5\n* c = 0\n* d = b - 3*a\n* e = a - 2*(c + 1)\n* a = a + 3 - b*c\n* b = a + 2*d\n* e = a * b + d\n* d = d + e\n* c = d - e\n* print(a)\n* print(b)\n* print(c)\n* print(d)\n* print(e)"
    },
    {
      "metadata": {
        "trusted": true
      },
      "cell_type": "code",
      "source": "",
      "execution_count": null,
      "outputs": []
    },
    {
      "metadata": {},
      "cell_type": "markdown",
      "source": "# Regler for variabelnavn i Python\nAlle variabelnavn må begynne med en bokstav eller en underscore. Resten av navnet kan være bokstaver, underscores og tall. Det betyr noe om du bruker små eller store bokstaver. Navnene \"variabelnavn\" og \"Variabelnavn\" er ulike.\n\nI Python anbefales det at man bruker deskriptive variabelnavn med små bokstaver og underscores.\n\nGode variabelnavn er:\n* dumme_vitser\n* stygge_hunder\n\nDårlige variabelnavn er:\n* l\n* detteervariabelnavnetmittogdeteruleselig\n\n(Er det et 1-tall? Er det en liten L? Er det en stor i?)"
    },
    {
      "metadata": {},
      "cell_type": "markdown",
      "source": "# Vanlige feil ved bruk av variabler\nHer er noen vanlige feil som er greit å være bevisst, så det blir lettere å unngå å gjøre dem selv.\n\nPass på om du bruker store bokstaver eller ikke i variabelnavnene.\n\nPass på at du staver ordene dine rett. Det går an å kalle variabelen sin styyge_hudner, men det er lettere neste gang man skal bruke variabelen dersom man skriver ordene slik de står i ordboken.\n\nAlle variabler må defineres før de kan brukes. Det innebærer at de må stå høyere opp i koden enn linjen der man prøver å bruke den.\n\n\nMan må alltid alltid absolutt alltid uten unntak skrive variabel = verdi, ikke verdi = variabel. Pass på at variabelnavnet står på venstre side av likhetstegnet."
    },
    {
      "metadata": {},
      "cell_type": "markdown",
      "source": "Øving: Skriv kode som gjør alle feilene nevnt over."
    },
    {
      "metadata": {
        "trusted": true
      },
      "cell_type": "code",
      "source": "",
      "execution_count": null,
      "outputs": []
    },
    {
      "metadata": {},
      "cell_type": "markdown",
      "source": "###### Øystein Grøndahl, oktober 2018"
    }
  ],
  "metadata": {
    "anaconda-cloud": {},
    "kernelspec": {
      "name": "python3",
      "display_name": "Python 3",
      "language": "python"
    },
    "language_info": {
      "mimetype": "text/x-python",
      "nbconvert_exporter": "python",
      "name": "python",
      "file_extension": ".py",
      "version": "3.5.4",
      "pygments_lexer": "ipython3",
      "codemirror_mode": {
        "version": 3,
        "name": "ipython"
      }
    }
  },
  "nbformat": 4,
  "nbformat_minor": 1
}