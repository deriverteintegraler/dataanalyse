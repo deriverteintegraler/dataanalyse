{
 "cells": [
  {
   "cell_type": "markdown",
   "metadata": {},
   "source": [
    "# Grunnleggende datatyper i Python\n",
    "Vi har mange ulike datatyper. De mest grunnleggende og vanligste er tall, tekst, lister, tuples og dictionaries.\n",
    "\n",
    "## Tall\n",
    "Tall finnes i flere formater, men de viktigste er heltall (int) og desimaltall (float). Vi har også komplekse og imaginære tall.\n",
    "\n",
    "## Tekst\n",
    "Tekst eller strings skrives mellom disse '' eller mellom disse \"\".\n",
    "\n",
    "## Lister\n",
    "Lister skrives med [] rundt, og elementene skilles med komma. Elementene trenger ikke ha like typer, og en liste kan inneholde en liste. Lister kan modifiseres på mange måter.\n",
    "\n",
    "## Tuples\n",
    "Tuples skrives med () rundt, og elementene skilles med komma. Elementene trenger ikke ha like typer, og en tuple kan inneholde en tuple. Tuples kan normalt ikke modifiseres, men det er unntak.\n",
    "\n",
    "## Dictionaries\n",
    "Dictionaries skrives med {} rundt, linken mellom nøkkel og verdi er kolon : og elementene skilles med komma. Elementene trenger ikke ha like typer, og en dictionary kan inneholde en dictionary. Dictionaries kan modifiseres.\n",
    "\n",
    "## Typer\n",
    "Vi kan sjekke typen til et objekt ved å skrive type(objekt). For å printe det, skriv print(type(objekt)).\n",
    "\n",
    "## Kommentarer\n",
    "Kommentarer skrives med \\# foran teksten."
   ]
  },
  {
   "cell_type": "code",
   "execution_count": null,
   "metadata": {},
   "outputs": [],
   "source": [
    "heltallet = 6\n",
    "desimaltallet = 3.14              # Dette er en kommentar på linje 2\n",
    "teksten = \"dette er en tekst\"\n",
    "listen = [3, 6.7, 'hei', 'på', \"deg\", teksten, heltallet, [-3, 'tekst', 12], 9]  # Legg merke til at det ikke gjør noen forskjell om det står '' eller \"\". Mer om dette senere.\n",
    "tuplen = (5, heltallet, 'her er det mer tekst')\n",
    "ordboken = {'Per': 22334455, 'Kari': 99887766}\n",
    "\n",
    "print(heltallet)\n",
    "print(type(heltallet))\n",
    "print(desimaltallet)\n",
    "print(type(desimaltallet))\n",
    "print(teksten)\n",
    "print(type(teksten))\n",
    "print(listen)\n",
    "print(type(listen))\n",
    "print(tuplen)\n",
    "print(type(tuplen))\n",
    "print(ordboken)\n",
    "print(type(ordboken))"
   ]
  },
  {
   "cell_type": "markdown",
   "metadata": {},
   "source": [
    "###### Øystein Grøndahl, september 2020"
   ]
  }
 ],
 "metadata": {
  "kernelspec": {
   "display_name": "Python 3",
   "language": "python",
   "name": "python3"
  },
  "language_info": {
   "codemirror_mode": {
    "name": "ipython",
    "version": 3
   },
   "file_extension": ".py",
   "mimetype": "text/x-python",
   "name": "python",
   "nbconvert_exporter": "python",
   "pygments_lexer": "ipython3",
   "version": "3.8.3"
  }
 },
 "nbformat": 4,
 "nbformat_minor": 2
}
