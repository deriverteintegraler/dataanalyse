{
  "cells": [
    {
      "metadata": {},
      "cell_type": "markdown",
      "source": "# Tid\n"
    },
    {
      "metadata": {
        "trusted": true
      },
      "cell_type": "code",
      "source": "import time\nhelp(time)",
      "execution_count": null,
      "outputs": []
    },
    {
      "metadata": {
        "trusted": true
      },
      "cell_type": "code",
      "source": "# Antall sekunder siden January 1st, 1970, UTC\nprint(time.time())\n# Antall år siden January 1st, 1970, ser ut til å stemme\nprint(time.time()/(60*60*24*365))",
      "execution_count": null,
      "outputs": []
    },
    {
      "metadata": {
        "trusted": true
      },
      "cell_type": "code",
      "source": "# Lokal tidssone\nprint(time.timezone)",
      "execution_count": null,
      "outputs": []
    },
    {
      "metadata": {
        "trusted": true
      },
      "cell_type": "code",
      "source": "for i in range(6):\n    print(i)",
      "execution_count": null,
      "outputs": []
    },
    {
      "metadata": {
        "trusted": true
      },
      "cell_type": "code",
      "source": "for i in range(6):\n    print(i)\n    time.sleep(1)",
      "execution_count": null,
      "outputs": []
    },
    {
      "metadata": {
        "trusted": true
      },
      "cell_type": "code",
      "source": "print(time.localtime())\nprint(time.localtime().tm_mday)\nprint(time.localtime().tm_min)\nprint(time.localtime().tm_wday)\nprint(time.asctime())",
      "execution_count": null,
      "outputs": []
    },
    {
      "metadata": {
        "trusted": true
      },
      "cell_type": "code",
      "source": "while True:\n    print(time.gmtime(time.time()).tm_sec)\n    time.sleep(1)\n    if time.gmtime(time.time()).tm_sec < 3:\n        break",
      "execution_count": null,
      "outputs": []
    },
    {
      "metadata": {
        "trusted": true
      },
      "cell_type": "code",
      "source": "import os, time\nprint(time.strftime('%X %x %Z'))\nprint(time.strftime('%X %x %Y %y %Z %z'))\nos.environ['TZ'] = 'UTC'\nprint(time.strftime('%X %x %Z'))\nos.environ['TZ'] = 'Europe/Oslo'\nprint(time.strftime('%X %x %Z'))",
      "execution_count": null,
      "outputs": []
    },
    {
      "metadata": {
        "trusted": true
      },
      "cell_type": "markdown",
      "source": "        %Y  Year with century as a decimal number.\n        %m  Month as a decimal number [01,12].\n        %d  Day of the month as a decimal number [01,31].\n        %H  Hour (24-hour clock) as a decimal number [00,23].\n        %M  Minute as a decimal number [00,59].\n        %S  Second as a decimal number [00,61].\n        %z  Time zone offset from UTC.\n        %a  Locale's abbreviated weekday name.\n        %A  Locale's full weekday name.\n        %b  Locale's abbreviated month name.\n        %B  Locale's full month name.\n        %c  Locale's appropriate date and time representation.\n        %I  Hour (12-hour clock) as a decimal number [01,12].\n        %p  Locale's equivalent of either AM or PM."
    },
    {
      "metadata": {
        "trusted": true
      },
      "cell_type": "code",
      "source": "t1 = time.time()\nfor i in range(10):\n    time.sleep(1)\n\nt2= time.time()\n\nprint(t2-t1)",
      "execution_count": null,
      "outputs": []
    },
    {
      "metadata": {
        "trusted": true
      },
      "cell_type": "code",
      "source": "from datetime import datetime\n\njulaften = datetime(2018, 12, 24, 18, 0, 0)\nnedtelling = julaften - datetime.now()\nprint(nedtelling)\n\njulaften = datetime(datetime.today().year, 12, 24, 18, 0, 0)\nnedtelling = julaften - datetime.now()\nprint(nedtelling)",
      "execution_count": null,
      "outputs": []
    },
    {
      "metadata": {},
      "cell_type": "markdown",
      "source": "###### Øystein Grøndahl, oktober 2018"
    }
  ],
  "metadata": {
    "kernelspec": {
      "name": "python3",
      "display_name": "Python 3",
      "language": "python"
    },
    "language_info": {
      "mimetype": "text/x-python",
      "nbconvert_exporter": "python",
      "name": "python",
      "pygments_lexer": "ipython3",
      "version": "3.5.4",
      "file_extension": ".py",
      "codemirror_mode": {
        "version": 3,
        "name": "ipython"
      }
    }
  },
  "nbformat": 4,
  "nbformat_minor": 2
}