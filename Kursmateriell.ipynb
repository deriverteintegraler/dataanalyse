{
 "cells": [
  {
   "cell_type": "markdown",
   "metadata": {},
   "source": [
    "# Kurs i dataanalyse med programmering\n",
    "\n",
    "Dette dokumentet er kursnotater for et kurs i dataanalyse med programmering.\n",
    "\n",
    "Innhold:\n",
    "- Lese data ut fra excel-filer, csv-filer og kilder på nettet fra for eksempel Statistisk sentralbyrå\n",
    "- Bearbeiding av data og plotting av grafer\n",
    "- Skrive resultater til excel-filer eller csv-filer\n",
    "- Innholdet på kurset er i hovedsak språkuavhengig\n",
    "\n",
    "Anbefalte forkunnskaper:\n",
    "- Grunnleggende erfaring med Python eller andre programmeringsspråk\n",
    "- Grunnleggende erfaring med datatyper som string, list, int og float\n",
    "- Grunnleggende erfaring med for- og whileløkker\n",
    "- Grunnleggende erfaringer med funksjoner, inputs og outputs"
   ]
  },
  {
   "cell_type": "markdown",
   "metadata": {},
   "source": [
    "## Åpne en csv-fil\n",
    "Dette gjøres på ulike måter avhengig av filformat og hva vi vil gjøre. La oss begynne helt grunnleggende med en csv-fil. Dette står for \"comma separated values\", og er et standard format å lagre data. Se under tabellen fra Statistisk sentralbyrå, der det står \"Last ned som CSV-fil\": https://www.ssb.no/befolkning/statistikker/befsvalbard\n",
    "\n",
    "Prøv å laste ned filen og åpne den i Notisblokk (Notepad). Du vil da få et bilde som vist under. Det er de samme dataene som i tabellen på nettsiden til SSB, men lagret i et kompakt format (og ikke avhengig av betalingsløsninger som Excel)."
   ]
  },
  {
   "cell_type": "markdown",
   "metadata": {},
   "source": [
    "<img src=\"csv eksempel.png\">"
   ]
  },
  {
   "cell_type": "markdown",
   "metadata": {},
   "source": [
    "Vi kan åpne denne filen og lese ut innholdet. Legg merke til at SSB har valgt å bruke semikolon i stedet for komma for å skille verdiene. Dette er trolig fordi vi på norsk bruker komma for å skrive desimaltall, og derfor vil det være dumt å bruke komma for å skille mellom verdiene, siden man da ikke ville visst om det var et desimaltall eller to separate tall. Vi bruker encoding utf-8 for at Python skal kjenne igjen norske bokstaver. Uten denne vil \"halvår\" bli \"halvÃ¥r\"."
   ]
  },
  {
   "cell_type": "code",
   "execution_count": 41,
   "metadata": {},
   "outputs": [
    {
     "name": "stdout",
     "output_type": "stream",
     "text": [
      ";2. halvår 2020;2. halvår 2020;2. halvår 2020;\n",
      "\n",
      "I alt;Menn;Kvinner;\n",
      "\n",
      "I alt;2417;1302;1115;\n",
      "\n",
      "0 år;15;9;6;\n",
      "\n",
      "1-5 år;107;53;54;\n",
      "\n",
      "6-12 år;170;89;81;\n",
      "\n",
      "13-15 år;53;33;20;\n",
      "\n",
      "16-19 år;84;43;41;\n",
      "\n",
      "20-44 år;1294;669;625;\n",
      "\n",
      "45-66 år;649;373;276;\n",
      "\n",
      "67 år eller eldre;45;33;12;\n",
      "\n"
     ]
    }
   ],
   "source": [
    "fil = open(\"Befolkningen på Svalbard.csv\", encoding='utf-8-sig')\n",
    "for rad in fil:\n",
    "    print(rad)"
   ]
  },
  {
   "cell_type": "markdown",
   "metadata": {},
   "source": [
    "Denne måten å åpne en csv-fil på virker bare hvis filen er i samme mappe som python-filen vi jobber i. Du kan åpne filer fra andre mapper som vist under. Legg merke til at det er dobbel \\ selv om det i Windows bare er C:\\Users\\oyste\\Downloads. Dette er fordi \\ er en \"escape character\" i strings i Python. Du kan lese mer om dette hvis du vil, bare husk på at i mappe-adresser på PCen må du ha dobbel \\."
   ]
  },
  {
   "cell_type": "code",
   "execution_count": 40,
   "metadata": {},
   "outputs": [
    {
     "name": "stdout",
     "output_type": "stream",
     "text": [
      ";2. halvår 2020;2. halvår 2020;2. halvår 2020;\n",
      "\n",
      "I alt;Menn;Kvinner;\n",
      "\n",
      "I alt;2417;1302;1115;\n",
      "\n",
      "0 år;15;9;6;\n",
      "\n",
      "1-5 år;107;53;54;\n",
      "\n",
      "6-12 år;170;89;81;\n",
      "\n",
      "13-15 år;53;33;20;\n",
      "\n",
      "16-19 år;84;43;41;\n",
      "\n",
      "20-44 år;1294;669;625;\n",
      "\n",
      "45-66 år;649;373;276;\n",
      "\n",
      "67 år eller eldre;45;33;12;\n",
      "\n"
     ]
    }
   ],
   "source": [
    "nyfil = open(\"C:\\\\Users\\\\oyste\\\\Downloads\\\\\" + \"eksempel.csv\", encoding='utf-8-sig')\n",
    "for rad in nyfil:\n",
    "    print(rad)"
   ]
  },
  {
   "cell_type": "markdown",
   "metadata": {},
   "source": [
    "Det finnes også egne Python-verktøy for å jobbe med csv-filer, se eksemplet under. Denne fil-leseren har en fordel ved at den deler opp en rad i elementer og lager en liste av de, i stedet for at hele raden er én sammenhengende tekst-streng."
   ]
  },
  {
   "cell_type": "code",
   "execution_count": 45,
   "metadata": {},
   "outputs": [
    {
     "name": "stdout",
     "output_type": "stream",
     "text": [
      "['', '2. halvår 2020', '2. halvår 2020', '2. halvår 2020', '']\n",
      "['I alt', 'Menn', 'Kvinner', '']\n",
      "['I alt', '2417', '1302', '1115', '']\n",
      "['0 år', '15', '9', '6', '']\n",
      "['1-5 år', '107', '53', '54', '']\n",
      "['6-12 år', '170', '89', '81', '']\n",
      "['13-15 år', '53', '33', '20', '']\n",
      "['16-19 år', '84', '43', '41', '']\n",
      "['20-44 år', '1294', '669', '625', '']\n",
      "['45-66 år', '649', '373', '276', '']\n",
      "['67 år eller eldre', '45', '33', '12', '']\n"
     ]
    }
   ],
   "source": [
    "import csv\n",
    "with open('Befolkningen på Svalbard.csv', encoding = \"utf-8-sig\") as csvfile:\n",
    "    reader = csv.reader(csvfile, delimiter=';')\n",
    "    for row in reader:\n",
    "        print(row)"
   ]
  },
  {
   "cell_type": "markdown",
   "metadata": {},
   "source": [
    "Det er noen svakheter, som f.eks. at hver liste/rad avsluttes med et komma og en tom string: , ''\n",
    "\n",
    "Dette skjer fordi SSB har valgt å avslutte hver rad med semikolon. Dette håndterer vi ved å fjerne semikolon på slutten av hver rad, eller ved å bare ignorere siste element i listene.\n",
    "\n",
    "Legg merke til at hvert element i listene er tekst/string. Noen av disse må konverteres til tall/float/int. I denne sammenhengen gjelder tallene antall mennesker, og desimaltall er ikke relevant. Vi bruker derfor heltall/int.\n",
    "\n",
    "Under er et grunnleggende eksempel på hvordan vi kan lese ut data til et mer håndterbart format. Her velger vi å bruke en liste per kolonne, men vi kunne også valgt å bruke en liste per rad, eller å strukturere dataene på en annen måte."
   ]
  },
  {
   "cell_type": "code",
   "execution_count": 70,
   "metadata": {},
   "outputs": [
    {
     "name": "stdout",
     "output_type": "stream",
     "text": [
      "['I alt', '2417', '1302', '1115', '']\n",
      "['0 år', '15', '9', '6', '']\n",
      "['1-5 år', '107', '53', '54', '']\n",
      "['6-12 år', '170', '89', '81', '']\n",
      "['13-15 år', '53', '33', '20', '']\n",
      "['16-19 år', '84', '43', '41', '']\n",
      "['20-44 år', '1294', '669', '625', '']\n",
      "['45-66 år', '649', '373', '276', '']\n",
      "['67 år eller eldre', '45', '33', '12', '']\n",
      "['I alt', '0 år', '1-5 år', '6-12 år', '13-15 år', '16-19 år', '20-44 år', '45-66 år', '67 år eller eldre']\n",
      "[2417, 15, 107, 170, 53, 84, 1294, 649, 45]\n",
      "[1302, 9, 53, 89, 33, 43, 669, 373, 33]\n",
      "[1115, 6, 54, 81, 20, 41, 625, 276, 12]\n"
     ]
    }
   ],
   "source": [
    "import csv\n",
    "\n",
    "aldersgruppeliste = []\n",
    "sumliste = []\n",
    "mennliste = []\n",
    "kvinneliste = []\n",
    "\n",
    "with open('Befolkningen på Svalbard.csv', encoding = \"utf-8-sig\") as csvfile:\n",
    "    reader = csv.reader(csvfile, delimiter=';')\n",
    "    next(reader) # hopper over første rad\n",
    "    next(reader) # hopper over andre rad\n",
    "    for rad in reader:\n",
    "        print(rad)\n",
    "        aldersgruppeliste.append(rad[0])\n",
    "        sumliste.append(int(rad[1]))\n",
    "        mennliste.append(int(rad[2]))\n",
    "        kvinneliste.append(int(rad[3]))\n",
    "\n",
    "print(aldersgruppeliste)\n",
    "print(sumliste)\n",
    "print(mennliste)\n",
    "print(kvinneliste)"
   ]
  },
  {
   "cell_type": "markdown",
   "metadata": {},
   "source": [
    "Vi kan bruke disse dataene f.eks. til å lage et plot over aldersfordelingen. Vi bruker mennliste[:1] for å ikke ta med summen av alle menn (1302)."
   ]
  },
  {
   "cell_type": "code",
   "execution_count": 145,
   "metadata": {},
   "outputs": [
    {
     "data": {
      "image/png": "[encoded data removed]",
      "text/plain": [
       "<Figure size 432x288 with 1 Axes>"
      ]
     },
     "metadata": {
      "needs_background": "light"
     },
     "output_type": "display_data"
    }
   ],
   "source": [
    "import matplotlib.pyplot as plt\n",
    "import numpy as np\n",
    "\n",
    "fig = plt.figure()\n",
    "\n",
    "plt.plot(mennliste[1:], linestyle='--', marker='o')\n",
    "\n",
    "plt.xticks(np.arange(len(mennliste[1:])), aldersgruppeliste[1:], rotation ='vertical')\n",
    "plt.grid()\n",
    "plt.show()"
   ]
  },
  {
   "cell_type": "code",
   "execution_count": 132,
   "metadata": {},
   "outputs": [
    {
     "data": {
      "image/png": "[encoded data removed]",
      "text/plain": [
       "<Figure size 432x288 with 1 Axes>"
      ]
     },
     "metadata": {
      "needs_background": "light"
     },
     "output_type": "display_data"
    }
   ],
   "source": [
    "import matplotlib\n",
    "import matplotlib.pyplot as plt\n",
    "import numpy as np\n",
    "\n",
    "labels = aldersgruppeliste[1:]\n",
    "\n",
    "x = np.arange(len(labels))  # the label locations\n",
    "width = 0.35  # the width of the bars\n",
    "\n",
    "fig, ax = plt.subplots()\n",
    "rects1 = ax.bar(x - width/2, mennliste[1:], width, label='Menn')\n",
    "rects2 = ax.bar(x + width/2, kvinneliste[1:], width, label='Kvinner')\n",
    "\n",
    "# Add some text for labels, title and custom x-axis tick labels, etc.\n",
    "ax.set_ylabel('Antall personer')\n",
    "ax.set_title('Befolkning på Svalbard per aldersgruppe og kjønn')\n",
    "ax.set_xticks(x)\n",
    "ax.set_xticklabels(labels, rotation ='vertical')\n",
    "ax.legend()\n",
    "\n",
    "plt.grid()\n",
    "plt.show()\n",
    "\n",
    "# Modifisert fra https://matplotlib.org/stable/gallery/lines_bars_and_markers/barchart.html"
   ]
  },
  {
   "cell_type": "markdown",
   "metadata": {},
   "source": [
    "Vi kan gjøre beregninger på tallene, f.eks. kunne vi satt opp estimater for tallene for neste år. La oss hoppe over selve beregningene nå, og late som estimatene for neste år er slik:"
   ]
  },
  {
   "cell_type": "code",
   "execution_count": 142,
   "metadata": {},
   "outputs": [
    {
     "name": "stdout",
     "output_type": "stream",
     "text": [
      "[1302, 9, 53, 89, 33, 43, 669, 373, 33]\n",
      "[1115, 6, 54, 81, 20, 41, 625, 276, 12]\n"
     ]
    }
   ],
   "source": [
    "print(mennliste)\n",
    "print(kvinneliste)\n",
    "mennliste_2021 = [1303, 9, 55, 93, 35, 42, 681, 356, 32]\n",
    "kvinneliste_2021 = [1128, 7, 56, 83, 19, 40, 630, 280, 13]"
   ]
  },
  {
   "cell_type": "markdown",
   "metadata": {},
   "source": [
    "Når vi har gjort beregninger bør vi lagre dataene slik at vi ikke må gjøre beregningene på nytt hver gang vi vil se eller bruke de. Vi kan lagre til en ny csv-fil på f.eks. denne måten:"
   ]
  },
  {
   "cell_type": "code",
   "execution_count": 144,
   "metadata": {},
   "outputs": [],
   "source": [
    "import csv\n",
    "with open('estimater_2021.csv', 'w', newline='') as csvfile:\n",
    "    writer = csv.writer(csvfile, delimiter=';')\n",
    "    writer.writerow([\"Estimater for befolkning på Svalbard i 2021\"])\n",
    "    for i in range(len(aldersgruppeliste)):\n",
    "        rad = [aldersgruppeliste[i], mennliste_2021[i], kvinneliste_2021[i]]\n",
    "        writer.writerow(rad)"
   ]
  },
  {
   "cell_type": "markdown",
   "metadata": {},
   "source": [
    "Vi får da en fil med resultatene som ser slik ut:\n",
    "<img src=\"csv output eksempel.png\">"
   ]
  },
  {
   "cell_type": "markdown",
   "metadata": {},
   "source": [
    "## Verktøyet Pandas for dataanalyse\n",
    "Vi kan bruke Pandas for å få hjelp til å håndtere store datamengder og utføre dataanalyse. La oss begynne med et enkelt eksempel. En måte vi kan lagre data i Python er i en dictionary. Det er en datatype som knytter et element til et annet element. Vi kan bruke en dictionary til å knytte en kolonne med verdier til en kolonneoverskrift."
   ]
  },
  {
   "cell_type": "code",
   "execution_count": 156,
   "metadata": {},
   "outputs": [
    {
     "name": "stdout",
     "output_type": "stream",
     "text": [
      "{'timer_jobb': [4, 5, 2, 9], 'lønn': [824, 1012, 359, 1703]}\n",
      "[4, 5, 2, 9]\n"
     ]
    }
   ],
   "source": [
    "data = {\n",
    "    \"timer_jobb\": [4, 5, 2, 9],\n",
    "    \"lønn\": [824, 1012, 359, 1703]\n",
    "}\n",
    "\n",
    "print(data)\n",
    "print(data[\"timer_jobb\"])"
   ]
  },
  {
   "cell_type": "code",
   "execution_count": 230,
   "metadata": {},
   "outputs": [
    {
     "name": "stdout",
     "output_type": "stream",
     "text": [
      "   timer_jobb  lønn\n",
      "0           4   824\n",
      "1           5  1012\n",
      "2           2   359\n",
      "3           9  1703\n"
     ]
    }
   ],
   "source": [
    "import pandas as pd\n",
    "\n",
    "data = {\n",
    "    \"timer_jobb\": [4, 5, 2, 9],\n",
    "    \"lønn\": [824, 1012, 359, 1703]\n",
    "}\n",
    "\n",
    "# I Pandas bruker vi dataframes for å holde på dataene. De pleier å ha navn df.\n",
    "df = pd.DataFrame(data)\n",
    "\n",
    "print(df) "
   ]
  },
  {
   "cell_type": "markdown",
   "metadata": {},
   "source": [
    "Legg merke til at pandas viser oss et radnummer på venstre side. Dette begynner med 0, men teller ikke med overskriftene. Vi kan printe en eller flere bestemte rader:"
   ]
  },
  {
   "cell_type": "code",
   "execution_count": 164,
   "metadata": {},
   "outputs": [
    {
     "name": "stdout",
     "output_type": "stream",
     "text": [
      "   timer_jobb  lønn\n",
      "1           5  1012\n",
      "3           9  1703\n"
     ]
    }
   ],
   "source": [
    "print(df.loc[[1, 3]])"
   ]
  },
  {
   "cell_type": "markdown",
   "metadata": {},
   "source": [
    "Vi kan endre radnummerene, men da endres også loc-funksjonen:"
   ]
  },
  {
   "cell_type": "code",
   "execution_count": 231,
   "metadata": {},
   "outputs": [
    {
     "name": "stdout",
     "output_type": "stream",
     "text": [
      "         timer_jobb  lønn\n",
      "mandag            4   824\n",
      "tirsdag           5  1012\n",
      "onsdag            2   359\n",
      "torsdag           9  1703\n",
      "\n",
      "\n",
      "         timer_jobb  lønn\n",
      "tirsdag           5  1012\n",
      "torsdag           9  1703\n"
     ]
    }
   ],
   "source": [
    "df = pd.DataFrame(data, index = [\"mandag\", \"tirsdag\", \"onsdag\", \"torsdag\"])\n",
    "print(df)\n",
    "\n",
    "print(\"\\n\")\n",
    "\n",
    "print(df.loc[[\"tirsdag\", \"torsdag\"]])"
   ]
  },
  {
   "cell_type": "markdown",
   "metadata": {},
   "source": [
    "Vi kan finne verdier i en bestemt rad og kolonne ved å bruke iloc med radnummer og kolonnenummer."
   ]
  },
  {
   "cell_type": "code",
   "execution_count": 234,
   "metadata": {},
   "outputs": [
    {
     "name": "stdout",
     "output_type": "stream",
     "text": [
      "824\n"
     ]
    }
   ],
   "source": [
    "print(df.iloc[0,1])"
   ]
  },
  {
   "cell_type": "markdown",
   "metadata": {},
   "source": [
    "## Åpne en csv-fil med Pandas\n",
    "Pandas kan også brukes til å åpne filer. Se enkelt eksempel under. Legg merke til at Pandas gjør noen antakelser om hva som er overskrifter og innhold. Prøv med ulike verdier bak \"header\" for å se hva som skjer med overskriftsradene. Legg merke til forskjellen på \"print(df)\" og på å bare skrive \"df\" på en rad."
   ]
  },
  {
   "cell_type": "code",
   "execution_count": 208,
   "metadata": {},
   "outputs": [
    {
     "name": "stdout",
     "output_type": "stream",
     "text": [
      "                   I alt  Menn  Kvinner  Unnamed: 3\n",
      "I alt               2417  1302     1115         NaN\n",
      "0 år                  15     9        6         NaN\n",
      "1-5 år               107    53       54         NaN\n",
      "6-12 år              170    89       81         NaN\n",
      "13-15 år              53    33       20         NaN\n",
      "16-19 år              84    43       41         NaN\n",
      "20-44 år            1294   669      625         NaN\n",
      "45-66 år             649   373      276         NaN\n",
      "67 år eller eldre     45    33       12         NaN\n"
     ]
    },
    {
     "data": {
      "text/html": [
       "<div>\n",
       "<style scoped>\n",
       "    .dataframe tbody tr th:only-of-type {\n",
       "        vertical-align: middle;\n",
       "    }\n",
       "\n",
       "    .dataframe tbody tr th {\n",
       "        vertical-align: top;\n",
       "    }\n",
       "\n",
       "    .dataframe thead th {\n",
       "        text-align: right;\n",
       "    }\n",
       "</style>\n",
       "<table border=\"1\" class=\"dataframe\">\n",
       "  <thead>\n",
       "    <tr style=\"text-align: right;\">\n",
       "      <th></th>\n",
       "      <th>I alt</th>\n",
       "      <th>Menn</th>\n",
       "      <th>Kvinner</th>\n",
       "      <th>Unnamed: 3</th>\n",
       "    </tr>\n",
       "  </thead>\n",
       "  <tbody>\n",
       "    <tr>\n",
       "      <th>I alt</th>\n",
       "      <td>2417</td>\n",
       "      <td>1302</td>\n",
       "      <td>1115</td>\n",
       "      <td>NaN</td>\n",
       "    </tr>\n",
       "    <tr>\n",
       "      <th>0 år</th>\n",
       "      <td>15</td>\n",
       "      <td>9</td>\n",
       "      <td>6</td>\n",
       "      <td>NaN</td>\n",
       "    </tr>\n",
       "    <tr>\n",
       "      <th>1-5 år</th>\n",
       "      <td>107</td>\n",
       "      <td>53</td>\n",
       "      <td>54</td>\n",
       "      <td>NaN</td>\n",
       "    </tr>\n",
       "    <tr>\n",
       "      <th>6-12 år</th>\n",
       "      <td>170</td>\n",
       "      <td>89</td>\n",
       "      <td>81</td>\n",
       "      <td>NaN</td>\n",
       "    </tr>\n",
       "    <tr>\n",
       "      <th>13-15 år</th>\n",
       "      <td>53</td>\n",
       "      <td>33</td>\n",
       "      <td>20</td>\n",
       "      <td>NaN</td>\n",
       "    </tr>\n",
       "    <tr>\n",
       "      <th>16-19 år</th>\n",
       "      <td>84</td>\n",
       "      <td>43</td>\n",
       "      <td>41</td>\n",
       "      <td>NaN</td>\n",
       "    </tr>\n",
       "    <tr>\n",
       "      <th>20-44 år</th>\n",
       "      <td>1294</td>\n",
       "      <td>669</td>\n",
       "      <td>625</td>\n",
       "      <td>NaN</td>\n",
       "    </tr>\n",
       "    <tr>\n",
       "      <th>45-66 år</th>\n",
       "      <td>649</td>\n",
       "      <td>373</td>\n",
       "      <td>276</td>\n",
       "      <td>NaN</td>\n",
       "    </tr>\n",
       "    <tr>\n",
       "      <th>67 år eller eldre</th>\n",
       "      <td>45</td>\n",
       "      <td>33</td>\n",
       "      <td>12</td>\n",
       "      <td>NaN</td>\n",
       "    </tr>\n",
       "  </tbody>\n",
       "</table>\n",
       "</div>"
      ],
      "text/plain": [
       "                   I alt  Menn  Kvinner  Unnamed: 3\n",
       "I alt               2417  1302     1115         NaN\n",
       "0 år                  15     9        6         NaN\n",
       "1-5 år               107    53       54         NaN\n",
       "6-12 år              170    89       81         NaN\n",
       "13-15 år              53    33       20         NaN\n",
       "16-19 år              84    43       41         NaN\n",
       "20-44 år            1294   669      625         NaN\n",
       "45-66 år             649   373      276         NaN\n",
       "67 år eller eldre     45    33       12         NaN"
      ]
     },
     "execution_count": 208,
     "metadata": {},
     "output_type": "execute_result"
    }
   ],
   "source": [
    "import pandas as pd\n",
    "\n",
    "df = pd.read_csv(\"Befolkningen på Svalbard.csv\", sep=\";\", header = 1)\n",
    "print(df)\n",
    "df"
   ]
  },
  {
   "cell_type": "markdown",
   "metadata": {},
   "source": [
    "## Endre en dataframe\n",
    "La oss si at vi ønsker å fjerne raden med \"I alt\" og kolonnen \"I alt\", siden det kan beregnes senere hvis vi vil ha det. Vi vil også fjerne kolonnen Unnamed til høyre."
   ]
  },
  {
   "cell_type": "code",
   "execution_count": 213,
   "metadata": {},
   "outputs": [
    {
     "data": {
      "text/html": [
       "<div>\n",
       "<style scoped>\n",
       "    .dataframe tbody tr th:only-of-type {\n",
       "        vertical-align: middle;\n",
       "    }\n",
       "\n",
       "    .dataframe tbody tr th {\n",
       "        vertical-align: top;\n",
       "    }\n",
       "\n",
       "    .dataframe thead th {\n",
       "        text-align: right;\n",
       "    }\n",
       "</style>\n",
       "<table border=\"1\" class=\"dataframe\">\n",
       "  <thead>\n",
       "    <tr style=\"text-align: right;\">\n",
       "      <th></th>\n",
       "      <th>I alt</th>\n",
       "      <th>Menn</th>\n",
       "      <th>Kvinner</th>\n",
       "      <th>Unnamed: 3</th>\n",
       "    </tr>\n",
       "  </thead>\n",
       "  <tbody>\n",
       "    <tr>\n",
       "      <th>0 år</th>\n",
       "      <td>15</td>\n",
       "      <td>9</td>\n",
       "      <td>6</td>\n",
       "      <td>NaN</td>\n",
       "    </tr>\n",
       "    <tr>\n",
       "      <th>1-5 år</th>\n",
       "      <td>107</td>\n",
       "      <td>53</td>\n",
       "      <td>54</td>\n",
       "      <td>NaN</td>\n",
       "    </tr>\n",
       "    <tr>\n",
       "      <th>6-12 år</th>\n",
       "      <td>170</td>\n",
       "      <td>89</td>\n",
       "      <td>81</td>\n",
       "      <td>NaN</td>\n",
       "    </tr>\n",
       "    <tr>\n",
       "      <th>13-15 år</th>\n",
       "      <td>53</td>\n",
       "      <td>33</td>\n",
       "      <td>20</td>\n",
       "      <td>NaN</td>\n",
       "    </tr>\n",
       "    <tr>\n",
       "      <th>16-19 år</th>\n",
       "      <td>84</td>\n",
       "      <td>43</td>\n",
       "      <td>41</td>\n",
       "      <td>NaN</td>\n",
       "    </tr>\n",
       "    <tr>\n",
       "      <th>20-44 år</th>\n",
       "      <td>1294</td>\n",
       "      <td>669</td>\n",
       "      <td>625</td>\n",
       "      <td>NaN</td>\n",
       "    </tr>\n",
       "    <tr>\n",
       "      <th>45-66 år</th>\n",
       "      <td>649</td>\n",
       "      <td>373</td>\n",
       "      <td>276</td>\n",
       "      <td>NaN</td>\n",
       "    </tr>\n",
       "    <tr>\n",
       "      <th>67 år eller eldre</th>\n",
       "      <td>45</td>\n",
       "      <td>33</td>\n",
       "      <td>12</td>\n",
       "      <td>NaN</td>\n",
       "    </tr>\n",
       "  </tbody>\n",
       "</table>\n",
       "</div>"
      ],
      "text/plain": [
       "                   I alt  Menn  Kvinner  Unnamed: 3\n",
       "0 år                  15     9        6         NaN\n",
       "1-5 år               107    53       54         NaN\n",
       "6-12 år              170    89       81         NaN\n",
       "13-15 år              53    33       20         NaN\n",
       "16-19 år              84    43       41         NaN\n",
       "20-44 år            1294   669      625         NaN\n",
       "45-66 år             649   373      276         NaN\n",
       "67 år eller eldre     45    33       12         NaN"
      ]
     },
     "execution_count": 213,
     "metadata": {},
     "output_type": "execute_result"
    }
   ],
   "source": [
    "import pandas as pd\n",
    "\n",
    "df = pd.read_csv(\"Befolkningen på Svalbard.csv\", sep=\";\", header = 1)\n",
    "df = df.drop([\"I alt\"]) # fjerner en rad basert på radnavn\n",
    "df"
   ]
  },
  {
   "cell_type": "code",
   "execution_count": 214,
   "metadata": {},
   "outputs": [
    {
     "data": {
      "text/html": [
       "<div>\n",
       "<style scoped>\n",
       "    .dataframe tbody tr th:only-of-type {\n",
       "        vertical-align: middle;\n",
       "    }\n",
       "\n",
       "    .dataframe tbody tr th {\n",
       "        vertical-align: top;\n",
       "    }\n",
       "\n",
       "    .dataframe thead th {\n",
       "        text-align: right;\n",
       "    }\n",
       "</style>\n",
       "<table border=\"1\" class=\"dataframe\">\n",
       "  <thead>\n",
       "    <tr style=\"text-align: right;\">\n",
       "      <th></th>\n",
       "      <th>Menn</th>\n",
       "      <th>Kvinner</th>\n",
       "    </tr>\n",
       "  </thead>\n",
       "  <tbody>\n",
       "    <tr>\n",
       "      <th>0 år</th>\n",
       "      <td>9</td>\n",
       "      <td>6</td>\n",
       "    </tr>\n",
       "    <tr>\n",
       "      <th>1-5 år</th>\n",
       "      <td>53</td>\n",
       "      <td>54</td>\n",
       "    </tr>\n",
       "    <tr>\n",
       "      <th>6-12 år</th>\n",
       "      <td>89</td>\n",
       "      <td>81</td>\n",
       "    </tr>\n",
       "    <tr>\n",
       "      <th>13-15 år</th>\n",
       "      <td>33</td>\n",
       "      <td>20</td>\n",
       "    </tr>\n",
       "    <tr>\n",
       "      <th>16-19 år</th>\n",
       "      <td>43</td>\n",
       "      <td>41</td>\n",
       "    </tr>\n",
       "    <tr>\n",
       "      <th>20-44 år</th>\n",
       "      <td>669</td>\n",
       "      <td>625</td>\n",
       "    </tr>\n",
       "    <tr>\n",
       "      <th>45-66 år</th>\n",
       "      <td>373</td>\n",
       "      <td>276</td>\n",
       "    </tr>\n",
       "    <tr>\n",
       "      <th>67 år eller eldre</th>\n",
       "      <td>33</td>\n",
       "      <td>12</td>\n",
       "    </tr>\n",
       "  </tbody>\n",
       "</table>\n",
       "</div>"
      ],
      "text/plain": [
       "                   Menn  Kvinner\n",
       "0 år                  9        6\n",
       "1-5 år               53       54\n",
       "6-12 år              89       81\n",
       "13-15 år             33       20\n",
       "16-19 år             43       41\n",
       "20-44 år            669      625\n",
       "45-66 år            373      276\n",
       "67 år eller eldre    33       12"
      ]
     },
     "execution_count": 214,
     "metadata": {},
     "output_type": "execute_result"
    }
   ],
   "source": [
    "import pandas as pd\n",
    "\n",
    "df = pd.read_csv(\"Befolkningen på Svalbard.csv\", sep=\";\", header = 1)\n",
    "df = df.drop([\"I alt\"]) # fjerner en rad basert på radnavn\n",
    "df = df.drop(columns = [\"I alt\", \"Unnamed: 3\"]) # fjerner to kolonner basert på kolonnenavn\n",
    "df"
   ]
  },
  {
   "cell_type": "markdown",
   "metadata": {},
   "source": [
    "Vi kan endre overskrifter eller rad-navn:"
   ]
  },
  {
   "cell_type": "code",
   "execution_count": 226,
   "metadata": {},
   "outputs": [
    {
     "data": {
      "text/html": [
       "<div>\n",
       "<style scoped>\n",
       "    .dataframe tbody tr th:only-of-type {\n",
       "        vertical-align: middle;\n",
       "    }\n",
       "\n",
       "    .dataframe tbody tr th {\n",
       "        vertical-align: top;\n",
       "    }\n",
       "\n",
       "    .dataframe thead th {\n",
       "        text-align: right;\n",
       "    }\n",
       "</style>\n",
       "<table border=\"1\" class=\"dataframe\">\n",
       "  <thead>\n",
       "    <tr style=\"text-align: right;\">\n",
       "      <th></th>\n",
       "      <th>Mennene</th>\n",
       "      <th>Kvinner</th>\n",
       "    </tr>\n",
       "  </thead>\n",
       "  <tbody>\n",
       "    <tr>\n",
       "      <th>Babyer</th>\n",
       "      <td>9</td>\n",
       "      <td>6</td>\n",
       "    </tr>\n",
       "    <tr>\n",
       "      <th>1-5 år</th>\n",
       "      <td>53</td>\n",
       "      <td>54</td>\n",
       "    </tr>\n",
       "    <tr>\n",
       "      <th>6-12 år</th>\n",
       "      <td>89</td>\n",
       "      <td>81</td>\n",
       "    </tr>\n",
       "    <tr>\n",
       "      <th>13-15 år</th>\n",
       "      <td>33</td>\n",
       "      <td>20</td>\n",
       "    </tr>\n",
       "    <tr>\n",
       "      <th>16-19 år</th>\n",
       "      <td>43</td>\n",
       "      <td>41</td>\n",
       "    </tr>\n",
       "    <tr>\n",
       "      <th>20-44 år</th>\n",
       "      <td>669</td>\n",
       "      <td>625</td>\n",
       "    </tr>\n",
       "    <tr>\n",
       "      <th>45-66 år</th>\n",
       "      <td>373</td>\n",
       "      <td>276</td>\n",
       "    </tr>\n",
       "    <tr>\n",
       "      <th>67+ år</th>\n",
       "      <td>33</td>\n",
       "      <td>12</td>\n",
       "    </tr>\n",
       "  </tbody>\n",
       "</table>\n",
       "</div>"
      ],
      "text/plain": [
       "          Mennene  Kvinner\n",
       "Babyer          9        6\n",
       "1-5 år         53       54\n",
       "6-12 år        89       81\n",
       "13-15 år       33       20\n",
       "16-19 år       43       41\n",
       "20-44 år      669      625\n",
       "45-66 år      373      276\n",
       "67+ år         33       12"
      ]
     },
     "execution_count": 226,
     "metadata": {},
     "output_type": "execute_result"
    }
   ],
   "source": [
    "import pandas as pd\n",
    "\n",
    "df = pd.read_csv(\"Befolkningen på Svalbard.csv\", sep=\";\", header = 1)\n",
    "df = df.drop([\"I alt\"]) # fjerner en rad basert på radnavn\n",
    "df = df.drop(columns = [\"I alt\", \"Unnamed: 3\"]) # fjerner to kolonner basert på kolonnenavn\n",
    "df = df.rename(columns={\"Menn\": \"Mennene\"}, index={\"0 år\": \"Babyer\", \"67 år eller eldre\": \"67+ år\"})\n",
    "df"
   ]
  },
  {
   "cell_type": "markdown",
   "metadata": {},
   "source": [
    "Vi kan også endre verdien av enkelte celler:"
   ]
  },
  {
   "cell_type": "code",
   "execution_count": 238,
   "metadata": {},
   "outputs": [
    {
     "data": {
      "text/html": [
       "<div>\n",
       "<style scoped>\n",
       "    .dataframe tbody tr th:only-of-type {\n",
       "        vertical-align: middle;\n",
       "    }\n",
       "\n",
       "    .dataframe tbody tr th {\n",
       "        vertical-align: top;\n",
       "    }\n",
       "\n",
       "    .dataframe thead th {\n",
       "        text-align: right;\n",
       "    }\n",
       "</style>\n",
       "<table border=\"1\" class=\"dataframe\">\n",
       "  <thead>\n",
       "    <tr style=\"text-align: right;\">\n",
       "      <th></th>\n",
       "      <th>Menn</th>\n",
       "      <th>Kvinner</th>\n",
       "    </tr>\n",
       "  </thead>\n",
       "  <tbody>\n",
       "    <tr>\n",
       "      <th>0 år</th>\n",
       "      <td>9</td>\n",
       "      <td>6</td>\n",
       "    </tr>\n",
       "    <tr>\n",
       "      <th>1-5 år</th>\n",
       "      <td>777</td>\n",
       "      <td>54</td>\n",
       "    </tr>\n",
       "    <tr>\n",
       "      <th>6-12 år</th>\n",
       "      <td>89</td>\n",
       "      <td>81</td>\n",
       "    </tr>\n",
       "    <tr>\n",
       "      <th>13-15 år</th>\n",
       "      <td>999</td>\n",
       "      <td>888888</td>\n",
       "    </tr>\n",
       "    <tr>\n",
       "      <th>16-19 år</th>\n",
       "      <td>eple</td>\n",
       "      <td>41</td>\n",
       "    </tr>\n",
       "    <tr>\n",
       "      <th>20-44 år</th>\n",
       "      <td>669</td>\n",
       "      <td>625</td>\n",
       "    </tr>\n",
       "    <tr>\n",
       "      <th>45-66 år</th>\n",
       "      <td>373</td>\n",
       "      <td>276</td>\n",
       "    </tr>\n",
       "    <tr>\n",
       "      <th>67 år eller eldre</th>\n",
       "      <td>999</td>\n",
       "      <td>12</td>\n",
       "    </tr>\n",
       "  </tbody>\n",
       "</table>\n",
       "</div>"
      ],
      "text/plain": [
       "                   Menn  Kvinner\n",
       "0 år                  9        6\n",
       "1-5 år              777       54\n",
       "6-12 år              89       81\n",
       "13-15 år            999   888888\n",
       "16-19 år           eple       41\n",
       "20-44 år            669      625\n",
       "45-66 år            373      276\n",
       "67 år eller eldre   999       12"
      ]
     },
     "execution_count": 238,
     "metadata": {},
     "output_type": "execute_result"
    }
   ],
   "source": [
    "import pandas as pd\n",
    "\n",
    "df = pd.read_csv(\"Befolkningen på Svalbard.csv\", sep=\";\", header = 1)\n",
    "df = df.drop([\"I alt\"]) # fjerner en rad basert på radnavn\n",
    "df = df.drop(columns = [\"I alt\", \"Unnamed: 3\"]) # fjerner to kolonner basert på kolonnenavn\n",
    "df = df.replace(33, 999) # Endrer 33 til 99 i alle kolonner.\n",
    "df = df.replace({43: \"eple\", 20: 888888}) # Endrer 43 til \"eple\" og 20 til 888888 i alle kolonner\n",
    "df = df.replace({\"Menn\": {53: 777, 54: 0, 81: 0}}) # Endrer bare i enkelte kolonner\n",
    "df\n",
    "\n",
    "# Det er også mange andre måter å endre verdier på, se f.eks.\n",
    "# https://pandas.pydata.org/pandas-docs/stable/reference/api/pandas.DataFrame.replace.html"
   ]
  },
  {
   "cell_type": "markdown",
   "metadata": {},
   "source": [
    "## Lagre en dataframe til csv-fil\n",
    "Når vi har gjort arbeid med en dataframe er det naturlig å lagre resultatet. Vi kan lagre til en csv-fil slik:"
   ]
  },
  {
   "cell_type": "code",
   "execution_count": 242,
   "metadata": {},
   "outputs": [],
   "source": [
    "import pandas as pd\n",
    "\n",
    "df = pd.read_csv(\"Befolkningen på Svalbard.csv\", sep=\";\", header = 1)\n",
    "df = df.drop([\"I alt\"]) # fjerner en rad basert på radnavn\n",
    "df = df.drop(columns = [\"I alt\", \"Unnamed: 3\"])\n",
    "df.to_csv(\"endret med pandas.csv\", sep=\";\")\n",
    "df.to_csv(\"endret med pandas uten index.csv\", sep=\";\", index=False)"
   ]
  },
  {
   "cell_type": "markdown",
   "metadata": {},
   "source": [
    "Dette gir disse to resultatene. Som vi ser bør vi ha med index-kolonnen hvis den inneholder informasjon, men den kan droppes hvis den bare teller fra 0 og oppover.\n",
    "<img src=\"pandas csv output med index.png\">\n",
    "<img src=\"pandas csv output uten index.png\">"
   ]
  },
  {
   "cell_type": "markdown",
   "metadata": {},
   "source": [
    "## Plotte en dataframe\n",
    "Pandas er ganske smart og kan hjelpe oss med å lage plots, men den gjetter på hva vi vil ha, så vi kan bli nødt til å spesifisere eller endre noe. Pandas benytter matplotlib, så du må importere det også."
   ]
  },
  {
   "cell_type": "code",
   "execution_count": 236,
   "metadata": {},
   "outputs": [
    {
     "data": {
      "image/png": "[encoded data removed]",
      "text/plain": [
       "<Figure size 432x288 with 1 Axes>"
      ]
     },
     "metadata": {
      "needs_background": "light"
     },
     "output_type": "display_data"
    }
   ],
   "source": [
    "import pandas as pd\n",
    "import matplotlib.pyplot as plt\n",
    "\n",
    "df = pd.read_csv(\"Befolkningen på Svalbard.csv\", sep=\";\", header = 1)\n",
    "df = df.drop([\"I alt\"]) # fjerner en rad basert på radnavn\n",
    "df = df.drop(columns = [\"I alt\", \"Unnamed: 3\"]) # fjerner to kolonner basert på kolonnenavn\n",
    "\n",
    "df.plot(kind='bar', rot=90) # Roterer x-labels 90 grader\n",
    "plt.grid()\n",
    "plt.show()"
   ]
  },
  {
   "cell_type": "markdown",
   "metadata": {},
   "source": [
    "## Åpne en Excel-fil med Pandas\n",
    "Vi kan åpne Excel-filer i Python. En måte å gjøre det på er å bruke Pandas, som er et verktøy for dataanalyse i Python."
   ]
  },
  {
   "cell_type": "code",
   "execution_count": 243,
   "metadata": {},
   "outputs": [
    {
     "name": "stdout",
     "output_type": "stream",
     "text": [
      "['SSB']\n"
     ]
    },
    {
     "data": {
      "text/html": [
       "<div>\n",
       "<style scoped>\n",
       "    .dataframe tbody tr th:only-of-type {\n",
       "        vertical-align: middle;\n",
       "    }\n",
       "\n",
       "    .dataframe tbody tr th {\n",
       "        vertical-align: top;\n",
       "    }\n",
       "\n",
       "    .dataframe thead th {\n",
       "        text-align: right;\n",
       "    }\n",
       "</style>\n",
       "<table border=\"1\" class=\"dataframe\">\n",
       "  <thead>\n",
       "    <tr style=\"text-align: right;\">\n",
       "      <th></th>\n",
       "      <th>Folkemengde i Longyearbyen og Ny-Ålesund, etter kjønn og alder</th>\n",
       "      <th>Folkemengde i Longyearbyen og Ny-Ålesund, etter kjønn og alder.1</th>\n",
       "      <th>Folkemengde i Longyearbyen og Ny-Ålesund, etter kjønn og alder.2</th>\n",
       "      <th>Folkemengde i Longyearbyen og Ny-Ålesund, etter kjønn og alder.3</th>\n",
       "    </tr>\n",
       "  </thead>\n",
       "  <tbody>\n",
       "    <tr>\n",
       "      <th>0</th>\n",
       "      <td>NaN</td>\n",
       "      <td>2. halvår 20201</td>\n",
       "      <td>2. halvår 20201</td>\n",
       "      <td>2. halvår 20201</td>\n",
       "    </tr>\n",
       "    <tr>\n",
       "      <th>1</th>\n",
       "      <td>NaN</td>\n",
       "      <td>I alt</td>\n",
       "      <td>Menn</td>\n",
       "      <td>Kvinner</td>\n",
       "    </tr>\n",
       "    <tr>\n",
       "      <th>2</th>\n",
       "      <td>I alt</td>\n",
       "      <td>2417</td>\n",
       "      <td>1302</td>\n",
       "      <td>1115</td>\n",
       "    </tr>\n",
       "    <tr>\n",
       "      <th>3</th>\n",
       "      <td>0 år</td>\n",
       "      <td>15</td>\n",
       "      <td>9</td>\n",
       "      <td>6</td>\n",
       "    </tr>\n",
       "    <tr>\n",
       "      <th>4</th>\n",
       "      <td>1-5 år</td>\n",
       "      <td>107</td>\n",
       "      <td>53</td>\n",
       "      <td>54</td>\n",
       "    </tr>\n",
       "    <tr>\n",
       "      <th>5</th>\n",
       "      <td>6-12 år</td>\n",
       "      <td>170</td>\n",
       "      <td>89</td>\n",
       "      <td>81</td>\n",
       "    </tr>\n",
       "    <tr>\n",
       "      <th>6</th>\n",
       "      <td>13-15 år</td>\n",
       "      <td>53</td>\n",
       "      <td>33</td>\n",
       "      <td>20</td>\n",
       "    </tr>\n",
       "    <tr>\n",
       "      <th>7</th>\n",
       "      <td>16-19 år</td>\n",
       "      <td>84</td>\n",
       "      <td>43</td>\n",
       "      <td>41</td>\n",
       "    </tr>\n",
       "    <tr>\n",
       "      <th>8</th>\n",
       "      <td>20-44 år</td>\n",
       "      <td>1294</td>\n",
       "      <td>669</td>\n",
       "      <td>625</td>\n",
       "    </tr>\n",
       "    <tr>\n",
       "      <th>9</th>\n",
       "      <td>45-66 år</td>\n",
       "      <td>649</td>\n",
       "      <td>373</td>\n",
       "      <td>276</td>\n",
       "    </tr>\n",
       "    <tr>\n",
       "      <th>10</th>\n",
       "      <td>67 år eller eldre</td>\n",
       "      <td>45</td>\n",
       "      <td>33</td>\n",
       "      <td>12</td>\n",
       "    </tr>\n",
       "    <tr>\n",
       "      <th>11</th>\n",
       "      <td>NaN</td>\n",
       "      <td>NaN</td>\n",
       "      <td>NaN</td>\n",
       "      <td>NaN</td>\n",
       "    </tr>\n",
       "    <tr>\n",
       "      <th>12</th>\n",
       "      <td>11. halvår er definert som 1. januar. 2. halvå...</td>\n",
       "      <td>11. halvår er definert som 1. januar. 2. halvå...</td>\n",
       "      <td>11. halvår er definert som 1. januar. 2. halvå...</td>\n",
       "      <td>11. halvår er definert som 1. januar. 2. halvå...</td>\n",
       "    </tr>\n",
       "    <tr>\n",
       "      <th>13</th>\n",
       "      <td>NaN</td>\n",
       "      <td>NaN</td>\n",
       "      <td>NaN</td>\n",
       "      <td>NaN</td>\n",
       "    </tr>\n",
       "    <tr>\n",
       "      <th>14</th>\n",
       "      <td>Kilde: Statistisk sentralbyrå</td>\n",
       "      <td>NaN</td>\n",
       "      <td>NaN</td>\n",
       "      <td>NaN</td>\n",
       "    </tr>\n",
       "  </tbody>\n",
       "</table>\n",
       "</div>"
      ],
      "text/plain": [
       "   Folkemengde i Longyearbyen og Ny-Ålesund, etter kjønn og alder  \\\n",
       "0                                                 NaN               \n",
       "1                                                 NaN               \n",
       "2                                               I alt               \n",
       "3                                                0 år               \n",
       "4                                              1-5 år               \n",
       "5                                             6-12 år               \n",
       "6                                            13-15 år               \n",
       "7                                            16-19 år               \n",
       "8                                            20-44 år               \n",
       "9                                            45-66 år               \n",
       "10                                  67 år eller eldre               \n",
       "11                                                NaN               \n",
       "12  11. halvår er definert som 1. januar. 2. halvå...               \n",
       "13                                                NaN               \n",
       "14                      Kilde: Statistisk sentralbyrå               \n",
       "\n",
       "   Folkemengde i Longyearbyen og Ny-Ålesund, etter kjønn og alder.1  \\\n",
       "0                                     2. halvår 20201                 \n",
       "1                                               I alt                 \n",
       "2                                                2417                 \n",
       "3                                                  15                 \n",
       "4                                                 107                 \n",
       "5                                                 170                 \n",
       "6                                                  53                 \n",
       "7                                                  84                 \n",
       "8                                                1294                 \n",
       "9                                                 649                 \n",
       "10                                                 45                 \n",
       "11                                                NaN                 \n",
       "12  11. halvår er definert som 1. januar. 2. halvå...                 \n",
       "13                                                NaN                 \n",
       "14                                                NaN                 \n",
       "\n",
       "   Folkemengde i Longyearbyen og Ny-Ålesund, etter kjønn og alder.2  \\\n",
       "0                                     2. halvår 20201                 \n",
       "1                                                Menn                 \n",
       "2                                                1302                 \n",
       "3                                                   9                 \n",
       "4                                                  53                 \n",
       "5                                                  89                 \n",
       "6                                                  33                 \n",
       "7                                                  43                 \n",
       "8                                                 669                 \n",
       "9                                                 373                 \n",
       "10                                                 33                 \n",
       "11                                                NaN                 \n",
       "12  11. halvår er definert som 1. januar. 2. halvå...                 \n",
       "13                                                NaN                 \n",
       "14                                                NaN                 \n",
       "\n",
       "   Folkemengde i Longyearbyen og Ny-Ålesund, etter kjønn og alder.3  \n",
       "0                                     2. halvår 20201                \n",
       "1                                             Kvinner                \n",
       "2                                                1115                \n",
       "3                                                   6                \n",
       "4                                                  54                \n",
       "5                                                  81                \n",
       "6                                                  20                \n",
       "7                                                  41                \n",
       "8                                                 625                \n",
       "9                                                 276                \n",
       "10                                                 12                \n",
       "11                                                NaN                \n",
       "12  11. halvår er definert som 1. januar. 2. halvå...                \n",
       "13                                                NaN                \n",
       "14                                                NaN                "
      ]
     },
     "execution_count": 243,
     "metadata": {},
     "output_type": "execute_result"
    }
   ],
   "source": [
    "import pandas as pd\n",
    "file = 'Befolkningen på Svalbard.xlsx'\n",
    "xl = pd.ExcelFile(file)\n",
    "print(xl.sheet_names) # Her kan du se de ulike fanenes navn\n",
    "df1 = xl.parse('SSB') # Leser ut en bestemt fane\n",
    "# Vi kan også lese ut bestemte kolonner: \n",
    "# data = pd.read_excel(\"file.xlsx\", usecols=\"A,C,E,G\")\n",
    "df1"
   ]
  },
  {
   "cell_type": "markdown",
   "metadata": {},
   "source": [
    "Rad 12, 13 og 14 var ikke med i csv-filen, disse må fjernes. I tillegg er overskriftene ikke veldig tydelige. Vi kan hoppe over første rad."
   ]
  },
  {
   "cell_type": "code",
   "execution_count": 260,
   "metadata": {},
   "outputs": [
    {
     "data": {
      "text/html": [
       "<div>\n",
       "<style scoped>\n",
       "    .dataframe tbody tr th:only-of-type {\n",
       "        vertical-align: middle;\n",
       "    }\n",
       "\n",
       "    .dataframe tbody tr th {\n",
       "        vertical-align: top;\n",
       "    }\n",
       "\n",
       "    .dataframe thead th {\n",
       "        text-align: right;\n",
       "    }\n",
       "</style>\n",
       "<table border=\"1\" class=\"dataframe\">\n",
       "  <thead>\n",
       "    <tr style=\"text-align: right;\">\n",
       "      <th></th>\n",
       "      <th>Menn</th>\n",
       "      <th>Kvinner</th>\n",
       "    </tr>\n",
       "  </thead>\n",
       "  <tbody>\n",
       "    <tr>\n",
       "      <th>0 år</th>\n",
       "      <td>9</td>\n",
       "      <td>6</td>\n",
       "    </tr>\n",
       "    <tr>\n",
       "      <th>1-5 år</th>\n",
       "      <td>53</td>\n",
       "      <td>54</td>\n",
       "    </tr>\n",
       "    <tr>\n",
       "      <th>6-12 år</th>\n",
       "      <td>89</td>\n",
       "      <td>81</td>\n",
       "    </tr>\n",
       "    <tr>\n",
       "      <th>13-15 år</th>\n",
       "      <td>33</td>\n",
       "      <td>20</td>\n",
       "    </tr>\n",
       "    <tr>\n",
       "      <th>16-19 år</th>\n",
       "      <td>43</td>\n",
       "      <td>41</td>\n",
       "    </tr>\n",
       "    <tr>\n",
       "      <th>20-44 år</th>\n",
       "      <td>669</td>\n",
       "      <td>625</td>\n",
       "    </tr>\n",
       "    <tr>\n",
       "      <th>45-66 år</th>\n",
       "      <td>373</td>\n",
       "      <td>276</td>\n",
       "    </tr>\n",
       "    <tr>\n",
       "      <th>67 år eller eldre</th>\n",
       "      <td>33</td>\n",
       "      <td>12</td>\n",
       "    </tr>\n",
       "  </tbody>\n",
       "</table>\n",
       "</div>"
      ],
      "text/plain": [
       "                  Menn Kvinner\n",
       "0 år                 9       6\n",
       "1-5 år              53      54\n",
       "6-12 år             89      81\n",
       "13-15 år            33      20\n",
       "16-19 år            43      41\n",
       "20-44 år           669     625\n",
       "45-66 år           373     276\n",
       "67 år eller eldre   33      12"
      ]
     },
     "execution_count": 260,
     "metadata": {},
     "output_type": "execute_result"
    }
   ],
   "source": [
    "import pandas as pd\n",
    "file = 'Befolkningen på Svalbard.xlsx'\n",
    "xl = pd.ExcelFile(file)\n",
    "df = xl.parse('SSB', skiprows=[0,1], index_col=0) # Leser ut en bestemt fane, dropper 2 rader\n",
    "df = df.drop(df.index[[0, 9, 10, 11, 12]]).drop(columns = [\"I alt\"])\n",
    "df"
   ]
  },
  {
   "cell_type": "markdown",
   "metadata": {},
   "source": [
    "La oss nå lagre den nye tabellen der vi har fjernet noen kolonner og rader til et nytt Excel-dokument."
   ]
  },
  {
   "cell_type": "code",
   "execution_count": 301,
   "metadata": {},
   "outputs": [],
   "source": [
    "import pandas as pd\n",
    "file = 'Befolkningen på Svalbard.xlsx'\n",
    "xl = pd.ExcelFile(file)\n",
    "df = xl.parse('SSB', skiprows=[0,1], index_col=0) # Leser ut en bestemt fane, dropper 2 rader\n",
    "df = df.drop(df.index[[0, 9, 10, 11, 12]]).drop(columns = [\"I alt\"])\n",
    "\n",
    "writer = pd.ExcelWriter('output til Excel.xlsx')\n",
    "\n",
    "df.to_excel(writer, 'Ark37')\n",
    "\n",
    "writer.save()"
   ]
  },
  {
   "cell_type": "markdown",
   "metadata": {},
   "source": [
    "Vi kan også lage figurer i Excel basert på dataene, se enkelt eksempel under."
   ]
  },
  {
   "cell_type": "code",
   "execution_count": 302,
   "metadata": {},
   "outputs": [],
   "source": [
    "import pandas as pd\n",
    "file = 'Befolkningen på Svalbard.xlsx'\n",
    "xl = pd.ExcelFile(file)\n",
    "df = xl.parse('SSB', skiprows=[0,1], index_col=0) # Leser ut en bestemt fane, dropper 2 rader\n",
    "df = df.drop(df.index[[0, 9, 10, 11, 12]]).drop(columns = [\"I alt\"])\n",
    "\n",
    "writer = pd.ExcelWriter('output til Excel2.xlsx')\n",
    "\n",
    "df.to_excel(writer, 'Ark37')\n",
    "\n",
    "workbook  = writer.book\n",
    "worksheet = writer.sheets['Ark37']\n",
    "chart1 = workbook.add_chart({'type': 'column'})\n",
    "chart1.add_series({'values': '=Ark37!$B$2:$B$9'})\n",
    "worksheet.insert_chart('E2', chart1)\n",
    "\n",
    "chart2 = workbook.add_chart({'type': 'column'})\n",
    "chart2.add_series({'values': '=Ark37!$C$2:$C$9'})\n",
    "worksheet.insert_chart('B18', chart2)\n",
    "\n",
    "writer.save()"
   ]
  },
  {
   "cell_type": "markdown",
   "metadata": {},
   "source": [
    "Det er også mulig å lage mer avanserte figurer, men det er mer krevende."
   ]
  },
  {
   "cell_type": "code",
   "execution_count": 300,
   "metadata": {},
   "outputs": [],
   "source": [
    "import pandas as pd\n",
    "file = 'Befolkningen på Svalbard.xlsx'\n",
    "xl = pd.ExcelFile(file)\n",
    "df = xl.parse('SSB', skiprows=[0,1], index_col=0) # Leser ut en bestemt fane, dropper 2 rader\n",
    "df = df.drop(df.index[[0, 9, 10, 11, 12]]).drop(columns = [\"I alt\"])\n",
    "\n",
    "writer = pd.ExcelWriter('output til Excel3.xlsx')\n",
    "\n",
    "df.to_excel(writer, 'Ark37')\n",
    "\n",
    "workbook  = writer.book\n",
    "worksheet = writer.sheets['Ark37']\n",
    "\n",
    "chart = workbook.add_chart({'type': 'column'})\n",
    "\n",
    "for col_num in range(1, 3):\n",
    "    chart.add_series({\n",
    "        'name':       ['Ark37', 0, col_num],\n",
    "        'categories': ['Ark37', 1, 0, 8, 0],\n",
    "        'values':     ['Ark37', 1, col_num, 8, col_num],\n",
    "        'gap':        300,\n",
    "    })\n",
    "\n",
    "#chart.set_y_axis({'major_gridlines': {'visible': False}})\n",
    "\n",
    "worksheet.insert_chart('E2', chart)\n",
    "    \n",
    "writer.save()\n",
    "\n",
    "# Modifisert fra https://pandas-xlsxwriter-charts.readthedocs.io/chart_grouped_column.html#chart-grouped-column"
   ]
  },
  {
   "cell_type": "code",
   "execution_count": null,
   "metadata": {},
   "outputs": [],
   "source": [
    "# https://xlsxwriter.readthedocs.io/working_with_pandas.html\n",
    "# https://pandas-xlsxwriter-charts.readthedocs.io/chart_examples.html"
   ]
  },
  {
   "cell_type": "markdown",
   "metadata": {},
   "source": [
    "## Noen stikkord om statistikk i Python\n",
    "Her er noen stikkord og lenker om statistikk.\n",
    "\n",
    "https://docs.python.org/3/library/statistics.html\n",
    "https://realpython.com/python-statistics/\n",
    "http://scipy-lectures.org/packages/statistics/index.html"
   ]
  },
  {
   "cell_type": "code",
   "execution_count": 303,
   "metadata": {},
   "outputs": [
    {
     "name": "stdout",
     "output_type": "stream",
     "text": [
      "arr :  [20, 2, 7, 1, 34]\n",
      "50th percentile of arr :  7.0\n",
      "25th percentile of arr :  2.0\n",
      "75th percentile of arr :  20.0\n"
     ]
    }
   ],
   "source": [
    "import numpy as np\n",
    "   \n",
    "# 1D array \n",
    "arr = [20, 2, 7, 1, 34]\n",
    "print(\"arr : \", arr) \n",
    "print(\"50th percentile of arr : \", \n",
    "       np.percentile(arr, 50))\n",
    "print(\"25th percentile of arr : \",\n",
    "       np.percentile(arr, 25))\n",
    "print(\"75th percentile of arr : \",\n",
    "       np.percentile(arr, 75))"
   ]
  },
  {
   "cell_type": "code",
   "execution_count": null,
   "metadata": {},
   "outputs": [],
   "source": []
  },
  {
   "cell_type": "code",
   "execution_count": null,
   "metadata": {},
   "outputs": [],
   "source": []
  },
  {
   "cell_type": "code",
   "execution_count": null,
   "metadata": {},
   "outputs": [],
   "source": []
  }
 ],
 "metadata": {
  "kernelspec": {
   "display_name": "Python 3",
   "language": "python",
   "name": "python3"
  },
  "language_info": {
   "codemirror_mode": {
    "name": "ipython",
    "version": 3
   },
   "file_extension": ".py",
   "mimetype": "text/x-python",
   "name": "python",
   "nbconvert_exporter": "python",
   "pygments_lexer": "ipython3",
   "version": "3.8.3"
  }
 },
 "nbformat": 4,
 "nbformat_minor": 4
}
