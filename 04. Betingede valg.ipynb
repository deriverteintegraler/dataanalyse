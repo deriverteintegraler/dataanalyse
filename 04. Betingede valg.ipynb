{
  "cells": [
    {
      "metadata": {},
      "cell_type": "markdown",
      "source": "# Betingede valg (if-else-strukturer)\nIf-else-strukturer brukes dersom ulike handlinger skal utføres avhengig av et systems tilstand (en eller flere variablers verdier). Vi skal nå bruke sammenlikninger og logiske utsagn for å sjekke om noe er sant eller usant, og avhengig av det utføre noe eller noe annet. Dette kjenner vi fra hverdagen som situasjoner der vi gjør noe dersom noe er tilfelle, og ellers noe annet. F.eks. \"Hvis det er rotete hjemme skal jeg rydde\", \"Hvis det er en ukedag og ikke ferie går jeg på skolen, ellers har jeg fri\", \"Hvis det er igjen sjokoladeis spiser jeg den, ellers, hvis det er igjen jordbæris spiser jeg den, ellers går jeg i butikken og kjøper mer is\". Det generelle mønsteret er \"hvis [noe], så [handling]\" og varianter av dette.\n\nDet finnes tre typer if-else-strukturer. Alle typene starter med \"if\", forskjellen er hvordan de fortsetter. Vi ser på disse en etter en i teksten under."
    },
    {
      "metadata": {},
      "cell_type": "markdown",
      "source": "## If\nDette er strukturer med formen \"hvis [noe], så [handling]\". Legg merke til at linjen med \"if\" MÅ avsluttes med kolon, og de handlingene som skal utføres MÅ stå med et innrykk på følgende linje. Innrykket får man automatisk hvis man skriver rett, ellers kan man trykke på \"tab\" på tastaturet."
    },
    {
      "metadata": {
        "trusted": true
      },
      "cell_type": "code",
      "source": "hjemme = 'rotete'\n\nif hjemme == 'rotete':\n    print('Det er rotete!')\nprint('Du må rydde!')",
      "execution_count": 1,
      "outputs": [
        {
          "output_type": "stream",
          "text": "Det er rotete!\nDu må rydde!\n",
          "name": "stdout"
        }
      ]
    },
    {
      "metadata": {},
      "cell_type": "markdown",
      "source": "Legg merke til at det er 1 likhetstegn når vi tildeler verdien 'rotete', og 2 likhetstegn når vi sammenlikner to verdier.\n\nLegg merke til at \"print('Du må rydde!')\" står uten innrykk. Det innebærer at den linjen vil kjøres hver gang, uavhengig av om hjemme == 'rotete' eller ikke. Det blir tydelig i eksempelet under."
    },
    {
      "metadata": {
        "trusted": true
      },
      "cell_type": "code",
      "source": "hjemme = 'ryddig'\n\nif hjemme == 'rotete':\n    print('Det er rotete!')\nprint('Du må rydde!')",
      "execution_count": 2,
      "outputs": [
        {
          "output_type": "stream",
          "text": "Du må rydde!\n",
          "name": "stdout"
        }
      ]
    },
    {
      "metadata": {},
      "cell_type": "markdown",
      "source": "For at det skal bli rett må ALT som skal utføres BARE HVIS utsagnet er sant stå med et innrykk. Som du kan se i eksempelet under blir ingen av de to kommandoene printet når det er 'ryddig'. Under hele if-strukturen er det et regnestykke bare for at du skal se at det faktisk virket og at vi kom ned dit."
    },
    {
      "metadata": {
        "trusted": true
      },
      "cell_type": "code",
      "source": "hjemme = 'ryddig'\n\nif hjemme == 'rotete':\n    print('Det er rotete!')\n    print('Du må rydde!')\n    \nprint(3+2)",
      "execution_count": 3,
      "outputs": [
        {
          "output_type": "stream",
          "text": "5\n",
          "name": "stdout"
        }
      ]
    },
    {
      "metadata": {},
      "cell_type": "markdown",
      "source": "Øving: Tenk over hva som vil printes dersom følgende kommandoer kjøres. Når du har tenkt over det og skrevet ned resultatet, kjør kommandoene i en ny celle.\n> x = 4\n\n> y = 6\n\n> z = 10\n\n> if x+y >= z:\n\n>     print(x)"
    },
    {
      "metadata": {
        "trusted": true
      },
      "cell_type": "code",
      "source": "",
      "execution_count": null,
      "outputs": []
    },
    {
      "metadata": {},
      "cell_type": "markdown",
      "source": "Øving: Tenk over hva som vil printes dersom følgende kommandoer kjøres. Når du har tenkt over det og skrevet ned resultatet, kjør kommandoene i en ny celle.\n> x = 'eple'\n\n> y = 'banan'\n\n> if x != y:\n\n>     print('De er ulike!')"
    },
    {
      "metadata": {
        "trusted": true
      },
      "cell_type": "code",
      "source": "",
      "execution_count": null,
      "outputs": []
    },
    {
      "metadata": {},
      "cell_type": "markdown",
      "source": "Øving: Skriv en if-struktur som sjekker om verdien til x i andre er større enn verdien til y i andre. Legg inn to rader der du gir x og y to tallverdier, husk at disse linjene må være før if-strukturen. Dersom x i andre er større enn y i andre, print en melding om dette til brukeren."
    },
    {
      "metadata": {
        "trusted": true
      },
      "cell_type": "code",
      "source": "",
      "execution_count": null,
      "outputs": []
    },
    {
      "metadata": {},
      "cell_type": "markdown",
      "source": "## If-elif\nDette er strukturer med formen \"hvis [noe], så [handling1], og hvis ikke [noe] men [noe annet], så [handling2]\". Legg merke til at linjen med \"if\" MÅ avsluttes med kolon, og linjen med \"elif\" MÅ avsluttes med kolon, og de handlingene som skal utføres MÅ stå med et innrykk på følgende linje. \"elif\" er en forkortelse for \"else if\".\n\nDet som er viktig å innse her er at MAKSIMALT ETT av handlingssporene kan forekomme. Dersom [noe] er sant blir [handling1] utført, og da er \"if-else\"-strukturen ferdig, [noe annet] blir ikke engang undersøkt og [handling2] kan ikke skje da. Dette blir tydeligere når du leser eksemplene under. Legg merke til hva som printes og hva som ikke printes."
    },
    {
      "metadata": {
        "trusted": true
      },
      "cell_type": "code",
      "source": "a = 'eple'\nb = 'pære'\nc = 'plomme'\n\nif a == b:\n    print('a og b er like.')\nelif a != c:\n    print('a og c er er ikke like')\n\nprint('Nå er vi ferdige.')",
      "execution_count": 4,
      "outputs": [
        {
          "output_type": "stream",
          "text": "a og c er er ikke like\nNå er vi ferdige.\n",
          "name": "stdout"
        }
      ]
    },
    {
      "metadata": {},
      "cell_type": "markdown",
      "source": "I eksempelet over ser vi at a og b ikke var like, så derfor gikk vi videre til å sjekke om a og c er ulike. Det er de, derfor printes meldingen der."
    },
    {
      "metadata": {
        "trusted": true
      },
      "cell_type": "code",
      "source": "a = 'eple'\nb = 'pære'\nc = 'eple'\n\nif a == b:\n    print('a og b er like.')\nelif a != c:\n    print('a og c er er ikke like')\n\nprint('Nå er vi ferdige.')",
      "execution_count": 5,
      "outputs": [
        {
          "output_type": "stream",
          "text": "Nå er vi ferdige.\n",
          "name": "stdout"
        }
      ]
    },
    {
      "metadata": {},
      "cell_type": "markdown",
      "source": "I eksempelet over ser vi at a og b ikke var like, så derfor gikk vi videre til å sjekke om a og c er ulike. Det er de ikke, derfor printes ikke meldingen der. Her ser vi at ingen av kontrollene i strukturen slo til, og derfor ble ingen av meldingene fra strukturen printet."
    },
    {
      "metadata": {
        "trusted": true
      },
      "cell_type": "code",
      "source": "a = 'eple'\nb = 'eple'\nc = 'plomme'\n\nif a == b:\n    print('a og b er like.')\nelif a != c:\n    print('a og c er er ikke like')\n\nprint('Nå er vi ferdige.')",
      "execution_count": 6,
      "outputs": [
        {
          "output_type": "stream",
          "text": "a og b er like.\nNå er vi ferdige.\n",
          "name": "stdout"
        }
      ]
    },
    {
      "metadata": {},
      "cell_type": "markdown",
      "source": "I eksempelet over ser vi at a og b var like, så derfor ble meldingen fra det sporet printet. Det kan være fristende å tenke at vi nå skal sjekke om a og c er ulike (noe de er), og så printe den meldingen også. Det skjer ikke, fordi vi allerede fikk treff på en tidligere kontroll i strukturen. Når man får treff på en kontroll blir de tilhørende handlingene utført, og så blir INGEN andre kontroller utført."
    },
    {
      "metadata": {},
      "cell_type": "markdown",
      "source": "### Flere elif etter hverandre\nVi kan ha if-elif-strukturer som har flere \"elif\"-nivåer etter hverandre. Det er ennå slik at maksimalt ETT av handlingssporene kan følges. Når vi får en treff blir ingen andre kontroller utført."
    },
    {
      "metadata": {
        "trusted": true
      },
      "cell_type": "code",
      "source": "x = 2\ny = 3\n\nif x > 3:\n    print('Hei')\nelif x > 0:\n    print('på')\nelif y > 0:\n    print('deg.')",
      "execution_count": 7,
      "outputs": [
        {
          "output_type": "stream",
          "text": "på\n",
          "name": "stdout"
        }
      ]
    },
    {
      "metadata": {},
      "cell_type": "markdown",
      "source": "Øving: Tenk over hva som vil printes dersom følgende kommandoer kjøres. Når du har tenkt over det og skrevet ned resultatet, kjør kommandoene i en ny celle.\n> x = 'grønnsak'\n\n> y = 'kjøtt'\n\n> z = 'fisk'\n\n> if x == 'fisk':\n\n>     print('Den første er fisk!')\n\n> elif y == 'kjøtt':\n\n>     print('Den andre er kjøtt!')\n\n> elif z == 'fisk':\n\n>     print('Den tredje er fisk!')"
    },
    {
      "metadata": {
        "trusted": true
      },
      "cell_type": "code",
      "source": "",
      "execution_count": null,
      "outputs": []
    },
    {
      "metadata": {},
      "cell_type": "markdown",
      "source": "Øving: Skriv en if-struktur med tre kontroller, definer en eller flere variabler før strukturen. Test at den oppfører seg som forventet ved å endre verdiene til variablen(e) og kjøre koden på nytt."
    },
    {
      "metadata": {
        "trusted": true
      },
      "cell_type": "code",
      "source": "",
      "execution_count": null,
      "outputs": []
    },
    {
      "metadata": {},
      "cell_type": "markdown",
      "source": "## Else\nVi skal nå utvide både \"if\"-strukturer og \"elif\"-strukturer. Vi kan legge til \"else\" på slutten av \"if\"-strukturer eller \"elif\"-strukturer. Det den gjør er å legge inn et siste alternativ som SKAL gjennomføres dersom vi ikke har fått treff på noen av de tidligere kontrollene. Det er avgjørende å innse at hvis man har en \"else\" vil nøyaktig ETT av handlingssporene følges. Uten \"else\" vil ett eller ingen spor følges, men nå vet vi at noe skjer uansett."
    },
    {
      "metadata": {
        "trusted": true
      },
      "cell_type": "code",
      "source": "dag = 'mandag'\n\nif dag == 'tirsdag':\n    print('Gå på håndballtrening.')\nelif dag == 'torsdag':\n    print('Gå på kino.')\nelif dag == 'fredag':\n    print('Klipp gresset.')\nelse:\n    print('Slapp av hele dagen!')",
      "execution_count": 8,
      "outputs": [
        {
          "output_type": "stream",
          "text": "Slapp av hele dagen!\n",
          "name": "stdout"
        }
      ]
    },
    {
      "metadata": {},
      "cell_type": "markdown",
      "source": "La oss se på en matematisk funksjon $f(x) = \n\\left\\{\n\t\\begin{array}{ll}\n        0 & \\mbox{if } x < 0 \\\\\n\t\t2x  & \\mbox{if } 0 \\leq x < 3 \\\\\n\t\t-x & \\mbox{if } 3 \\leq x < 4 \\\\\n        0 & \\mbox{if } 4 \\leq x \\\\\n\t\\end{array}\n\\right.$\n\nHer må vi bruke en if-else-struktur for å beregne funksjonsverdiene."
    },
    {
      "metadata": {
        "trusted": true
      },
      "cell_type": "code",
      "source": "x = 0.7\n\nif x < 0:\n    f = 0\nelif 0 <= x < 3:\n    f = 2*x\nelif 3 <= x < 4:\n    f = -x\nelif 4 <= x:\n    f = 0\n\nprint(f)",
      "execution_count": 9,
      "outputs": [
        {
          "output_type": "stream",
          "text": "1.4\n",
          "name": "stdout"
        }
      ]
    },
    {
      "metadata": {},
      "cell_type": "markdown",
      "source": "Under ser vi en litt smartere måte å skrive denne koden på. Siden to av intervallene hadde samme utfall kan de slås sammen i én linje. Samtidig kan vi skrive else, siden hvis x ikke er mellom 0 og 3 eller mellom 3 og 4 MÅ x være større enn 4 eller mindre enn 0, og da MÅ vi sette f(x) = 0. Når ingen andre muligheter finnes kan vi skrive else."
    },
    {
      "metadata": {
        "trusted": true
      },
      "cell_type": "code",
      "source": "x = 0.7\n\nif 0 <= x < 3:\n    f = 2*x\nelif 3 <= x < 4:\n    f = -x\nelse:\n    f = 0\n\nprint(f)",
      "execution_count": 10,
      "outputs": [
        {
          "output_type": "stream",
          "text": "1.4\n",
          "name": "stdout"
        }
      ]
    },
    {
      "metadata": {},
      "cell_type": "markdown",
      "source": "Øving: Skriv kode der du sjekker verdien av variabelen \"måned\". Koden skal printe antall dager i gjeldende måned. Skriv koden med så få linjer som mulig."
    },
    {
      "metadata": {
        "trusted": true
      },
      "cell_type": "code",
      "source": "",
      "execution_count": null,
      "outputs": []
    },
    {
      "metadata": {},
      "cell_type": "markdown",
      "source": "## Sammensatt eksempel if-else + and/or/not\nHer er et sammensatt eksempel på en struktur med betinget valg der vi også bruker and, or og not for å vise en litt større struktur.\n\nVi har to tallvariabler: x og y. Vi skal sammenligne disse tallene med hverandre og med andre tall etter følgende regler i en if-else-struktur i rekkefølgen gitt under:\n* Hvis x er større enn eller lik y og x > 0, print x.\n* Hvis x er lik y eller x er lik 55, print x.\n* Hvis y er lik 0 og x ikke er lik y, print y.\n* Ellers, print x*y."
    },
    {
      "metadata": {
        "trusted": true
      },
      "cell_type": "code",
      "source": "x = 2\ny = 3\n\nif x >= y and x > 0:\n    print(x)\nelif x == y or x == 55:\n    print(x)\nelif y == 0 and not(x == y):    # Denne linjen kunne også vært     elif y == 0 and x != y\n    print(y)\nelse:\n    print(x*y)",
      "execution_count": 11,
      "outputs": [
        {
          "output_type": "stream",
          "text": "6\n",
          "name": "stdout"
        }
      ]
    },
    {
      "metadata": {},
      "cell_type": "markdown",
      "source": "Koden over kan skrives på færre linjer på måten gitt under. Årsaken til det er at det er to ulike spor som begge leder til samme utfall."
    },
    {
      "metadata": {
        "trusted": true
      },
      "cell_type": "code",
      "source": "x = 2\ny = 3\n\nif (x >= y and x > 0) or (x == y or x == 55):    # Her kunne vi klart oss uten parentesene rundt (x == y or x == 55)\n    print(x)\nelif y == 0 and not(x == y):\n    print(y)\nelse:\n    print(x*y)",
      "execution_count": 12,
      "outputs": [
        {
          "output_type": "stream",
          "text": "6\n",
          "name": "stdout"
        }
      ]
    },
    {
      "metadata": {},
      "cell_type": "markdown",
      "source": "Øving: Skriv kode som forteller oss hvilken hylle en bok skal stå i basert på reglene under:\n\nEn bok kjennetegnes med en tittel, navnet på forfatteren (etternavn, fornavn) og året boken er utgitt. Dette skal defineres over if-else-strukturen som viset i kode-cellen under. Skriv alt med små bokstaver, (med mindre du vil bruke metoder for å bearbeide strenger for at ikke store/små bokstaver skal gi problemer).\n\nDet finnes 4 bokhyller. Under er reglene for sortering blant bokhyllene:\n* Hylle 1: Bøker der forfatterens navn begynner med bokstaver mellom a og f og utgivelsesår er før 2010.\n* Hylle 2: Bøker der tittelen begynner med bokstaver mellom g og o og forfatterens navn begynner med bokstaver mellom p og v.\n* Hylle 3: Bøker der utgivelsesår er etter 2012 og tittelen ikke begynner med a, b eller c.\n* Hylle 4: Bøker som ikke skal i andre hyller.\n\n\nHusk at vi kan hente første bokstav i en streng ved å skrive streng[0]. I kodecellen under er noen bøker lagt inn, sammen med fasit for hvilken hylle de skal havne i dersom koden er skrevet riktig."
    },
    {
      "metadata": {
        "trusted": true
      },
      "cell_type": "code",
      "source": "tittel = 'harry potter og halvblodsprinsen'\nforfatter = 'rowling, j.k.'\nutgivelsesår = 2008\n# skal havne i hylle 2\n\n\ntittel = 'belgravia'\nforfatter = 'fellowes, julian'\nutgivelsesår = 2016\n# skal havne i hylle 4\n\n\ntittel = 'doktor proktors tidsbadekar'\nforfatter = 'nesbø, jo'\nutgivelsesår = 2015\n# skal havne i hylle 3",
      "execution_count": 13,
      "outputs": []
    },
    {
      "metadata": {
        "collapsed": true
      },
      "cell_type": "markdown",
      "source": "###### Øystein Grøndahl, oktober 2018"
    }
  ],
  "metadata": {
    "anaconda-cloud": {},
    "kernelspec": {
      "name": "python3",
      "display_name": "Python 3",
      "language": "python"
    },
    "language_info": {
      "mimetype": "text/x-python",
      "nbconvert_exporter": "python",
      "name": "python",
      "file_extension": ".py",
      "version": "3.5.4",
      "pygments_lexer": "ipython3",
      "codemirror_mode": {
        "version": 3,
        "name": "ipython"
      }
    }
  },
  "nbformat": 4,
  "nbformat_minor": 1
}