{
  "cells": [
    {
      "metadata": {},
      "cell_type": "markdown",
      "source": "# Dictionaries/ordbøker\nEn ordbok er en rekke parkoblinger mellom elementer. Objektene i et par trenger ikke være av samme typer som i andre par, men det er ofte gunstig om formatene er like. Vi kaller den unike tingen en nøkkel (key), og den tilhørende verdien en verdi (value).\n\nEn full oversikt over metodene finnes på https://docs.python.org/3/, særlig på https://docs.python.org/3/library/stdtypes.html#mapping-types-dict og https://docs.python.org/3/tutorial/datastructures.html#dictionaries.\n\nEksempel: I folkeregisteret er fødselsnummer nøkkelen, og tilknyttede adresser er verdien. Alle fødselsnummer er unike, men hvert fødselsnummer kan være knyttet til mer enn én adresse, og samme adresse kan være knyttet til mer enn ett fødselsnummer.\n\nUnder ser vi hvordan en dict lages og grunnleggende bruk."
    },
    {
      "metadata": {
        "trusted": true
      },
      "cell_type": "code",
      "source": "folkeregisteret = {31128712345: ['Aspestrøket 77'], 20047712345: ['Eikeveien 20'], 14128912345: ['Bjørkgata 32', 'Palmesmuget 98'], 12010812345: ['Eikeveien 20']}",
      "execution_count": 1,
      "outputs": []
    },
    {
      "metadata": {
        "trusted": true
      },
      "cell_type": "code",
      "source": "# Vi kan printe hele folkeregisteret.\nprint(folkeregisteret)",
      "execution_count": 2,
      "outputs": [
        {
          "output_type": "stream",
          "text": "{12010812345: ['Eikeveien 20'], 31128712345: ['Aspestrøket 77'], 14128912345: ['Bjørkgata 32', 'Palmesmuget 98'], 20047712345: ['Eikeveien 20']}\n",
          "name": "stdout"
        }
      ]
    },
    {
      "metadata": {
        "trusted": true
      },
      "cell_type": "code",
      "source": "# Vi kan printe alle nøklene i folkeregisteret.\nfor element in folkeregisteret:\n    print(element)",
      "execution_count": 3,
      "outputs": [
        {
          "output_type": "stream",
          "text": "12010812345\n31128712345\n14128912345\n20047712345\n",
          "name": "stdout"
        }
      ]
    },
    {
      "metadata": {
        "trusted": true
      },
      "cell_type": "code",
      "source": "# Vi kan printe alle verdiene i folkeregisteret.\nfor element in folkeregisteret.values():\n    print(element)",
      "execution_count": 4,
      "outputs": [
        {
          "output_type": "stream",
          "text": "['Eikeveien 20']\n['Aspestrøket 77']\n['Bjørkgata 32', 'Palmesmuget 98']\n['Eikeveien 20']\n",
          "name": "stdout"
        }
      ]
    },
    {
      "metadata": {
        "trusted": true
      },
      "cell_type": "code",
      "source": "# Dersom vi kjenner en nøkkel kan vi slå opp verdien knyttet til den nøkkelen.\nprint(folkeregisteret[14128912345])",
      "execution_count": 5,
      "outputs": [
        {
          "output_type": "stream",
          "text": "['Bjørkgata 32', 'Palmesmuget 98']\n",
          "name": "stdout"
        }
      ]
    },
    {
      "metadata": {
        "trusted": true
      },
      "cell_type": "code",
      "source": "# Vi kan sjekke om en nøkkel eksisterer.\nnøkkel = 10097712345\nif nøkkel in folkeregisteret:\n    print(nøkkel,'har adressen(e)',folkeregisteret[nøkkel])\nelse:\n    print(nøkkel,'er ikke i folkeregisteret.')\n\nnøkkel = 31128712345\nif nøkkel in folkeregisteret:\n    print(nøkkel,'har adressen(e)',folkeregisteret[nøkkel])\nelse:\n    print(nøkkel,'er ikke i folkeregisteret.')",
      "execution_count": 6,
      "outputs": [
        {
          "output_type": "stream",
          "text": "10097712345 er ikke i folkeregisteret.\n31128712345 har adressen(e) ['Aspestrøket 77']\n",
          "name": "stdout"
        }
      ]
    },
    {
      "metadata": {},
      "cell_type": "markdown",
      "source": "Øving: Skriv en funksjon som tar et positivt heltall som input (du trenger ikke lage en validering på det). Funksjonen skal lage og returnere en dictionary med mønsteret x: x\\*x. Du skal begynne på x=1, og lage like mange tallpar som det tallet som var input.\n\nMed input 4 forventes følgende output: {1: 1, 2: 4, 3: 9, 4: 16}\n\nMed input 8 forventes følgende output: {1: 1, 2: 4, 3: 9, 4: 16, 5: 25, 6: 36, 7: 49, 8: 64}"
    },
    {
      "metadata": {
        "trusted": true
      },
      "cell_type": "code",
      "source": "def kvadrattall(antall):\n    # Her kommer koden\n    # Her kommer koden\n    # Her kommer koden\n    # Her kommer koden",
      "execution_count": null,
      "outputs": []
    },
    {
      "metadata": {
        "trusted": true
      },
      "cell_type": "code",
      "source": "print(kvadrattall(4))\nprint(kvadrattall(8))",
      "execution_count": null,
      "outputs": []
    },
    {
      "metadata": {},
      "cell_type": "markdown",
      "source": "Øving: Skriv en funksjon som går gjennom en liste med tall og som lager og returnerer en dictionary der hvert tall blir knyttet til en av de to strengene 'partall' eller 'oddetall' etter vanlige regler.\n\nMed input [99, 23, 30, 9, 91, 24, 91, 43, 61, 54] forventes følgende output: {99: 'oddetall', 23: 'oddetall', 30: 'partall', 9: 'oddetall', 91: 'oddetall', 24: 'partall', 43: 'oddetall', 61: 'oddetall', 54: 'partall'}"
    },
    {
      "metadata": {
        "trusted": true
      },
      "cell_type": "code",
      "source": "def par_odde_sortering(tall_liste):\n    # Her kommer koden\n    # Her kommer koden\n    # Her kommer koden\n    # Her kommer koden\n    # Her kommer koden\n    # Her kommer koden",
      "execution_count": null,
      "outputs": []
    },
    {
      "metadata": {
        "trusted": true
      },
      "cell_type": "code",
      "source": "import random\nmy_randoms=[random.randrange(1,101,1) for i in range(10)] # Genererer 10 tilfeldige heltall fra og med 1 til og med 100. Kan gi duplikater.\nprint(my_randoms)",
      "execution_count": 7,
      "outputs": [
        {
          "output_type": "stream",
          "text": "[96, 4, 56, 98, 38, 94, 95, 98, 15, 81]\n",
          "name": "stdout"
        }
      ]
    },
    {
      "metadata": {
        "trusted": true
      },
      "cell_type": "code",
      "source": "print(par_odde_sortering(my_randoms))",
      "execution_count": null,
      "outputs": []
    },
    {
      "metadata": {},
      "cell_type": "markdown",
      "source": "###### Øystein Grøndahl, oktober 2018"
    }
  ],
  "metadata": {
    "kernelspec": {
      "name": "python3",
      "display_name": "Python 3",
      "language": "python"
    },
    "language_info": {
      "mimetype": "text/x-python",
      "nbconvert_exporter": "python",
      "name": "python",
      "file_extension": ".py",
      "version": "3.5.4",
      "pygments_lexer": "ipython3",
      "codemirror_mode": {
        "version": 3,
        "name": "ipython"
      }
    }
  },
  "nbformat": 4,
  "nbformat_minor": 2
}