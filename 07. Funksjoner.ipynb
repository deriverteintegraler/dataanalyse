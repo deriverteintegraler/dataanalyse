{
  "cells": [
    {
      "metadata": {},
      "cell_type": "markdown",
      "source": "# Funksjoner (functions)\nFunksjoner er veldig nyttige hvis vi skal gjenta handlinger flere ganger, men ikke rett etter hverandre. I tillegg kan funksjoner gjøre forskjellige ting avhengig av hva vi gir som input. Det vil være tydeligere hvordan funksjoner er forskjellige fra løkker når vi ser på hvordan de virker."
    },
    {
      "metadata": {
        "trusted": true
      },
      "cell_type": "code",
      "source": "def gjennomsnitt(tall1, tall2):\n    return((tall1+tall2)/2)",
      "execution_count": 1,
      "outputs": []
    },
    {
      "metadata": {
        "trusted": true
      },
      "cell_type": "code",
      "source": "a = gjennomsnitt(-5, 3)\nb = gjennomsnitt(6, 10)\nprint(a, b)\nc = gjennomsnitt(a, b)\nprint(c)",
      "execution_count": 2,
      "outputs": [
        {
          "output_type": "stream",
          "text": "-1.0 8.0\n3.5\n",
          "name": "stdout"
        }
      ]
    },
    {
      "metadata": {
        "trusted": true
      },
      "cell_type": "code",
      "source": "def gjennomsnitt2(tall1, tall2):\n    snittet = (tall1+tall2)/2\n    summen = tall1+tall2\n    return(snittet, summen)",
      "execution_count": 3,
      "outputs": []
    },
    {
      "metadata": {
        "trusted": true
      },
      "cell_type": "code",
      "source": "a, b = gjennomsnitt2(-5, 3)\nprint(a, b)",
      "execution_count": 4,
      "outputs": [
        {
          "output_type": "stream",
          "text": "-1.0 -2\n",
          "name": "stdout"
        }
      ]
    },
    {
      "metadata": {
        "collapsed": true
      },
      "cell_type": "markdown",
      "source": "Øving: Skriv en funksjon som tar imot to strenger som inputs og returnerer en streng satt sammen av den første halvparten fra den første strengen og den andre halvparten av den andre strengen. Test funksjonen ved å kjøre den fra cellen etter."
    },
    {
      "metadata": {
        "trusted": true
      },
      "cell_type": "code",
      "source": "",
      "execution_count": null,
      "outputs": []
    },
    {
      "metadata": {
        "trusted": true
      },
      "cell_type": "code",
      "source": "",
      "execution_count": null,
      "outputs": []
    },
    {
      "metadata": {},
      "cell_type": "markdown",
      "source": "Funksjoner er noe vi bruker mye i programmering. I Python er det generelle mønsteret for å definere en funksjon som vist under. Legg merke til at det er et innrykk på alle linjene etter den første. Innrykket er et tab, knappen over caps lock.\n\n> def funksjonsnavn(input1, input2, input3, ..., inputn):\n\n>     \"\"\"Hjelpetekst for funksjonen\"\"\"\n\n>     handling_1\n    \n>     handling_2\n    \n>     ...\n    \n>     handling_k\n    \n>     return(output1, output2, output3, ..., outputm)\n\nFor å bruke funksjonen skriver vi som vist under.\n\n(mottatt_output1, mottatt_output2, ..., mottatt_outputm) = funksjonsnavn(input1, input2, input3, ..., inputn)\n\nDet er ikke nødvendig at det er like mange inputs som det er outputs. Det er nødvendig å ha like mange mottatt_outputs som det er outputs inne i funksjonen. Under er et eksempel på en funksjon og bruk av den."
    },
    {
      "metadata": {
        "trusted": true
      },
      "cell_type": "code",
      "source": "def min_funksjon(vinkel1, vinkel2, vinkel3):\n    \"\"\"\n    Funksjonens inputs er tre vinkler gitt i radianer. Disse må være tall, men kan være både positive og negative, og kan være desimaltall.\n    Funksjonen beregner gjennomsnittet av inputvinklene, cosinus til hver vinkel og cosinus til gjennomsnittsvinkelen.\n    Funksjonen returnerer gjennomsnittet av inputvinklene, cosinus til gjennomsnittsvinkelen og cosinus til hver vinkel.\n    \"\"\"\n    import math\n    gjennomsnitt = (vinkel1 + vinkel2 + vinkel3)/3\n    cos1 = math.cos(vinkel1)\n    cos2 = math.cos(vinkel2)\n    cos3 = math.cos(vinkel3)\n    cosgj = math.cos(gjennomsnitt)\n    return(gjennomsnitt, cosgj, cos1, cos2, cos3)",
      "execution_count": 5,
      "outputs": []
    },
    {
      "metadata": {
        "trusted": true
      },
      "cell_type": "code",
      "source": "(eple, banan, drue, kattepus, kanin) = min_funksjon(0.1, 4.5, 6.28)\n# Legg merke til at vi kan kalle outputene hva som helst.\n# Antall inputs på høyre side må være lik antall inputs i funksjonsdefinisjonen.\n# Antall outputs vi tar imot på venstre side må være lik antall outputs som funksjonen returnerer.\n\nprint(eple)\nprint(kanin)\nhelp(min_funksjon)\n# Slik får vi opp hjelpeteksten til en funksjon. Det finnes hjelpetekst til alle innebygde funksjoner.\n# Vi skal skrive hjelpetekst til alle våre funksjoner. Det er nyttig både for andre og for oss selv.\n# Vi glemmer nøyaktig hvordan et program virker når det går litt tid mellom hver gang vi bruker det.\n# Hjelpeteksten gjør det lettere for oss å sette oss inn i funksjonen igjen.",
      "execution_count": 6,
      "outputs": [
        {
          "output_type": "stream",
          "text": "3.6266666666666665\n0.9999949269133752\nHelp on function min_funksjon in module __main__:\n\nmin_funksjon(vinkel1, vinkel2, vinkel3)\n    Funksjonens inputs er tre vinkler gitt i radianer. Disse må være tall, men kan være både positive og negative, og kan være desimaltall.\n    Funksjonen beregner gjennomsnittet av inputvinklene, cosinus til hver vinkel og cosinus til gjennomsnittsvinkelen.\n    Funksjonen returnerer gjennomsnittet av inputvinklene, cosinus til gjennomsnittsvinkelen og cosinus til hver vinkel.\n\n",
          "name": "stdout"
        }
      ]
    },
    {
      "metadata": {},
      "cell_type": "markdown",
      "source": "## Forhåndsbestemte inputs (default inputs)\nDersom vi omtrent alltid vil at en input skal ha en bestemt verdi, men brukeren skal kunne overstyre og gi en annen verdi ved behov kan vi bruke default inputs. Disse må være sist i oppramsingen av inputs. Se skrivemåte i eksemplet under."
    },
    {
      "metadata": {
        "trusted": true
      },
      "cell_type": "code",
      "source": "def multiplikasjon(tall1, tall2):\n    produktet = tall1*tall2\n    return(produktet, tall1, tall2)\n\ndef multiplikasjon3(tall1, tall2, tall3=1):\n    produktet = tall1 * tall2 * tall3\n    return(produktet)\n\ndef divisjon2(tall1, tall2, tall3=2, tall4=5):\n    kvotient1 = tall1 / tall2\n    kvotient2 = tall3/tall4\n    return(kvotient1, kvotient2)",
      "execution_count": 7,
      "outputs": []
    },
    {
      "metadata": {
        "trusted": true
      },
      "cell_type": "code",
      "source": "a, b, c = multiplikasjon(3, 5)\nprint(a, b, c)\nd = multiplikasjon3(2, 6)\nprint(d)\ne = multiplikasjon3(2, 6, 4)\nprint(e)\nf, g = divisjon2(6, 3)\nprint(f, g)\nh, i = divisjon2(6, 3, tall4=4)\nprint(h, i)",
      "execution_count": 8,
      "outputs": [
        {
          "output_type": "stream",
          "text": "15 3 5\n12\n48\n2.0 0.4\n2.0 0.5\n",
          "name": "stdout"
        }
      ]
    },
    {
      "metadata": {},
      "cell_type": "markdown",
      "source": "I eksemplene over ser du hvordan vi kan gi verdier for default inputs. Legg særlig merke til at vi i det siste eksemplet kunne overskrive tall4 uten å si noe om tall3 i det hele tatt."
    },
    {
      "metadata": {},
      "cell_type": "markdown",
      "source": "Øving: Skriv en funksjon som tar imot et heltall som input (du trenger ikke kontrollere at inputen er et heltall) og som printer tallet, deretter tallet+1, tallet+2, osv. til og med tallet+12."
    },
    {
      "metadata": {
        "trusted": true
      },
      "cell_type": "code",
      "source": "",
      "execution_count": null,
      "outputs": []
    },
    {
      "metadata": {
        "trusted": true
      },
      "cell_type": "code",
      "source": "",
      "execution_count": null,
      "outputs": []
    },
    {
      "metadata": {},
      "cell_type": "markdown",
      "source": "Øving: Skriv en funksjon som tar imot et heltall som input (du trenger ikke kontrollere at inputen er et heltall) og som øker verdien av tallet med 1 og 1 til verdien er dobbelt så stor som inputen var. Print alle verdiene på veien."
    },
    {
      "metadata": {
        "trusted": true
      },
      "cell_type": "code",
      "source": "",
      "execution_count": null,
      "outputs": []
    },
    {
      "metadata": {
        "trusted": true
      },
      "cell_type": "code",
      "source": "",
      "execution_count": null,
      "outputs": []
    },
    {
      "metadata": {},
      "cell_type": "markdown",
      "source": "Øving: Skriv en funksjon som tar imot et positivt heltall som input (du trenger ikke kontrollere at inputen er et positivt heltall) og som øker verdien av tallet med 1 og 1 til verdien er dobbelt så stor som inputen var. Print hver tredje verdi på veien."
    },
    {
      "metadata": {
        "trusted": true
      },
      "cell_type": "code",
      "source": "",
      "execution_count": null,
      "outputs": []
    },
    {
      "metadata": {
        "trusted": true
      },
      "cell_type": "code",
      "source": "",
      "execution_count": null,
      "outputs": []
    },
    {
      "metadata": {},
      "cell_type": "markdown",
      "source": "Øving: Skriv en funksjon som tar imot et heltall som input (du trenger ikke kontrollere at inputen er et heltall). Dersom tallet er negativt skal du telle opp til 0 og printe hver fjerde verdi på veien. Dersom tallet er positivt skal du telle ned til 0 og printe hver andre verdi på veien. Dersom tallet er 0 skal du printe en egen beskjed om dette."
    },
    {
      "metadata": {
        "trusted": true
      },
      "cell_type": "code",
      "source": "",
      "execution_count": null,
      "outputs": []
    },
    {
      "metadata": {
        "trusted": true
      },
      "cell_type": "code",
      "source": "",
      "execution_count": null,
      "outputs": []
    },
    {
      "metadata": {},
      "cell_type": "markdown",
      "source": "## Hjelpetekst til funksjoner\nHvis vi skriver funksjoner som andre skal bruke er det viktig å fortelle dem hvordan funksjonene våre skal brukes. Hvis vi skriver funksjoner som bare vi skal bruke er det viktig å fortelle de fremtidige oss hvordan funksjonene våre skal brukes. Dere tror dere kan huske hva funksjonene deres gjør, men det kommer dere ikke til å huske. Aksepter det med en gang og lær dere å skrive gode hjelpetekster.\n\nEn ting er å bare forklare hva funksjonene gjør overordnet, men vi bør også kommentere hva deler av funksjonene gjør med \"kommentarer\". Akkurat nå skal vi bare se på overordnet hjelpetekst.\n\nFor å forstå behovet, la oss se på hjelpeteksten til noen av de innebygde elementene i Python. Først ser vi hjelpeteksten til klassen list. Hjelpeteksten forteller hvordan vi kan lage lister og alle metodene/funksjonene vi kan bruke på lister. Vi kunne selvfølgelig slått opp i dokumentasjonen på nettsidene, men det er greit å ha det tilgjengelig. Og husk, for programmer dere skriver er det ikke sikkert at det finnes en egen nettsiden med dokumentasjon, og skal det finnes, så må dere likevel skrive hjelpeteksten."
    },
    {
      "metadata": {
        "scrolled": true,
        "trusted": true
      },
      "cell_type": "code",
      "source": "help(list)",
      "execution_count": 9,
      "outputs": [
        {
          "output_type": "stream",
          "text": "Help on class list in module builtins:\n\nclass list(object)\n |  list() -> new empty list\n |  list(iterable) -> new list initialized from iterable's items\n |  \n |  Methods defined here:\n |  \n |  __add__(self, value, /)\n |      Return self+value.\n |  \n |  __contains__(self, key, /)\n |      Return key in self.\n |  \n |  __delitem__(self, key, /)\n |      Delete self[key].\n |  \n |  __eq__(self, value, /)\n |      Return self==value.\n |  \n |  __ge__(self, value, /)\n |      Return self>=value.\n |  \n |  __getattribute__(self, name, /)\n |      Return getattr(self, name).\n |  \n |  __getitem__(...)\n |      x.__getitem__(y) <==> x[y]\n |  \n |  __gt__(self, value, /)\n |      Return self>value.\n |  \n |  __iadd__(self, value, /)\n |      Implement self+=value.\n |  \n |  __imul__(self, value, /)\n |      Implement self*=value.\n |  \n |  __init__(self, /, *args, **kwargs)\n |      Initialize self.  See help(type(self)) for accurate signature.\n |  \n |  __iter__(self, /)\n |      Implement iter(self).\n |  \n |  __le__(self, value, /)\n |      Return self<=value.\n |  \n |  __len__(self, /)\n |      Return len(self).\n |  \n |  __lt__(self, value, /)\n |      Return self<value.\n |  \n |  __mul__(self, value, /)\n |      Return self*value.n\n |  \n |  __ne__(self, value, /)\n |      Return self!=value.\n |  \n |  __new__(*args, **kwargs) from builtins.type\n |      Create and return a new object.  See help(type) for accurate signature.\n |  \n |  __repr__(self, /)\n |      Return repr(self).\n |  \n |  __reversed__(...)\n |      L.__reversed__() -- return a reverse iterator over the list\n |  \n |  __rmul__(self, value, /)\n |      Return self*value.\n |  \n |  __setitem__(self, key, value, /)\n |      Set self[key] to value.\n |  \n |  __sizeof__(...)\n |      L.__sizeof__() -- size of L in memory, in bytes\n |  \n |  append(...)\n |      L.append(object) -> None -- append object to end\n |  \n |  clear(...)\n |      L.clear() -> None -- remove all items from L\n |  \n |  copy(...)\n |      L.copy() -> list -- a shallow copy of L\n |  \n |  count(...)\n |      L.count(value) -> integer -- return number of occurrences of value\n |  \n |  extend(...)\n |      L.extend(iterable) -> None -- extend list by appending elements from the iterable\n |  \n |  index(...)\n |      L.index(value, [start, [stop]]) -> integer -- return first index of value.\n |      Raises ValueError if the value is not present.\n |  \n |  insert(...)\n |      L.insert(index, object) -- insert object before index\n |  \n |  pop(...)\n |      L.pop([index]) -> item -- remove and return item at index (default last).\n |      Raises IndexError if list is empty or index is out of range.\n |  \n |  remove(...)\n |      L.remove(value) -> None -- remove first occurrence of value.\n |      Raises ValueError if the value is not present.\n |  \n |  reverse(...)\n |      L.reverse() -- reverse *IN PLACE*\n |  \n |  sort(...)\n |      L.sort(key=None, reverse=False) -> None -- stable sort *IN PLACE*\n |  \n |  ----------------------------------------------------------------------\n |  Data and other attributes defined here:\n |  \n |  __hash__ = None\n\n",
          "name": "stdout"
        }
      ]
    },
    {
      "metadata": {},
      "cell_type": "markdown",
      "source": "La oss se nærmere på en av metodene som kan brukes på lister. Jeg har valgt å se på index-metoden. Denne metoden brukes for å finne første index der en gitt verdi (et gitt element) finnes i listen. Her ser vi også at det finnes optional arguments, valgfrie inputs. I hjelpeteksten til Python er de valgfrie inputene skrevet innenfor klammer/firkantparenteser. Vi kan altså velge å søke etter første forekomst av et gitt element etter en viss index, og vi kan også velge å sette på en stopp-index for å ikke se etter elementet etter en gitt verdi. Dette kan være nyttig, det var fint at vi fant ut ved å lese denne teksten."
    },
    {
      "metadata": {
        "trusted": true
      },
      "cell_type": "code",
      "source": "help(list.index)",
      "execution_count": 10,
      "outputs": [
        {
          "output_type": "stream",
          "text": "Help on method_descriptor:\n\nindex(...)\n    L.index(value, [start, [stop]]) -> integer -- return first index of value.\n    Raises ValueError if the value is not present.\n\n",
          "name": "stdout"
        }
      ]
    },
    {
      "metadata": {},
      "cell_type": "markdown",
      "source": "Nå skal vi skrive hjelpetekst for en av våre egne funksjoner. Vi skal forklare både hvor mange inputs den tar og hvilken type hver input skal være. Vi skal forklare hva den returnerer, altså antall outputs og type på hver output. Vi skal også forklare hva den egentlig gjør for noe med inputene for å generere outputene. For å gjøre hjelpeteksten komplett skal vi også gi to-tre eksempler på input og output."
    },
    {
      "metadata": {
        "trusted": true
      },
      "cell_type": "code",
      "source": "def trelike(inn1, inn2, inn3):\n    \"\"\"\n    trelike(arg1, arg2, arg3) -> Boolean value (True or False) -- check if three different values are equal.\n    If the elements are lists, check if any of the values in list1 exists in both list2 and list3.\n    If both matches, return True. Else, return False.\n\n    Funksjonen tar tre inputs og sammenlikner de parvis. Hvis alle tre er like returneres True, ellers False.\n    Hvis alle tre inputs er lister skal vi ikke sjekke om listene er like, men om noen av elementene i dem finnes\n    i alle tre listene.\n    \n    Testcase1:\n    trelike('hei', 'Hei', 'hei') -> False\n    \n    Testcase2:\n    trelike(42, 42, 42) -> True\n    \n    Testcase3:\n    trelike([3, 5, 4, 3, 2, 6, 8, 9], [1, 2, 3], [0, 1]) -> False\n    \n    Testcase4:\n    trelike([3, 5, 4, 3, 2, 6, 1, 9], [1, 2, 3], [0, 1]) -> False\n    \n    \"\"\"\n    \n    if type(inn1) == type(inn2) == type(inn3) == list:\n        truthiness = False\n        for element in inn1:\n            if element in inn2 and element in inn3:\n                truthiness = True\n                break\n    \n    else:\n        if inn1 != inn2:\n            truthiness = False\n        elif inn1 != inn3:\n            truthiness = False\n        elif inn2 != inn3:\n            truthiness = False\n        else:\n            truthiness = True\n    \n    return truthiness",
      "execution_count": 11,
      "outputs": []
    },
    {
      "metadata": {},
      "cell_type": "markdown",
      "source": "Hjelpeteksten er alt vi skriver mellom 3 sitattegn med en gang under definisjons-linjen. Når vi lager funksjonene våre bør vi faktisk begynne med å skrive all denne hjelpeteksten, inkludert testcasene, før vi begynner å skrive noe kode. Dette hjelper oss med å vite hva vi egentlig ønsker at funksjonen skal gjøre, og det blir lettere å skrive koden når vi har bestemt oss for hva vi egentlig vil at den skal gjøre. Prøv nå å skrive help() i cellen under."
    },
    {
      "metadata": {
        "trusted": true
      },
      "cell_type": "code",
      "source": "help(trelike)",
      "execution_count": 12,
      "outputs": [
        {
          "output_type": "stream",
          "text": "Help on function trelike in module __main__:\n\ntrelike(inn1, inn2, inn3)\n    trelike(arg1, arg2, arg3) -> Boolean value (True or False) -- check if three different values are equal.\n    If the elements are lists, check if any of the values in list1 exists in both list2 and list3.\n    If both matches, return True. Else, return False.\n    \n    Funksjonen tar tre inputs og sammenlikner de parvis. Hvis alle tre er like returneres True, ellers False.\n    Hvis alle tre inputs er lister skal vi ikke sjekke om listene er like, men om noen av elementene i dem finnes\n    i alle tre listene.\n    \n    Testcase1:\n    trelike('hei', 'Hei', 'hei') -> False\n    \n    Testcase2:\n    trelike(42, 42, 42) -> True\n    \n    Testcase3:\n    trelike([3, 5, 4, 3, 2, 6, 8, 9], [1, 2, 3], [0, 1]) -> False\n    \n    Testcase4:\n    trelike([3, 5, 4, 3, 2, 6, 1, 9], [1, 2, 3], [0, 1]) -> False\n\n",
          "name": "stdout"
        }
      ]
    },
    {
      "metadata": {
        "collapsed": true
      },
      "cell_type": "markdown",
      "source": "###### Øystein Grøndahl, oktober 2018"
    }
  ],
  "metadata": {
    "anaconda-cloud": {},
    "kernelspec": {
      "name": "python3",
      "display_name": "Python 3",
      "language": "python"
    },
    "language_info": {
      "mimetype": "text/x-python",
      "nbconvert_exporter": "python",
      "name": "python",
      "file_extension": ".py",
      "version": "3.5.4",
      "pygments_lexer": "ipython3",
      "codemirror_mode": {
        "version": 3,
        "name": "ipython"
      }
    }
  },
  "nbformat": 4,
  "nbformat_minor": 1
}