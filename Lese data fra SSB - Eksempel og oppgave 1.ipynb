{
  "cells": [
    {
      "metadata": {
        "collapsed": true
      },
      "cell_type": "markdown",
      "source": "# Lese fra og skrive til .csv\nEn .csv-fil er en fil der data er adskilt med et tegn som f.eks. komma, semikolon eller kolon. Navnet er en forkortelse for comma-separated-values. Dette likner en del på å lese fra .txt. Se kommandoer og enkle eksempler her: https://docs.python.org/3/library/csv.html"
    },
    {
      "metadata": {},
      "cell_type": "markdown",
      "source": "Her har vi hentet testdata fra Statistisk sentralbyrå. Dataene gjelder antall arbeidsforhold per fylke i 4. kvartal 2017 og prosentvis endring fra 4. kvartal 2016. Se tabell 2 på denne siden: https://www.ssb.no/arbeid-og-lonn/statistikker/arblonn"
    },
    {
      "metadata": {
        "trusted": true
      },
      "cell_type": "code",
      "source": "https://www.ssb.no/eksport/tabell.csv?key=357734",
      "execution_count": null,
      "outputs": []
    },
    {
      "metadata": {
        "trusted": true
      },
      "cell_type": "code",
      "source": "data = !curl https://www.ssb.no/eksport/tabell.csv?key=394293",
      "execution_count": 3,
      "outputs": []
    },
    {
      "metadata": {
        "trusted": true
      },
      "cell_type": "code",
      "source": "for line in data:\n    print(line)",
      "execution_count": 4,
      "outputs": [
        {
          "output_type": "stream",
          "text": "  % Total    % Received % Xferd  Average Speed   Time    Time     Time  Current\n                                 Dload  Upload   Total   Spent    Left  Speed\n\n  0     0    0     0    0     0      0      0 --:--:-- --:--:-- --:--:--     0\n100   965    0   965    0     0   1175      0 --:--:-- --:--:-- --:--:--  1188\n﻿;Antall arbeidsforhold;Antall arbeidsforhold;Gjennomsnittlig avtalt månedslønn (kr);Gjennomsnittlig avtalt månedslønn (kr);\n2. kvartal 2019;2. kvartal 2018 - 2. kvartal 2019;2. kvartal 2019;2. kvartal 2018 - 2. kvartal 2019;\nAbsolutte tall;Prosentvis endring;Absolutte tall;Prosentvis endring;\nØstfold;130581;1,2;40430;3,3;\nAkershus;301122;2,4;45240;3,1;\nOslo;522548;3,3;49380;3,9;\nHedmark;93309;0,4;40270;3,5;\nOppland;93437;1,0;39600;3,0;\nBuskerud;137645;1,7;42070;3,4;\nVestfold;116572;1,3;41670;2,7;\nTelemark;81710;2,0;41260;3,0;\nAust-Agder;53025;1,7;41260;3,6;\nVest-Agder;97374;2,5;41710;2,7;\nRogaland;265864;2,7;46080;3,3;\nHordaland;283619;1,8;43790;3,1;\nSogn og Fjordane;60253;1,6;40470;3,1;\nMøre og Romsdal;140724;1,9;41460;3,0;\nTrøndelag;247628;1,4;42780;3,4;\nNordland;126830;0,1;41160;3,0;\nTroms - Romsa;94584;1,2;41850;3,1;\nFinnmark - Finnmárku;41216;1,8;40750;3,2;\nUoppgitt fylke;7288;20,3;38530;11,8;\nIkke Fastlands-Norge;14698;6,9;52710;6,1;\n",
          "name": "stdout"
        }
      ]
    },
    {
      "metadata": {
        "trusted": true
      },
      "cell_type": "code",
      "source": "linje = data[12]\nprint(linje)\nprint(linje.split(\";\"))\nprint(linje.rstrip(\";\"))\nprint(linje.rstrip(\";\").split(\";\"))\nprint(linje.rstrip(\";\").replace(\",\" , \".\"))\nprint(linje.rstrip(\";\").replace(\",\" , \".\").split(\";\"))",
      "execution_count": 11,
      "outputs": [
        {
          "output_type": "stream",
          "text": "Oppland;93437;1,0;39600;3,0;\n['Oppland', '93437', '1,0', '39600', '3,0', '']\nOppland;93437;1,0;39600;3,0\n['Oppland', '93437', '1,0', '39600', '3,0']\nOppland;93437;1.0;39600;3.0\n['Oppland', '93437', '1.0', '39600', '3.0']\n",
          "name": "stdout"
        }
      ]
    },
    {
      "metadata": {
        "trusted": true
      },
      "cell_type": "code",
      "source": "#print(data[6:])\nprint(data[8:])\n#print(data[11:])",
      "execution_count": 13,
      "outputs": [
        {
          "output_type": "stream",
          "text": "['Østfold;130581;1,2;40430;3,3;', 'Akershus;301122;2,4;45240;3,1;', 'Oslo;522548;3,3;49380;3,9;', 'Hedmark;93309;0,4;40270;3,5;', 'Oppland;93437;1,0;39600;3,0;', 'Buskerud;137645;1,7;42070;3,4;', 'Vestfold;116572;1,3;41670;2,7;', 'Telemark;81710;2,0;41260;3,0;', 'Aust-Agder;53025;1,7;41260;3,6;', 'Vest-Agder;97374;2,5;41710;2,7;', 'Rogaland;265864;2,7;46080;3,3;', 'Hordaland;283619;1,8;43790;3,1;', 'Sogn og Fjordane;60253;1,6;40470;3,1;', 'Møre og Romsdal;140724;1,9;41460;3,0;', 'Trøndelag;247628;1,4;42780;3,4;', 'Nordland;126830;0,1;41160;3,0;', 'Troms - Romsa;94584;1,2;41850;3,1;', 'Finnmark - Finnmárku;41216;1,8;40750;3,2;', 'Uoppgitt fylke;7288;20,3;38530;11,8;', 'Ikke Fastlands-Norge;14698;6,9;52710;6,1;']\n",
          "name": "stdout"
        }
      ]
    },
    {
      "metadata": {
        "trusted": true
      },
      "cell_type": "code",
      "source": "fylker = []\nantall_arbeidsforhold = []\nprosent_endring = []\n\nfor linje in data[8:]:\n    linjeliste = linje.rstrip(\";\").replace(\",\" , \".\").split(\";\")\n    print(linjeliste)\n    fylker.append(linjeliste[0])\n    antall_arbeidsforhold.append(int(linjeliste[1]))\n    prosent_endring.append(float(linjeliste[2]))\n\nfor i in range(len(fylker)):\n    print(fylker[i], antall_arbeidsforhold[i], prosent_endring[i])",
      "execution_count": 14,
      "outputs": [
        {
          "output_type": "stream",
          "text": "['Østfold', '130581', '1.2', '40430', '3.3']\n['Akershus', '301122', '2.4', '45240', '3.1']\n['Oslo', '522548', '3.3', '49380', '3.9']\n['Hedmark', '93309', '0.4', '40270', '3.5']\n['Oppland', '93437', '1.0', '39600', '3.0']\n['Buskerud', '137645', '1.7', '42070', '3.4']\n['Vestfold', '116572', '1.3', '41670', '2.7']\n['Telemark', '81710', '2.0', '41260', '3.0']\n['Aust-Agder', '53025', '1.7', '41260', '3.6']\n['Vest-Agder', '97374', '2.5', '41710', '2.7']\n['Rogaland', '265864', '2.7', '46080', '3.3']\n['Hordaland', '283619', '1.8', '43790', '3.1']\n['Sogn og Fjordane', '60253', '1.6', '40470', '3.1']\n['Møre og Romsdal', '140724', '1.9', '41460', '3.0']\n['Trøndelag', '247628', '1.4', '42780', '3.4']\n['Nordland', '126830', '0.1', '41160', '3.0']\n['Troms - Romsa', '94584', '1.2', '41850', '3.1']\n['Finnmark - Finnmárku', '41216', '1.8', '40750', '3.2']\n['Uoppgitt fylke', '7288', '20.3', '38530', '11.8']\n['Ikke Fastlands-Norge', '14698', '6.9', '52710', '6.1']\nØstfold 130581 1.2\nAkershus 301122 2.4\nOslo 522548 3.3\nHedmark 93309 0.4\nOppland 93437 1.0\nBuskerud 137645 1.7\nVestfold 116572 1.3\nTelemark 81710 2.0\nAust-Agder 53025 1.7\nVest-Agder 97374 2.5\nRogaland 265864 2.7\nHordaland 283619 1.8\nSogn og Fjordane 60253 1.6\nMøre og Romsdal 140724 1.9\nTrøndelag 247628 1.4\nNordland 126830 0.1\nTroms - Romsa 94584 1.2\nFinnmark - Finnmárku 41216 1.8\nUoppgitt fylke 7288 20.3\nIkke Fastlands-Norge 14698 6.9\n",
          "name": "stdout"
        }
      ]
    },
    {
      "metadata": {
        "trusted": true
      },
      "cell_type": "code",
      "source": "print(data[25])\n\ndata[25] = 'Trøndelag;244135;0.0;41380;:;'\n\nprint(data[25])",
      "execution_count": 19,
      "outputs": [
        {
          "output_type": "stream",
          "text": "Trøndelag;244135;.;41380;:;\nTrøndelag;244135;0.0;41380;:;\n",
          "name": "stdout"
        }
      ]
    },
    {
      "metadata": {
        "trusted": true
      },
      "cell_type": "code",
      "source": "fylker = []\nantall_arbeidsforhold = []\nprosent_endring = []\n\nfor linje in data[11:]:\n    linjeliste = linje.rstrip(\";\").replace(\",\" , \".\").split(\";\")\n    print(linjeliste)\n    fylker.append(linjeliste[0])\n    antall_arbeidsforhold.append(int(linjeliste[1]))\n    prosent_endring.append(float(linjeliste[2]))\n\nfor i in range(len(fylker)):\n    print(fylker[i], antall_arbeidsforhold[i], prosent_endring[i])",
      "execution_count": 20,
      "outputs": [
        {
          "output_type": "stream",
          "text": "['Østfold', '128976', '2.2', '39140', '2.6']\n['Akershus', '294039', '2.8', '43890', '2.4']\n['Oslo', '506049', '3.2', '47520', '2.8']\n['Hedmark', '92961', '1.5', '38910', '2.7']\n['Oppland', '92557', '1.6', '38450', '2.9']\n['Buskerud', '135399', '1.2', '40680', '2.4']\n['Vestfold', '115024', '2.1', '40570', '2.7']\n['Telemark', '80133', '1.8', '40060', '2.7']\n['Aust-Agder', '52116', '2.3', '39830', '2.4']\n['Vest-Agder', '95004', '1.8', '40630', '2.1']\n['Rogaland', '258850', '4.3', '44620', '2.7']\n['Hordaland', '278634', '1.6', '42460', '2.6']\n['Sogn og Fjordane', '59314', '0.9', '39250', '2.8']\n['Møre og Romsdal', '138159', '1.7', '40250', '2.4']\n['Trøndelag', '244135', '0.0', '41380', ':']\n['Nordland', '126670', '1.3', '39980', '2.8']\n['Troms - Romsa', '93497', '1.6', '40600', '2.8']\n['Finnmark - Finnmárku', '40501', '1.2', '39470', '2.3']\n['Uoppgitt fylke', '6058', '-1.1', '34460', '-7.5']\n['Ikke Fastlands-Norge', '13744', '-37.1', '49670', '-3.3']\nØstfold 128976 2.2\nAkershus 294039 2.8\nOslo 506049 3.2\nHedmark 92961 1.5\nOppland 92557 1.6\nBuskerud 135399 1.2\nVestfold 115024 2.1\nTelemark 80133 1.8\nAust-Agder 52116 2.3\nVest-Agder 95004 1.8\nRogaland 258850 4.3\nHordaland 278634 1.6\nSogn og Fjordane 59314 0.9\nMøre og Romsdal 138159 1.7\nTrøndelag 244135 0.0\nNordland 126670 1.3\nTroms - Romsa 93497 1.6\nFinnmark - Finnmárku 40501 1.2\nUoppgitt fylke 6058 -1.1\nIkke Fastlands-Norge 13744 -37.1\n",
          "name": "stdout"
        }
      ]
    },
    {
      "metadata": {},
      "cell_type": "markdown",
      "source": "## Skrive til .csv-filer\nLa oss modifisere tallene våre ved å anta at vi får samme prosentvis endring i antall arbeidsforhold i løpet av neste år. Vi beregner først verdiene."
    },
    {
      "metadata": {
        "trusted": true
      },
      "cell_type": "code",
      "source": "antall_arbeidsforhold_2020 = [int(round((1+prosent_endring[i]/100)*antall_arbeidsforhold[i],0)) for i in range(len(fylker))]\nprint(antall_arbeidsforhold)\nprint(antall_arbeidsforhold_2020)",
      "execution_count": 15,
      "outputs": [
        {
          "output_type": "stream",
          "text": "[130581, 301122, 522548, 93309, 93437, 137645, 116572, 81710, 53025, 97374, 265864, 283619, 60253, 140724, 247628, 126830, 94584, 41216, 7288, 14698]\n[132148, 308349, 539792, 93682, 94371, 139985, 118087, 83344, 53926, 99808, 273042, 288724, 61217, 143398, 251095, 126957, 95719, 41958, 8767, 15712]\n",
          "name": "stdout"
        }
      ]
    },
    {
      "metadata": {
        "trusted": true
      },
      "cell_type": "code",
      "source": "# Her er en kontroll på at jeg har regnet riktig.\nfor i in range(len(fylker)):\n    print(round((antall_arbeidsforhold_2020[i]/antall_arbeidsforhold[i]-1)*100, 1), prosent_endring[i])",
      "execution_count": 16,
      "outputs": [
        {
          "output_type": "stream",
          "text": "1.2 1.2\n2.4 2.4\n3.3 3.3\n0.4 0.4\n1.0 1.0\n1.7 1.7\n1.3 1.3\n2.0 2.0\n1.7 1.7\n2.5 2.5\n2.7 2.7\n1.8 1.8\n1.6 1.6\n1.9 1.9\n1.4 1.4\n0.1 0.1\n1.2 1.2\n1.8 1.8\n20.3 20.3\n6.9 6.9\n",
          "name": "stdout"
        }
      ]
    },
    {
      "metadata": {
        "trusted": true
      },
      "cell_type": "code",
      "source": "import csv\nfile = open('arbeidsforhold_2020.csv', 'w', newline='', encoding='utf-8') # newline her hindrer blanke linjer i filen\nwriter = csv.writer(file, delimiter = ';')\n\nwriter.writerow(['Fylke', 'Antall arbeidsforhold'])\nfor i in range(len(fylker)):\n    writer.writerow([fylker[i], antall_arbeidsforhold_2020[i]])\nfile.close()",
      "execution_count": 17,
      "outputs": []
    },
    {
      "metadata": {},
      "cell_type": "markdown",
      "source": "Øving: Hent data fra tabell 3 på denne siden: https://www.ssb.no/valg/statistikker/stortingsvalg. Den gir stemmetall for hvert parti i stortingsvalgene 2009, 2013 og 2017.\n\nDu skal kun bruke data for partier som er på Stortinget, dvs. fra toppen og ned til og med Rødt. Beregn prosentvis endring i stemmetall fra 2009 til 2013 per parti, og tilsvarende for 2013-2017 per parti. Hvis et parti fikk 100 stemmer i 2009 og 110 i 2013 var prosentvis økning på 10 %. Hvis samme parti i 2017 fikk 105 stemmer var prosentvis endring på -4,5 %. Bruk vanlige avrundingsregler og gi resultatene med en desimal. Skriv resultatet til en ny .csv-fil."
    },
    {
      "metadata": {
        "trusted": true
      },
      "cell_type": "code",
      "source": "",
      "execution_count": null,
      "outputs": []
    },
    {
      "metadata": {
        "trusted": true
      },
      "cell_type": "code",
      "source": "",
      "execution_count": null,
      "outputs": []
    },
    {
      "metadata": {
        "trusted": true
      },
      "cell_type": "code",
      "source": "",
      "execution_count": null,
      "outputs": []
    },
    {
      "metadata": {
        "trusted": true
      },
      "cell_type": "code",
      "source": "",
      "execution_count": null,
      "outputs": []
    },
    {
      "metadata": {
        "trusted": true
      },
      "cell_type": "code",
      "source": "",
      "execution_count": null,
      "outputs": []
    },
    {
      "metadata": {
        "trusted": true
      },
      "cell_type": "code",
      "source": "",
      "execution_count": null,
      "outputs": []
    },
    {
      "metadata": {
        "trusted": true
      },
      "cell_type": "code",
      "source": "",
      "execution_count": null,
      "outputs": []
    },
    {
      "metadata": {
        "trusted": true
      },
      "cell_type": "code",
      "source": "",
      "execution_count": null,
      "outputs": []
    }
  ],
  "metadata": {
    "kernelspec": {
      "name": "python36",
      "display_name": "Python 3.6",
      "language": "python"
    },
    "language_info": {
      "mimetype": "text/x-python",
      "nbconvert_exporter": "python",
      "name": "python",
      "pygments_lexer": "ipython3",
      "version": "3.6.6",
      "file_extension": ".py",
      "codemirror_mode": {
        "version": 3,
        "name": "ipython"
      }
    }
  },
  "nbformat": 4,
  "nbformat_minor": 2
}