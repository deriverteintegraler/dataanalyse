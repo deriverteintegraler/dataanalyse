{
  "cells": [
    {
      "metadata": {},
      "cell_type": "markdown",
      "source": "# Løkker (engelsk: loops)\nLøkker er et helt sentralt verktøy for programmering. De brukes dersom et sett med handlinger skal gjentas flere ganger. Det finnes to typer løkker, for-løkker og while-løkker. For-løkker brukes dersom et sett med handlinger skal gjentas et bestemt antall ganger. While-løkker brukes dersom vi ikke vet hvor mange ganger handlingene skal gjentas, men hvis vi kan kontrollere en variabel underveis og vet når vi kan stoppe løkken."
    },
    {
      "metadata": {},
      "cell_type": "markdown",
      "source": "## For-løkker (med range)\nDisse løkkene brukes hvis vi vet hvor mange ganger handlingene skal gjentas. Et eksempel på dette kan være dersom vi ønsker å beregne funksjonsverdiene for en matematisk funksjon for hver (heltalls) x-verdi fra og med -3 til og med 10. Da skal vi gjøre beregninger etter samme regel 14 ganger. Det kan gjøres som vist under. Legg merke til at linjen med \"for\" avsluttes med kolon og at neste linje står med innrykk, tilsvarende som for if-else-strukturene."
    },
    {
      "metadata": {
        "trusted": true
      },
      "cell_type": "code",
      "source": "for x in range(-3, 11):\n    print(x, x**2-5) # De to stjernene betyr \"opphøyd i\", altså \"x i andre minus fem\"",
      "execution_count": 1,
      "outputs": [
        {
          "output_type": "stream",
          "text": "-3 4\n-2 -1\n-1 -4\n0 -5\n1 -4\n2 -1\n3 4\n4 11\n5 20\n6 31\n7 44\n8 59\n9 76\n10 95\n",
          "name": "stdout"
        }
      ]
    },
    {
      "metadata": {},
      "cell_type": "markdown",
      "source": "Her brukte jeg \"range\"-funksjonen for å generere x-verdiene fra og med -3 til og med 10. Egentlig genererer denne verdier fra og med -3 til (men ikke med) 11. Husk at i range-funksjonen er det første tallet lik startverdien vår, mens det andre tallet er én større enn sluttverdien. Range-funksjonen genererer bare heltall. Vi skal senere se hvordan vi kan generere desimaltall.\n\nDet som skjer er at en variabel x opprettes og gis verdien -3. Deretter blir koden med innrykk kjørt. Deretter får x sin neste verdi, og koden med innrykk blir kjørt igjen. Variabelen som får en ny verdi for hver gjennomkjøring av løkken kalles ofte en tellevariabel eller iterasjonsvariabel.\n\nDet har ikke noe å si hva vi skriver på den plassen x står i eksempelet over. Det er vanlig å bruke i som tellevariabel, men det er lurt å bruke en bokstav som gjør at vi skjønner koden lettere når vi leser. Siden jeg her jobbet med en funksjon f(x) var x et naturlig valg. Under ser du at vi kan bruke et annet navn. Vi må bare huske på hvilket variabelnavn som er tellevariabelen, og bruke det variabelnavnet i koden med innrykk."
    },
    {
      "metadata": {
        "trusted": true
      },
      "cell_type": "code",
      "source": "for kattepus in range(-3, 11):\n    print(kattepus, kattepus**2-5)",
      "execution_count": 2,
      "outputs": [
        {
          "output_type": "stream",
          "text": "-3 4\n-2 -1\n-1 -4\n0 -5\n1 -4\n2 -1\n3 4\n4 11\n5 20\n6 31\n7 44\n8 59\n9 76\n10 95\n",
          "name": "stdout"
        }
      ]
    },
    {
      "metadata": {},
      "cell_type": "markdown",
      "source": "Det vi nettopp har gjort er det samme som vi gjør for hånd når vi skal lage en tabell over funksjonsverdien for å tegne grafen til en funksjon. Når vi ser på plotting av grafer senere skal vi ikke bruke range, men vi skal bruke for-løkker."
    },
    {
      "metadata": {},
      "cell_type": "markdown",
      "source": "Øving: Tenk over hva som vil printes dersom følgende kommandoer kjøres. Når du har tenkt over det og skrevet ned resultatet, kjør kommandoene i en ny celle.\n> for p in range(3, 8):\n\n>     print(p, p**2)"
    },
    {
      "metadata": {
        "trusted": true
      },
      "cell_type": "code",
      "source": "",
      "execution_count": null,
      "outputs": []
    },
    {
      "metadata": {},
      "cell_type": "markdown",
      "source": "Øving: Skriv en for-løkke som gir følgende print på skjermen når den kjøres:\n>     -6\n>     -3\n>     0\n>     3\n\nKan du finne flere for-løkker som fungerer som løsning på denne oppgaven?"
    },
    {
      "metadata": {
        "trusted": true
      },
      "cell_type": "code",
      "source": "",
      "execution_count": null,
      "outputs": []
    },
    {
      "metadata": {},
      "cell_type": "markdown",
      "source": "Øving: Tenk over hva som vil printes dersom følgende kommandoer kjøres. Når du har tenkt over det og skrevet ned resultatet, kjør kommandoene i en ny celle.\n> a = 2\n\n> for i in range(-2, 2):\n\n>     a += i     # Dette er det samme som a = a + i\n\n>     print(a, 2*a-0.5*a**2)        # to ganger a minus en halv a i andre"
    },
    {
      "metadata": {
        "trusted": true
      },
      "cell_type": "code",
      "source": "",
      "execution_count": null,
      "outputs": []
    },
    {
      "metadata": {},
      "cell_type": "markdown",
      "source": "For å skrive tekst og tall samtidig kan vi bruke str() til å omforme tallet til tekst. Tekst defineres med 'tekst her' eller \"tekst her\". Se eksempel under."
    },
    {
      "metadata": {
        "trusted": true
      },
      "cell_type": "code",
      "source": "n = 6\nfor k in range(1, n):\n    print(k)\n    print(\"Telleren viser nå: \"+str(k))\n    print(\"Nå går vi videre til neste verdi av tellevariabelen.\")",
      "execution_count": 3,
      "outputs": [
        {
          "output_type": "stream",
          "text": "1\nTelleren viser nå: 1\nNå går vi videre til neste verdi av tellevariabelen.\n2\nTelleren viser nå: 2\nNå går vi videre til neste verdi av tellevariabelen.\n3\nTelleren viser nå: 3\nNå går vi videre til neste verdi av tellevariabelen.\n4\nTelleren viser nå: 4\nNå går vi videre til neste verdi av tellevariabelen.\n5\nTelleren viser nå: 5\nNå går vi videre til neste verdi av tellevariabelen.\n",
          "name": "stdout"
        }
      ]
    },
    {
      "metadata": {},
      "cell_type": "markdown",
      "source": "Øving: Skriv en for-løkke som gir følgende print på skjermen når den kjøres:\n>     1\n>     Summen så langt er 1.\n>     2\n>     Summen så langt er 3.\n>     3\n>     Summen så langt er 6.\n>     4\n>     Summen så langt er 10.\n>     Summen totalt ble 10.\n\nKoden bør ta 6 linjer, men kan gjøres med 5. Bruk gjerne \"skjelett\"-koden under som utgangspunkt. Du kan slette forslaget og skrive din egen kode om du vil."
    },
    {
      "metadata": {
        "trusted": true
      },
      "cell_type": "code",
      "source": "summen = 0\nfor i in range(.....\n    summen = summen + i\n    print(........\n    print(........\nprint(.....",
      "execution_count": 4,
      "outputs": [
        {
          "output_type": "error",
          "ename": "SyntaxError",
          "evalue": "invalid syntax (<ipython-input-4-34b582eaeaf7>, line 2)",
          "traceback": [
            "\u001b[0;36m  File \u001b[0;32m\"<ipython-input-4-34b582eaeaf7>\"\u001b[0;36m, line \u001b[0;32m2\u001b[0m\n\u001b[0;31m    for i in range(.....\u001b[0m\n\u001b[0m                       ^\u001b[0m\n\u001b[0;31mSyntaxError\u001b[0m\u001b[0;31m:\u001b[0m invalid syntax\n"
          ]
        }
      ]
    },
    {
      "metadata": {},
      "cell_type": "markdown",
      "source": "Vi kan bruke range-funksjonen til å generere heltall med en bestemt avstand mellom tallene ved å gi inn et tredje tall. Mønsteret er range(start, stop, step), der step er avstanden mellom tallene. Husk at range-funksjonen har formen \"Fra og med, til (men ikke med)\". Hvis neste verdi etter å ha lagt til verdien \"step\" er større enn eller lik stop-verdien blir verdien ikke brukt og løkken er ferdig. Se særlig at 13 ikke er med i den andre løkken under."
    },
    {
      "metadata": {
        "trusted": true
      },
      "cell_type": "code",
      "source": "print('Her begynner første løkke.')\nfor i in range(2, 9, 2):\n    print(i)\n\nprint('Her begynner andre løkke.')\nfor i in range(-2, 13, 3):\n    print(i)",
      "execution_count": null,
      "outputs": []
    },
    {
      "metadata": {},
      "cell_type": "markdown",
      "source": "## For-løkker (med liste)\nAlternativet til å bruke range-funksjonen for å generere heltall er å bruke en liste. Tellevariabelen eller iterasjonsvariabelen brukes på samme måte, men den får nå helt andre verdier. Tidligere måtte den være et heltall, nå kan den være hva som helst, til og med tekst, lister, funksjoner osv. Måten det virker på er at iterasjonsvariabelen får først verdien til første element i listen, deretter verdien til neste element i listen, osv. til vi er gjennom hele listen. Se eksempelet under der vi bare printer iterasjonsvariabelen for hver runde i løkken."
    },
    {
      "metadata": {
        "trusted": true
      },
      "cell_type": "code",
      "source": "tingtang = [1, 4, 3, 'Kari', 'Petter', [5, 4, 3], -5]\nfor element in tingtang:\n    print(element)",
      "execution_count": null,
      "outputs": []
    },
    {
      "metadata": {},
      "cell_type": "markdown",
      "source": "Vi kan kalle iterasjonsvariabelen for hva som helst. Personlig liker jeg å bruke i, j eller k når jeg bruker range, og \"element\" når jeg bruker en liste. Grunnen til det er at jeg kobler i, j og k til å være heltall, mens navnet \"element\" gjør det tydeligere at det er et element i en liste og kan være hva som helst. Hvis listen inneholder en bestemt type data bruker jeg gjerne et navn som gjør det enda tydeligere."
    },
    {
      "metadata": {
        "trusted": true
      },
      "cell_type": "code",
      "source": "navneliste = ['Kari', 'Petter', 'Lars', 'Emma']\nfor navn in navneliste:\n    print('Nestemann ut er ' + navn + '.')",
      "execution_count": null,
      "outputs": []
    },
    {
      "metadata": {},
      "cell_type": "markdown",
      "source": "Øving: Tenk over hva som vil printes dersom følgende kommandoer kjøres. Når du har tenkt over det og skrevet ned resultatet, kjør kommandoene i en ny celle.\n> ordliste = [\"Bæ\", \"Bæ\", \"Lille\", \"Lam\"]\n\n> for ord in ordliste:\n\n>     print(ord)"
    },
    {
      "metadata": {
        "trusted": true
      },
      "cell_type": "code",
      "source": "",
      "execution_count": null,
      "outputs": []
    },
    {
      "metadata": {},
      "cell_type": "markdown",
      "source": "Øving: Tenk over hva som vil printes dersom følgende kommandoer kjøres. Når du har tenkt over det og skrevet ned resultatet, kjør kommandoene i en ny celle.\n> katter = [\"Tiger\", \"Løve\", \"Felix\", \"Panter\", \"Gepard\"]\n\n> tekst = \"\"\n\n> for katt in katter:\n\n>     print(tekst)\n\n>     tekst += katt           # Dette er det samme som: tekst = tekst + katt"
    },
    {
      "metadata": {
        "trusted": true
      },
      "cell_type": "code",
      "source": "",
      "execution_count": null,
      "outputs": []
    },
    {
      "metadata": {},
      "cell_type": "markdown",
      "source": "Under ser vi et eksempel på en vanlig feil som kan skje ved bruk av lister."
    },
    {
      "metadata": {
        "trusted": true
      },
      "cell_type": "code",
      "source": "listeliste = [[1, 2, 3, 4], [-2, -4, 5], [7, -1, -2], [], 'dette er ikke en liste']\nfor element in listeliste:\n    print(element)\n    print(sum(element))",
      "execution_count": null,
      "outputs": []
    },
    {
      "metadata": {},
      "cell_type": "markdown",
      "source": "Som vi ser i eksemplet over printet vi først hvert element, deretter fant vi summen av innholdet i elementet. Koden krasjet på det siste elementet, fordi metoden \"sum\" ikke kan brukes på tekst. Når vi lager en løkke er det viktig at vi passer på at det koden skal gjøre for hvert element må fungere for hvert element."
    },
    {
      "metadata": {},
      "cell_type": "markdown",
      "source": "## While-løkker\nDisse løkkene brukes dersom vi ikke vet hvor mange ganger handlingene skal utføres, men dersom vi vet når vi vil være ferdige. Et eksempel kan være at vi vil legge sammen heltallene fra og med 1 til summen av tallene er større enn 45. Vi vet ikke helt hvor mange tall vi skal legge sammen, men vi vet når vi skal stoppe.\n\nMønsteret er:\n> Initialiser minst en variabel\n\n> while logisk utsagn som inneholder variabelen over:\n\n>     handlinger som MÅ kunne endre verdien av variabelen"
    },
    {
      "metadata": {},
      "cell_type": "markdown",
      "source": "### Uendelige løkker\nVær forsiktig med while-løkker, de kan bli uendelige løkker dersom vi skriver dem feil. Vi kan se at Python jobber dersom den grå ringen øverst til høyre er fylt og er en grå sirkel. For det aller meste vil vårt arbeid være over på et øyeblikk eller noen sekunder. Dersom sirkelen forblir fylt i over ti sekunder kan du trykke på \"Kernel\" og velge \"Interrupt\" i menyene øverst til venstre. Prøv å kjøre noen av de tidligere kode-cellene og se at du finner den grå ringen/sirkelen og at du ser at den er fylt i et øyeblikk mens du kjører kode. Når du har sett det, sørg for at du vet hvor \"Kernel\" og \"Interrupt\" er. Deretter kan du kjøre koden i cellen under. Denne koden er en uendelig løkke, og du må avbryte den selv før du kan gjøre noe annet. (Det står \"KeyboardInterrupt\" fordi man i andre varianter av Python trykker ctrl+c for å avbryte)\n\nDersom alt henger seg opp kan du avslutte og restarte selve Jupyter Notebook."
    },
    {
      "metadata": {
        "scrolled": true,
        "trusted": true
      },
      "cell_type": "code",
      "source": "a = 3\nwhile a > 0:\n    1+1",
      "execution_count": null,
      "outputs": []
    },
    {
      "metadata": {},
      "cell_type": "markdown",
      "source": "Nå som du vet hvor nødstopp-knappen er kan vi se videre på løkkene. Under er et eksempel der du kan se at vi initialiserer en variabel, bruker den i et logisk utsagn, og modifiserer den i koden i innrykket."
    },
    {
      "metadata": {
        "trusted": true
      },
      "cell_type": "code",
      "source": "tall = 3\nwhile tall < 9:\n    print(tall)\n    tall += 1",
      "execution_count": null,
      "outputs": []
    },
    {
      "metadata": {},
      "cell_type": "markdown",
      "source": "Hvorfor ble ikke tallet 9 printet av koden over? Koden skulle jo kjøre så lenge \"tall\" var mindre enn 9. Skriv ned hver handling som blir utført, så ser du nok hvorfor det er riktig at tallet 9 ikke blir printet.\n\nUnder kommer et nytt eksempel. Denne koden skal summere heltallene fra og med 1 til summen er større enn 45. Deretter skal det siste tallet som ble lagt til og den endelige summen printes."
    },
    {
      "metadata": {
        "trusted": true
      },
      "cell_type": "code",
      "source": "summen = 0\ntallet = 1\nwhile summen < 45:\n    summen += tallet\n    tallet += 1\nprint(tallet, summen)",
      "execution_count": null,
      "outputs": []
    },
    {
      "metadata": {},
      "cell_type": "markdown",
      "source": "Sjekk koden over ved å legge sammen tallene fra og med 1 selv. Du bør oppdage 2 feil i koden over.\n\nDen ene feilen er at her ble summen lik 45, og det er ikke over 45, slik oppgaven krevde. Her er problemet at kravet er stilt feil. Under er en versjon av programmet der denne feilen er rettet opp. Se om du kan finne den andre feilen, den er ennå igjen i koden under."
    },
    {
      "metadata": {
        "trusted": true
      },
      "cell_type": "code",
      "source": "summen = 0\ntallet = 1\nwhile summen <= 45:\n    summen += tallet\n    tallet += 1\nprint(tallet, summen)",
      "execution_count": null,
      "outputs": []
    },
    {
      "metadata": {
        "collapsed": true
      },
      "cell_type": "markdown",
      "source": "Tallet 11 var ikke det siste tallet som ble lagt til, 10 er det siste som ble lagt til. Her er problemet rekkefølgen for handlingene som utføres. Under er en riktig versjon av programmet. Pass på at du oppdager alle endringene fra versjonen over."
    },
    {
      "metadata": {
        "trusted": true
      },
      "cell_type": "code",
      "source": "summen = 0\ntallet = 0\nwhile summen <= 45:\n    tallet += 1\n    summen += tallet\nprint(tallet, summen)",
      "execution_count": null,
      "outputs": []
    },
    {
      "metadata": {},
      "cell_type": "markdown",
      "source": "Øving: Tenk over hva som vil printes dersom følgende kommandoer kjøres. Når du har tenkt over det og skrevet ned resultatet, kjør kommandoene i en ny celle.\n> tallet = 15\n\n> while tallet > 1:\n\n>     print(tallet)\n\n>     tallet /= 3"
    },
    {
      "metadata": {
        "trusted": true
      },
      "cell_type": "code",
      "source": "",
      "execution_count": null,
      "outputs": []
    },
    {
      "metadata": {
        "collapsed": true
      },
      "cell_type": "markdown",
      "source": "Øving: Skriv en kodebit som setter verdien av en variabel til en positiv verdi du velger selv. Deretter skal du ha en while-løkke som som printer tallet, deler det på 2 og legger til 5. Når verdien av tallet er mindre enn 19 skal løkken stoppe. Avslutt med print('Nå er du ute av løkken.')"
    },
    {
      "metadata": {
        "trusted": true
      },
      "cell_type": "code",
      "source": "tallet = ......\nwhile tallet >= 19:\n    ....\n    ....\n    ....\n    ....\n    ....\nprint(....",
      "execution_count": null,
      "outputs": []
    },
    {
      "metadata": {},
      "cell_type": "markdown",
      "source": "Øving: I forrige øving var 19 grensen for når løkken skulle stoppe. Ved hvilken verdi ville vi fått en uendelig loop?"
    },
    {
      "metadata": {},
      "cell_type": "markdown",
      "source": "Øving: I koden under er det en feil som gjør at while-løkken aldri vil kunne stoppe. Finn feilen og en måte å fikse den på. Tenk nøye over løsningen din før du kjører koden for å sjekke om du hindret en uendelig loop i å oppstå.\n>     tall = 15\n>     while tall >= 1:\n>         tall - 1"
    },
    {
      "metadata": {
        "trusted": true
      },
      "cell_type": "code",
      "source": "",
      "execution_count": null,
      "outputs": []
    },
    {
      "metadata": {
        "collapsed": true
      },
      "cell_type": "markdown",
      "source": "While-løkker brukes som sagt når vi vet hvilke handlinger vi vil gjenta men ikke hvor mange ganger vi ønsker at handlingene skal gjentas. La oss si at vi vil generere og printe tilfeldige tall mellom 0 og 10 helt til 7 av tallene er større enn 5. Vi ønsker også å summere tallene. Prøv å kjøre koden flere ganger og se at resultatet er forskjellig fra gang til gang."
    },
    {
      "metadata": {
        "trusted": true
      },
      "cell_type": "code",
      "source": "import random\n\nsummen = 0\nantall = 0\nantallstoretall = 0\nwhile antallstoretall <= 5:\n    tallet = random.randint(0, 10)\n    print(tallet)\n    antall += 1\n    summen += tallet\n    if tallet > 5:\n        antallstoretall += 1\n\nprint(antall, antallstoretall, summen)",
      "execution_count": null,
      "outputs": []
    },
    {
      "metadata": {},
      "cell_type": "markdown",
      "source": "# Viktig anvendelse av løkker: Generer lister\nVi kan generere lister ved å bruke løkker. Vi kan f.eks. generere y-verdiene til ulike x-verdier slik at de senere kan plottes. I en tidligere øving ble du bedt om å printe x-verdi og funksjonsverdi for x = [-1.0, -0.9, -0.8, -0.7, -0.6, -0.5, -0.4, -0.3, -0.2, -0.1, 0.0, 0.1, 0.2, 0.3, 0.4, 0.5, 0.6, 0.7, 0.8, 0.9, 1.0] og $f(x) = \\frac{1}{2}x^2-2x+1$. Da ble funksjonsverdiene bare printet på skjermen og deretter ble de borte. Hvis vi skal bruke dem til noe må vi lagre funksjonsverdiene, og en egnet måte å gjøre dette er å lagre dem i lister. Se eksempel i koden under."
    },
    {
      "metadata": {
        "trusted": true
      },
      "cell_type": "code",
      "source": "import math\n\nxverdier = [-1.0, -0.9, -0.8, -0.7, -0.6, -0.5, -0.4, -0.3, -0.2, -0.1, 0.0, 0.1, 0.2, 0.3, 0.4, 0.5, 0.6, 0.7, 0.8, 0.9, 1.0]\nyverdier = []\nfor x in xverdier:\n    y = 0.5*x**2 - 2*x + 1\n    yverdier.append(y)\nprint(xverdier)\nprint(yverdier)",
      "execution_count": null,
      "outputs": []
    },
    {
      "metadata": {},
      "cell_type": "markdown",
      "source": "Legg merke til at vi måtte initialisere listen yverdier (dvs. opprette en tom liste med det navnet) FØR løkken for å kunne bruke den i løkken.\n\nKoden over er ok, men kunne vært enklere. Legg merke til forskjellen på koden over og koden under."
    },
    {
      "metadata": {
        "trusted": true
      },
      "cell_type": "code",
      "source": "import math\n\nxverdier = [-1.0, -0.9, -0.8, -0.7, -0.6, -0.5, -0.4, -0.3, -0.2, -0.1, 0.0, 0.1, 0.2, 0.3, 0.4, 0.5, 0.6, 0.7, 0.8, 0.9, 1.0]\nyverdier = []\nfor x in xverdier:\n    yverdier.append(0.5*x**2 - 2*x + 1)\nprint(xverdier)\nprint(yverdier)",
      "execution_count": null,
      "outputs": []
    },
    {
      "metadata": {},
      "cell_type": "markdown",
      "source": "Øving: Tenk over hva som vil printes dersom følgende kommandoer kjøres. Når du har tenkt over det og skrevet ned resultatet, kjør kommandoene i en ny celle.\n> x = []\n\n> y = []\n\n> for i in range(-5, 6):\n\n>     x.append(i)\n\n>     y.append(i**2-1)\n\n> print(x)\n\n> print(y)"
    },
    {
      "metadata": {
        "trusted": true
      },
      "cell_type": "code",
      "source": "",
      "execution_count": null,
      "outputs": []
    },
    {
      "metadata": {},
      "cell_type": "markdown",
      "source": "###### Øystein Grøndahl, oktober 2018"
    }
  ],
  "metadata": {
    "anaconda-cloud": {},
    "kernelspec": {
      "name": "python3",
      "display_name": "Python 3",
      "language": "python"
    },
    "language_info": {
      "mimetype": "text/x-python",
      "nbconvert_exporter": "python",
      "name": "python",
      "file_extension": ".py",
      "version": "3.5.4",
      "pygments_lexer": "ipython3",
      "codemirror_mode": {
        "version": 3,
        "name": "ipython"
      }
    }
  },
  "nbformat": 4,
  "nbformat_minor": 1
}