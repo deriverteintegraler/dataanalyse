{
  "cells": [
    {
      "metadata": {
        "collapsed": true
      },
      "cell_type": "markdown",
      "source": "Les ut data fra tabell 3 på https://www.ssb.no/valg/statistikker/stortingsvalg.\n\nBruk kun data for partier som er på Stortinget, altså ned til og med Rødt.\n\nLag et plott over partienes stemmer for 2009, 2013 og 2017. Her skal du bruke stemmetallene rett fra tabellen. Bruk gjerne koden i cellen under for å lage plottet.\n\nEstimer stemmetall for 2021 basert på endringen fra 2009 til 2017 (se bort fra stemmetall for 2013).\n\nLag et plott over partienes stemmer for 2009, 2013 og 2017. Her skal du bruke stemmetallene rett fra tabellen.\n\nSkriv ut følgende til en ny fil: For hvert parti, skriv ut partiets navn, stemmetall i 2009, stemmetall i 2013, stemmetall i 2017 og estimerte stemmetall for 2021.\n\nEkstra oppgave:\nLag et plott over partienes stemmer for 2009, 2013 og 2017. Her skal du bruke totale stemmetall for hvert valg og beregne partienes prosentvise andel av stemmene."
    },
    {
      "metadata": {
        "trusted": true
      },
      "cell_type": "code",
      "source": "import matplotlib.pyplot as plt\n\nplt.figure(num=None, figsize=(16, 12), dpi=80, facecolor='w', edgecolor='k')\n\nx = ['2009', '2013', '2017']\n\nfor i in range(len(partier)):\n    y = [stemmer2009[i], stemmer2013[i], stemmer2017[i]]\n    plt.plot(x, y, label=partier[i])\n\nplt.legend(loc='best')\nplt.grid()\nplt.show()",
      "execution_count": null,
      "outputs": []
    },
    {
      "metadata": {
        "trusted": true
      },
      "cell_type": "code",
      "source": "",
      "execution_count": null,
      "outputs": []
    },
    {
      "metadata": {
        "trusted": true
      },
      "cell_type": "code",
      "source": "",
      "execution_count": null,
      "outputs": []
    },
    {
      "metadata": {
        "trusted": true
      },
      "cell_type": "code",
      "source": "",
      "execution_count": null,
      "outputs": []
    },
    {
      "metadata": {
        "trusted": true
      },
      "cell_type": "code",
      "source": "",
      "execution_count": null,
      "outputs": []
    },
    {
      "metadata": {
        "trusted": true
      },
      "cell_type": "code",
      "source": "",
      "execution_count": null,
      "outputs": []
    },
    {
      "metadata": {
        "trusted": true
      },
      "cell_type": "code",
      "source": "",
      "execution_count": null,
      "outputs": []
    },
    {
      "metadata": {
        "trusted": true
      },
      "cell_type": "code",
      "source": "",
      "execution_count": null,
      "outputs": []
    },
    {
      "metadata": {
        "trusted": true
      },
      "cell_type": "code",
      "source": "",
      "execution_count": null,
      "outputs": []
    },
    {
      "metadata": {
        "trusted": true
      },
      "cell_type": "code",
      "source": "",
      "execution_count": null,
      "outputs": []
    },
    {
      "metadata": {
        "trusted": true
      },
      "cell_type": "code",
      "source": "",
      "execution_count": null,
      "outputs": []
    },
    {
      "metadata": {
        "trusted": true
      },
      "cell_type": "code",
      "source": "",
      "execution_count": null,
      "outputs": []
    }
  ],
  "metadata": {
    "kernelspec": {
      "name": "python36",
      "display_name": "Python 3.6",
      "language": "python"
    },
    "language_info": {
      "mimetype": "text/x-python",
      "nbconvert_exporter": "python",
      "name": "python",
      "pygments_lexer": "ipython3",
      "version": "3.6.6",
      "file_extension": ".py",
      "codemirror_mode": {
        "version": 3,
        "name": "ipython"
      }
    }
  },
  "nbformat": 4,
  "nbformat_minor": 2
}