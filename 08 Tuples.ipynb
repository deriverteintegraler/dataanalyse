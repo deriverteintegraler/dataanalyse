{
  "cells": [
    {
      "metadata": {},
      "cell_type": "markdown",
      "source": "# Tuples\nEn tuple er en type objekt som ikke kan endres når det er opprettet. Det er en opplisting av ulike elementer.\n\nEn full oversikt over metodene finnes på https://docs.python.org/3/, særlig på https://docs.python.org/3/library/stdtypes.html#tuple, https://docs.python.org/3/library/stdtypes.html#sequence-types-list-tuple-range og https://docs.python.org/3/tutorial/datastructures.html#tuples-and-sequences."
    },
    {
      "metadata": {
        "trusted": true
      },
      "cell_type": "code",
      "source": "a = (3, 7, -1, 'Tekst', [2, 3], 7)\nprint(a)\nprint(type(a))\nprint(a[2])\nprint(a[-1])",
      "execution_count": 1,
      "outputs": [
        {
          "output_type": "stream",
          "text": "(3, 7, -1, 'Tekst', [2, 3], 7)\n<class 'tuple'>\n-1\n7\n",
          "name": "stdout"
        }
      ]
    },
    {
      "metadata": {
        "trusted": true
      },
      "cell_type": "code",
      "source": "print(a.index(7))\nprint(a.count(7))",
      "execution_count": 2,
      "outputs": [
        {
          "output_type": "stream",
          "text": "1\n2\n",
          "name": "stdout"
        }
      ]
    },
    {
      "metadata": {
        "trusted": true
      },
      "cell_type": "code",
      "source": "for element in a:\n    print(element)",
      "execution_count": 3,
      "outputs": [
        {
          "output_type": "stream",
          "text": "3\n7\n-1\nTekst\n[2, 3]\n7\n",
          "name": "stdout"
        }
      ]
    },
    {
      "metadata": {
        "trusted": true
      },
      "cell_type": "code",
      "source": "for i in range(len(a)):\n    print('Nå er vi kommet til element nummer',i)\n    if i%2 == 0:        # Hvis i har null i rest når det deles på to, altså er et partall \n        print('Dette elementet er',a[i])     # Så printes element nummer i fra a.",
      "execution_count": 4,
      "outputs": [
        {
          "output_type": "stream",
          "text": "Nå er vi kommet til element nummer 0\nDette elementet er 3\nNå er vi kommet til element nummer 1\nNå er vi kommet til element nummer 2\nDette elementet er -1\nNå er vi kommet til element nummer 3\nNå er vi kommet til element nummer 4\nDette elementet er [2, 3]\nNå er vi kommet til element nummer 5\n",
          "name": "stdout"
        }
      ]
    },
    {
      "metadata": {},
      "cell_type": "markdown",
      "source": "Vi kan dele opp en tuple på flere måter, f.eks. som vist under."
    },
    {
      "metadata": {
        "trusted": true
      },
      "cell_type": "code",
      "source": "print(a)\n\nb, c, d, e, f, g = a\nprint(b)\nprint(c)\nprint(d)\nprint(e)\nprint(f)\nprint(g)",
      "execution_count": 5,
      "outputs": [
        {
          "output_type": "stream",
          "text": "(3, 7, -1, 'Tekst', [2, 3], 7)\n3\n7\n-1\nTekst\n[2, 3]\n7\n",
          "name": "stdout"
        }
      ]
    },
    {
      "metadata": {},
      "cell_type": "markdown",
      "source": "## Er et element i en tuple?\nVi kan sjekke om et element er i en tuple på flere måter. Her er to tungvinte og en enkel."
    },
    {
      "metadata": {
        "trusted": true
      },
      "cell_type": "code",
      "source": "print(a)",
      "execution_count": 6,
      "outputs": [
        {
          "output_type": "stream",
          "text": "(3, 7, -1, 'Tekst', [2, 3], 7)\n",
          "name": "stdout"
        }
      ]
    },
    {
      "metadata": {
        "trusted": true
      },
      "cell_type": "code",
      "source": "for i in range(len(a)):\n    if a[i] == -1:\n        print('-1 finnes i tuplen a')",
      "execution_count": 7,
      "outputs": [
        {
          "output_type": "stream",
          "text": "-1 finnes i tuplen a\n",
          "name": "stdout"
        }
      ]
    },
    {
      "metadata": {
        "trusted": true
      },
      "cell_type": "code",
      "source": "for element in a:\n    if element == -1:\n        print('-1 finnes i tuplen a')",
      "execution_count": 8,
      "outputs": [
        {
          "output_type": "stream",
          "text": "-1 finnes i tuplen a\n",
          "name": "stdout"
        }
      ]
    },
    {
      "metadata": {
        "trusted": true
      },
      "cell_type": "code",
      "source": "if -1 in a:\n    print('-1 finnes i tuplen a')",
      "execution_count": 9,
      "outputs": [
        {
          "output_type": "stream",
          "text": "-1 finnes i tuplen a\n",
          "name": "stdout"
        }
      ]
    },
    {
      "metadata": {},
      "cell_type": "markdown",
      "source": "Dette kan brukes for å lete etter et element, men bare hvis det eksisterer."
    },
    {
      "metadata": {
        "trusted": true
      },
      "cell_type": "code",
      "source": "def finn_index_hvis_mulig(tuplen, målet):\n    \"\"\"\n    Returnerer indexen til elementet målet dersom målet eksisterer i tuplen.\n    Ellers returneres -1.\n    \"\"\"\n    if målet in tuplen:\n        return(tuplen.index(målet))\n    else:\n        return(-1)",
      "execution_count": 10,
      "outputs": []
    },
    {
      "metadata": {
        "trusted": true
      },
      "cell_type": "code",
      "source": "print(finn_index_hvis_mulig(a, 7))\nprint(finn_index_hvis_mulig(a, 'Tekst'))\nprint(finn_index_hvis_mulig(a, 52))",
      "execution_count": 11,
      "outputs": [
        {
          "output_type": "stream",
          "text": "1\n3\n-1\n",
          "name": "stdout"
        }
      ]
    },
    {
      "metadata": {},
      "cell_type": "markdown",
      "source": "###### Øystein Grøndahl, oktober 2018"
    }
  ],
  "metadata": {
    "kernelspec": {
      "name": "python3",
      "display_name": "Python 3",
      "language": "python"
    },
    "language_info": {
      "mimetype": "text/x-python",
      "nbconvert_exporter": "python",
      "name": "python",
      "pygments_lexer": "ipython3",
      "version": "3.5.4",
      "file_extension": ".py",
      "codemirror_mode": {
        "version": 3,
        "name": "ipython"
      }
    }
  },
  "nbformat": 4,
  "nbformat_minor": 2
}