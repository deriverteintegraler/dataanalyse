{
  "cells": [
    {
      "metadata": {},
      "cell_type": "markdown",
      "source": "# Lese fra og skrive til .csv\nEn .csv-fil er en fil der data er adskilt med et tegn som f.eks. komma, semikolon eller kolon. Navnet er en forkortelse for comma-separated-values. Dette likner en del på å lese fra .txt. Se kommandoer og enkle eksempler her: https://docs.python.org/3/library/csv.html"
    },
    {
      "metadata": {},
      "cell_type": "markdown",
      "source": "Her har vi hentet testdata fra Statistisk sentralbyrå. Dataene gjelder antall arbeidsforhold per fylke i 4. kvartal 2017 og prosentvis endring fra 4. kvartal 2016. Se tabell 2 på denne siden: https://www.ssb.no/arbeid-og-lonn/statistikker/arblonn"
    },
    {
      "metadata": {
        "trusted": true
      },
      "cell_type": "code",
      "source": "import csv\n\nfile = open('arbeidsforhold_2017.csv', 'r')\nreader = csv.reader(file, delimiter = ';')\nfor row in reader:\n    print(row)\n\nfile.close()",
      "execution_count": null,
      "outputs": []
    },
    {
      "metadata": {},
      "cell_type": "markdown",
      "source": "Her ser vi at Ø i Østfold og ø i Sør-Trøndelang og á i Finnmárku ikke skrives riktig. Dette kan ordnes ved å legge til riktig encoding når filen åpnes."
    },
    {
      "metadata": {
        "trusted": true
      },
      "cell_type": "code",
      "source": "import csv\n\nfile = open('arbeidsforhold_2017.csv', 'r', encoding='utf-8')\nreader = csv.reader(file, delimiter = ';')\nfor row in reader:\n    print(row)\n\nfile.close()",
      "execution_count": null,
      "outputs": []
    },
    {
      "metadata": {
        "trusted": true
      },
      "cell_type": "code",
      "source": "fylker = []\nantall_arbeidsforhold = []\nprosent_endring = []\n\nfile = open('arbeidsforhold_2017.csv', 'r', encoding='utf-8')\nreader = csv.reader(file, delimiter = ';')\n\nnext(reader)\nnext(reader)\n\nfor rad in reader:\n    fylker.append(rad[0])\n    antall_arbeidsforhold.append(int(rad[1]))\n    prosent_endring.append(float(rad[2].replace(',','.')))\n    # Her har vi erstattet , med . for å gå fra norsk skrivemåte for desimaltall til engelsk.\n\nfile.close()\n\nfor i in range(len(fylker)):\n    print(fylker[i], antall_arbeidsforhold[i], prosent_endring[i])",
      "execution_count": null,
      "outputs": []
    },
    {
      "metadata": {},
      "cell_type": "markdown",
      "source": "La oss se på sammenhengen mellom antall arbeidsforhold og hvor stor prosentvis endring fylkene opplever. Det er kanskje slik at store fylker opplever mindre prosentvis endringer? Eller kanskje ikke? Vi lager et enkelt scatterplot for å se på dataene."
    },
    {
      "metadata": {
        "trusted": true
      },
      "cell_type": "code",
      "source": "import matplotlib.pyplot as plt\n\nplt.scatter(antall_arbeidsforhold, prosent_endring)\nplt.show()",
      "execution_count": null,
      "outputs": []
    },
    {
      "metadata": {},
      "cell_type": "markdown",
      "source": "## Skrive til .csv-filer\nLa oss modifisere tallene våre ved å anta at vi får samme prosentvis endring i antall arbeidsforhold i løpet av neste år. Vi beregner først verdiene."
    },
    {
      "metadata": {
        "trusted": true
      },
      "cell_type": "code",
      "source": "antall_arbeidsforhold_2018 = [int(round((1+prosent_endring[i]/100)*antall_arbeidsforhold[i],0)) for i in range(len(fylker))]\nprint(antall_arbeidsforhold)\nprint(antall_arbeidsforhold_2018)",
      "execution_count": null,
      "outputs": []
    },
    {
      "metadata": {
        "trusted": true
      },
      "cell_type": "code",
      "source": "# Her er en kontroll på at jeg har regnet riktig.\nfor i in range(len(fylker)):\n    print(round((antall_arbeidsforhold_2018[i]/antall_arbeidsforhold[i]-1)*100, 1), prosent_endring[i])",
      "execution_count": null,
      "outputs": []
    },
    {
      "metadata": {
        "trusted": true
      },
      "cell_type": "code",
      "source": "file = open('arbeidsforhold_2018.csv', 'w', newline='', encoding='utf-8') # newline her hindrer blanke linjer i filen\nwriter = csv.writer(file, delimiter = ';')\n\nwriter.writerow(['Fylke', 'Antall arbeidsforhold'])\nfor i in range(len(fylker)):\n    writer.writerow([fylker[i], antall_arbeidsforhold_2018[i]])\nfile.close()",
      "execution_count": null,
      "outputs": []
    },
    {
      "metadata": {},
      "cell_type": "markdown",
      "source": "Øving: Bruk filen stemmetall_stortingsvalg.csv. Den gir stemmetall for hvert parti i stortingsvalgene 2009, 2013 og 2017. Beregn prosentvis endring i stemmetall fra 2009 til 2013 per parti, og tilsvarende for 2013-2017 per parti. Hvis et parti fikk 100 stemmer i 2009 og 110 i 2013 var prosentvis økning på 10 %. Hvis samme parti i 2017 fikk 105 stemmer var prosentvis endring på -4,5 %. Bruk vanlige avrundingsregler og gi resultatene med en desimal. Skriv resultatet til en ny .csv-fil.\n\nDataene er hentet fra tabell 3 på denne siden: https://www.ssb.no/valg/statistikker/stortingsvalg"
    },
    {
      "metadata": {
        "trusted": true
      },
      "cell_type": "code",
      "source": "# Celle til å lese data",
      "execution_count": null,
      "outputs": []
    },
    {
      "metadata": {
        "trusted": true
      },
      "cell_type": "code",
      "source": "# Celle til å bearbeide data",
      "execution_count": null,
      "outputs": []
    },
    {
      "metadata": {
        "trusted": true
      },
      "cell_type": "code",
      "source": "# Celle til å skrive data",
      "execution_count": null,
      "outputs": []
    }
  ],
  "metadata": {
    "kernelspec": {
      "name": "python3",
      "display_name": "Python 3",
      "language": "python"
    },
    "language_info": {
      "mimetype": "text/x-python",
      "nbconvert_exporter": "python",
      "name": "python",
      "file_extension": ".py",
      "version": "3.5.4",
      "pygments_lexer": "ipython3",
      "codemirror_mode": {
        "version": 3,
        "name": "ipython"
      }
    }
  },
  "nbformat": 4,
  "nbformat_minor": 2
}